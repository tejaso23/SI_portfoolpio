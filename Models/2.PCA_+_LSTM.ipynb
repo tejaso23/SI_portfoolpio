{
 "cells": [
  {
   "cell_type": "markdown",
   "metadata": {
    "id": "P0nQZTjziHer"
   },
   "source": [
    "### GPU Available?"
   ]
  },
  {
   "cell_type": "code",
   "execution_count": 1,
   "metadata": {
    "colab": {
     "base_uri": "https://localhost:8080/"
    },
    "id": "cQChsjb-iGwX",
    "outputId": "3c2299d8-ede3-42b2-ee1c-d30249e6ed3b"
   },
   "outputs": [
    {
     "name": "stdout",
     "output_type": "stream",
     "text": [
      "[name: \"/device:CPU:0\"\n",
      "device_type: \"CPU\"\n",
      "memory_limit: 268435456\n",
      "locality {\n",
      "}\n",
      "incarnation: 2492560803220210234\n",
      "xla_global_id: -1\n",
      "]\n"
     ]
    }
   ],
   "source": [
    "from tensorflow.python.client import device_lib\n",
    "print(device_lib.list_local_devices())"
   ]
  },
  {
   "cell_type": "markdown",
   "metadata": {
    "id": "ZM9x0IGpV2MD"
   },
   "source": [
    "### Data Pulling"
   ]
  },
  {
   "cell_type": "code",
   "execution_count": null,
   "metadata": {
    "id": "cJmrAB6CUyQ2"
   },
   "outputs": [
    {
     "ename": "",
     "evalue": "",
     "output_type": "error",
     "traceback": [
      "\u001b[1;31mRunning cells with 'Python 3.8.8 ('base')' requires ipykernel package.\n",
      "\u001b[1;31mRun the following command to install 'ipykernel' into the Python environment. \n",
      "\u001b[1;31mCommand: 'conda install -n base ipykernel --update-deps --force-reinstall'"
     ]
    }
   ],
   "source": [
    "from pydrive.auth import GoogleAuth \n",
    "from pydrive.drive import GoogleDrive \n",
    "from google.colab import auth \n",
    "from oauth2client.client import GoogleCredentials \n",
    "  \n",
    "  \n",
    "# Authenticate and create the PyDrive client. \n",
    "auth.authenticate_user() \n",
    "gauth = GoogleAuth() \n",
    "gauth.credentials = GoogleCredentials.get_application_default() \n",
    "drive = GoogleDrive(gauth)"
   ]
  },
  {
   "cell_type": "code",
   "execution_count": 3,
   "metadata": {
    "id": "SL7CkZVeVmdA"
   },
   "outputs": [
    {
     "ename": "NameError",
     "evalue": "name 'downloaded' is not defined",
     "output_type": "error",
     "traceback": [
      "\u001b[1;31m---------------------------------------------------------------------------\u001b[0m",
      "\u001b[1;31mNameError\u001b[0m                                 Traceback (most recent call last)",
      "\u001b[1;32m<ipython-input-3-a076c2b77106>\u001b[0m in \u001b[0;36m<module>\u001b[1;34m\u001b[0m\n\u001b[0;32m      1\u001b[0m \u001b[1;31m#This part linkes the dataset in the drive to the google colab file\u001b[0m\u001b[1;33m\u001b[0m\u001b[1;33m\u001b[0m\u001b[1;33m\u001b[0m\u001b[0m\n\u001b[0;32m      2\u001b[0m \u001b[1;33m\u001b[0m\u001b[0m\n\u001b[1;32m----> 3\u001b[1;33m \u001b[0mdownloaded\u001b[0m\u001b[1;33m.\u001b[0m\u001b[0mGetContentFile\u001b[0m\u001b[1;33m(\u001b[0m\u001b[1;34m'stockprizes.csv'\u001b[0m\u001b[1;33m)\u001b[0m\u001b[1;33m\u001b[0m\u001b[1;33m\u001b[0m\u001b[0m\n\u001b[0m",
      "\u001b[1;31mNameError\u001b[0m: name 'downloaded' is not defined"
     ]
    }
   ],
   "source": [
    "#This part linkes the dataset in the drive to the google colab file\n",
    "link = 'https://drive.google.com/file/d/1GEsalW5I7kD50HaBdUgUZSk1d3qBM1Z5/view?usp=sharing'\n",
    "id = link.split('/')[-2]\n",
    "downloaded = drive.CreateFile({'id' : id})\n",
    "downloaded.GetContentFile('stockprizes.csv')"
   ]
  },
  {
   "cell_type": "code",
   "execution_count": 2,
   "metadata": {
    "colab": {
     "base_uri": "https://localhost:8080/"
    },
    "id": "VPJRYLd_VoYt",
    "outputId": "3c7a931e-a58f-449b-b548-5a5e962c33a7"
   },
   "outputs": [
    {
     "name": "stdout",
     "output_type": "stream",
     "text": [
      "<class 'pandas.core.frame.DataFrame'>\n",
      "RangeIndex: 591628 entries, 0 to 591627\n",
      "Data columns (total 3 columns):\n",
      " #   Column  Non-Null Count   Dtype         \n",
      "---  ------  --------------   -----         \n",
      " 0   Date    591628 non-null  datetime64[ns]\n",
      " 1   Index   591628 non-null  object        \n",
      " 2   Close   591599 non-null  float64       \n",
      "dtypes: datetime64[ns](1), float64(1), object(1)\n",
      "memory usage: 13.5+ MB\n"
     ]
    }
   ],
   "source": [
    "import pandas as pd\n",
    "import numpy as np\n",
    "import matplotlib.pyplot as plt\n",
    "import seaborn as sns\n",
    "%matplotlib inline\n",
    "\n",
    "df = pd.read_csv('stockprizes.csv')\n",
    "df[\"DailyRet\"] = 0\n",
    "df[\"20DayRet\"] = 0\n",
    "df[\"20DayVol\"] = 0\n",
    "df[\"Z20DayRet\"] = 0\n",
    "df['Z20DayVol'] = 0\n",
    "df['Date']= pd.to_datetime(df['Date'])\n",
    "df_close = df[['Date', 'Index', 'Close']] \n",
    "df_close.info()\n",
    "df_close = df_close.pivot_table(index = 'Date', columns = 'Index', values = 'Close').dropna(axis=1)\n",
    "stocks_tickers = df_close.columns"
   ]
  },
  {
   "cell_type": "code",
   "execution_count": 3,
   "metadata": {
    "id": "_i1A4L8-M9Yf"
   },
   "outputs": [],
   "source": [
    "#Saving Trading Days\n",
    "dates = df_close.index\n",
    "\n",
    "#Saving Stocks\n",
    "stocks = df_close.columns"
   ]
  },
  {
   "cell_type": "markdown",
   "metadata": {
    "id": "z1z2hA7Ca2Uu"
   },
   "source": [
    "# Feature Engineering"
   ]
  },
  {
   "cell_type": "code",
   "execution_count": 4,
   "metadata": {
    "colab": {
     "base_uri": "https://localhost:8080/",
     "height": 400
    },
    "id": "JRy3b1HGa5pJ",
    "outputId": "39271602-cdef-4339-a4fe-be68e59e4918"
   },
   "outputs": [
    {
     "data": {
      "text/html": [
       "<div>\n",
       "<style scoped>\n",
       "    .dataframe tbody tr th:only-of-type {\n",
       "        vertical-align: middle;\n",
       "    }\n",
       "\n",
       "    .dataframe tbody tr th {\n",
       "        vertical-align: top;\n",
       "    }\n",
       "\n",
       "    .dataframe thead tr th {\n",
       "        text-align: left;\n",
       "    }\n",
       "\n",
       "    .dataframe thead tr:last-of-type th {\n",
       "        text-align: right;\n",
       "    }\n",
       "</style>\n",
       "<table border=\"1\" class=\"dataframe\">\n",
       "  <thead>\n",
       "    <tr>\n",
       "      <th>Index</th>\n",
       "      <th colspan=\"10\" halign=\"left\">A</th>\n",
       "      <th>...</th>\n",
       "      <th colspan=\"10\" halign=\"left\">T</th>\n",
       "    </tr>\n",
       "    <tr>\n",
       "      <th></th>\n",
       "      <th>20DayRet</th>\n",
       "      <th>20DayVol</th>\n",
       "      <th>Adjusted</th>\n",
       "      <th>Close</th>\n",
       "      <th>DailyRet</th>\n",
       "      <th>High</th>\n",
       "      <th>Low</th>\n",
       "      <th>Open</th>\n",
       "      <th>Volume</th>\n",
       "      <th>Z20DayRet</th>\n",
       "      <th>...</th>\n",
       "      <th>20DayVol</th>\n",
       "      <th>Adjusted</th>\n",
       "      <th>Close</th>\n",
       "      <th>DailyRet</th>\n",
       "      <th>High</th>\n",
       "      <th>Low</th>\n",
       "      <th>Open</th>\n",
       "      <th>Volume</th>\n",
       "      <th>Z20DayRet</th>\n",
       "      <th>Z20DayVol</th>\n",
       "    </tr>\n",
       "    <tr>\n",
       "      <th>Date</th>\n",
       "      <th></th>\n",
       "      <th></th>\n",
       "      <th></th>\n",
       "      <th></th>\n",
       "      <th></th>\n",
       "      <th></th>\n",
       "      <th></th>\n",
       "      <th></th>\n",
       "      <th></th>\n",
       "      <th></th>\n",
       "      <th></th>\n",
       "      <th></th>\n",
       "      <th></th>\n",
       "      <th></th>\n",
       "      <th></th>\n",
       "      <th></th>\n",
       "      <th></th>\n",
       "      <th></th>\n",
       "      <th></th>\n",
       "      <th></th>\n",
       "      <th></th>\n",
       "    </tr>\n",
       "  </thead>\n",
       "  <tbody>\n",
       "    <tr>\n",
       "      <th>2002-11-18</th>\n",
       "      <td>NaN</td>\n",
       "      <td>NaN</td>\n",
       "      <td>8.323743</td>\n",
       "      <td>9.728183</td>\n",
       "      <td>NaN</td>\n",
       "      <td>10.071531</td>\n",
       "      <td>9.670959</td>\n",
       "      <td>9.799714</td>\n",
       "      <td>2996613.0</td>\n",
       "      <td>NaN</td>\n",
       "      <td>...</td>\n",
       "      <td>NaN</td>\n",
       "      <td>4.537619</td>\n",
       "      <td>19.365559</td>\n",
       "      <td>NaN</td>\n",
       "      <td>19.667673</td>\n",
       "      <td>18.882175</td>\n",
       "      <td>19.214502</td>\n",
       "      <td>10821052.0</td>\n",
       "      <td>NaN</td>\n",
       "      <td>NaN</td>\n",
       "    </tr>\n",
       "    <tr>\n",
       "      <th>2002-11-19</th>\n",
       "      <td>NaN</td>\n",
       "      <td>NaN</td>\n",
       "      <td>10.159863</td>\n",
       "      <td>11.874106</td>\n",
       "      <td>0.220588</td>\n",
       "      <td>12.210300</td>\n",
       "      <td>10.515021</td>\n",
       "      <td>10.550787</td>\n",
       "      <td>18513155.0</td>\n",
       "      <td>NaN</td>\n",
       "      <td>...</td>\n",
       "      <td>NaN</td>\n",
       "      <td>4.509303</td>\n",
       "      <td>19.244713</td>\n",
       "      <td>-0.006240</td>\n",
       "      <td>19.410875</td>\n",
       "      <td>18.935045</td>\n",
       "      <td>19.335346</td>\n",
       "      <td>8903238.0</td>\n",
       "      <td>NaN</td>\n",
       "      <td>NaN</td>\n",
       "    </tr>\n",
       "    <tr>\n",
       "      <th>2002-11-20</th>\n",
       "      <td>NaN</td>\n",
       "      <td>NaN</td>\n",
       "      <td>10.410803</td>\n",
       "      <td>12.167382</td>\n",
       "      <td>0.024699</td>\n",
       "      <td>12.303290</td>\n",
       "      <td>11.452074</td>\n",
       "      <td>11.866953</td>\n",
       "      <td>6616874.0</td>\n",
       "      <td>NaN</td>\n",
       "      <td>...</td>\n",
       "      <td>NaN</td>\n",
       "      <td>4.636724</td>\n",
       "      <td>19.788521</td>\n",
       "      <td>0.028258</td>\n",
       "      <td>20.279455</td>\n",
       "      <td>19.040785</td>\n",
       "      <td>19.123867</td>\n",
       "      <td>12969639.0</td>\n",
       "      <td>NaN</td>\n",
       "      <td>NaN</td>\n",
       "    </tr>\n",
       "    <tr>\n",
       "      <th>2002-11-21</th>\n",
       "      <td>NaN</td>\n",
       "      <td>NaN</td>\n",
       "      <td>11.163611</td>\n",
       "      <td>13.047210</td>\n",
       "      <td>0.072310</td>\n",
       "      <td>13.261803</td>\n",
       "      <td>12.439199</td>\n",
       "      <td>12.446352</td>\n",
       "      <td>7871020.0</td>\n",
       "      <td>NaN</td>\n",
       "      <td>...</td>\n",
       "      <td>NaN</td>\n",
       "      <td>4.863253</td>\n",
       "      <td>20.755287</td>\n",
       "      <td>0.048855</td>\n",
       "      <td>21.095165</td>\n",
       "      <td>19.728098</td>\n",
       "      <td>19.788521</td>\n",
       "      <td>14758231.0</td>\n",
       "      <td>NaN</td>\n",
       "      <td>NaN</td>\n",
       "    </tr>\n",
       "    <tr>\n",
       "      <th>2002-11-22</th>\n",
       "      <td>NaN</td>\n",
       "      <td>NaN</td>\n",
       "      <td>11.169734</td>\n",
       "      <td>13.054363</td>\n",
       "      <td>0.000548</td>\n",
       "      <td>13.412017</td>\n",
       "      <td>12.875536</td>\n",
       "      <td>13.054363</td>\n",
       "      <td>4724960.0</td>\n",
       "      <td>NaN</td>\n",
       "      <td>...</td>\n",
       "      <td>NaN</td>\n",
       "      <td>4.875641</td>\n",
       "      <td>20.808157</td>\n",
       "      <td>0.002547</td>\n",
       "      <td>21.283989</td>\n",
       "      <td>20.475830</td>\n",
       "      <td>20.762840</td>\n",
       "      <td>10615435.0</td>\n",
       "      <td>NaN</td>\n",
       "      <td>NaN</td>\n",
       "    </tr>\n",
       "  </tbody>\n",
       "</table>\n",
       "<p>5 rows × 1100 columns</p>\n",
       "</div>"
      ],
      "text/plain": [
       "Index             A                                                      \\\n",
       "           20DayRet 20DayVol   Adjusted      Close  DailyRet       High   \n",
       "Date                                                                      \n",
       "2002-11-18      NaN      NaN   8.323743   9.728183       NaN  10.071531   \n",
       "2002-11-19      NaN      NaN  10.159863  11.874106  0.220588  12.210300   \n",
       "2002-11-20      NaN      NaN  10.410803  12.167382  0.024699  12.303290   \n",
       "2002-11-21      NaN      NaN  11.163611  13.047210  0.072310  13.261803   \n",
       "2002-11-22      NaN      NaN  11.169734  13.054363  0.000548  13.412017   \n",
       "\n",
       "Index                                                   ...        T  \\\n",
       "                  Low       Open      Volume Z20DayRet  ... 20DayVol   \n",
       "Date                                                    ...            \n",
       "2002-11-18   9.670959   9.799714   2996613.0       NaN  ...      NaN   \n",
       "2002-11-19  10.515021  10.550787  18513155.0       NaN  ...      NaN   \n",
       "2002-11-20  11.452074  11.866953   6616874.0       NaN  ...      NaN   \n",
       "2002-11-21  12.439199  12.446352   7871020.0       NaN  ...      NaN   \n",
       "2002-11-22  12.875536  13.054363   4724960.0       NaN  ...      NaN   \n",
       "\n",
       "Index                                                                       \\\n",
       "            Adjusted      Close  DailyRet       High        Low       Open   \n",
       "Date                                                                         \n",
       "2002-11-18  4.537619  19.365559       NaN  19.667673  18.882175  19.214502   \n",
       "2002-11-19  4.509303  19.244713 -0.006240  19.410875  18.935045  19.335346   \n",
       "2002-11-20  4.636724  19.788521  0.028258  20.279455  19.040785  19.123867   \n",
       "2002-11-21  4.863253  20.755287  0.048855  21.095165  19.728098  19.788521   \n",
       "2002-11-22  4.875641  20.808157  0.002547  21.283989  20.475830  20.762840   \n",
       "\n",
       "Index                                       \n",
       "                Volume Z20DayRet Z20DayVol  \n",
       "Date                                        \n",
       "2002-11-18  10821052.0       NaN       NaN  \n",
       "2002-11-19   8903238.0       NaN       NaN  \n",
       "2002-11-20  12969639.0       NaN       NaN  \n",
       "2002-11-21  14758231.0       NaN       NaN  \n",
       "2002-11-22  10615435.0       NaN       NaN  \n",
       "\n",
       "[5 rows x 1100 columns]"
      ]
     },
     "execution_count": 4,
     "metadata": {},
     "output_type": "execute_result"
    }
   ],
   "source": [
    "raw_df = df.drop(columns = ['Unnamed: 0']).set_index(['Date' , 'Index']).unstack(level = 1).stack(level = 0).unstack()\n",
    "raw_df = raw_df.dropna(axis = 1)\n",
    "for stock in stocks_tickers:\n",
    "  #Calculate Daily Returns\n",
    "  raw_df.loc[:, (stock, 'DailyRet')] = raw_df[stock][\"Close\"].pct_change()\n",
    "  #Calculate 20-Day Returns\n",
    "  raw_df.loc[:, (stock, '20DayRet')] = raw_df[stock][\"Close\"].pct_change(20)\n",
    "  #Calculate Rolling 20 day volatility \n",
    "  roller = raw_df[stock][\"DailyRet\"].rolling(20)\n",
    "  raw_df.loc[:, (stock, '20DayVol')] = roller.std(ddof=0)\n",
    "  \n",
    "  '''Normalize data with the rolling 252'''\n",
    "  #Normalize 20 Day Returns \n",
    "  rolling_year_ret = raw_df[stock][\"20DayRet\"].rolling(252)\n",
    "  raw_df.loc[:, (stock, 'Z20DayRet')] = (rolling_year_ret.mean().shift(1) - raw_df[stock]['20DayRet']) / rolling_year_ret.std(ddof=0).shift(1)\n",
    "  #Normalize 20 Day Volatility\n",
    "  rolling_year_vol = raw_df[stock][\"20DayVol\"].rolling(252)\n",
    "  raw_df.loc[:, (stock, 'Z20DayVol')] = (rolling_year_vol.mean().shift(1) - raw_df[stock]['20DayVol']) / rolling_year_vol.std(ddof=0).shift(1) \n",
    "\n",
    "raw_df.head(5)  "
   ]
  },
  {
   "cell_type": "code",
   "execution_count": 5,
   "metadata": {
    "id": "2nvpS5W4aMzV"
   },
   "outputs": [],
   "source": [
    "#DROP ROWS WITH NA vals \n",
    "full_feature_dataset = raw_df.dropna(axis=0)"
   ]
  },
  {
   "cell_type": "code",
   "execution_count": 6,
   "metadata": {
    "id": "luQBo0Acaw9e"
   },
   "outputs": [
    {
     "ename": "KeyError",
     "evalue": "\"['Open' 'High' 'Low' 'Close' 'Adjusted' 'Volume' 'DailyRet' 'Z20DayRet'\\n 'Z20DayVol'] not in index\"",
     "output_type": "error",
     "traceback": [
      "\u001b[1;31m---------------------------------------------------------------------------\u001b[0m",
      "\u001b[1;31mKeyError\u001b[0m                                  Traceback (most recent call last)",
      "\u001b[1;32m<ipython-input-6-1ee6135cb348>\u001b[0m in \u001b[0;36m<module>\u001b[1;34m\u001b[0m\n\u001b[1;32m----> 1\u001b[1;33m \u001b[0mfull_features\u001b[0m \u001b[1;33m=\u001b[0m \u001b[0mraw_df\u001b[0m\u001b[1;33m[\u001b[0m\u001b[1;33m[\u001b[0m\u001b[1;34m'Open'\u001b[0m\u001b[1;33m,\u001b[0m \u001b[1;34m'High'\u001b[0m\u001b[1;33m,\u001b[0m \u001b[1;34m'Low'\u001b[0m\u001b[1;33m,\u001b[0m \u001b[1;34m'Close'\u001b[0m\u001b[1;33m,\u001b[0m \u001b[1;34m'Adjusted'\u001b[0m\u001b[1;33m,\u001b[0m \u001b[1;34m'Volume'\u001b[0m\u001b[1;33m,\u001b[0m \u001b[1;34m'DailyRet'\u001b[0m\u001b[1;33m,\u001b[0m \u001b[1;34m'Z20DayRet'\u001b[0m\u001b[1;33m,\u001b[0m \u001b[1;34m'Z20DayVol'\u001b[0m\u001b[1;33m]\u001b[0m\u001b[1;33m]\u001b[0m\u001b[1;33m.\u001b[0m\u001b[0mcolumns\u001b[0m\u001b[1;33m.\u001b[0m\u001b[0mremove_unused_levels\u001b[0m\u001b[1;33m(\u001b[0m\u001b[1;33m)\u001b[0m\u001b[1;33m\u001b[0m\u001b[1;33m\u001b[0m\u001b[0m\n\u001b[0m",
      "\u001b[1;32m~\\anaconda3\\lib\\site-packages\\pandas\\core\\frame.py\u001b[0m in \u001b[0;36m__getitem__\u001b[1;34m(self, key)\u001b[0m\n\u001b[0;32m   2804\u001b[0m             \u001b[1;32mif\u001b[0m \u001b[0mis_iterator\u001b[0m\u001b[1;33m(\u001b[0m\u001b[0mkey\u001b[0m\u001b[1;33m)\u001b[0m\u001b[1;33m:\u001b[0m\u001b[1;33m\u001b[0m\u001b[1;33m\u001b[0m\u001b[0m\n\u001b[0;32m   2805\u001b[0m                 \u001b[0mkey\u001b[0m \u001b[1;33m=\u001b[0m \u001b[0mlist\u001b[0m\u001b[1;33m(\u001b[0m\u001b[0mkey\u001b[0m\u001b[1;33m)\u001b[0m\u001b[1;33m\u001b[0m\u001b[1;33m\u001b[0m\u001b[0m\n\u001b[1;32m-> 2806\u001b[1;33m             \u001b[0mindexer\u001b[0m \u001b[1;33m=\u001b[0m \u001b[0mself\u001b[0m\u001b[1;33m.\u001b[0m\u001b[0mloc\u001b[0m\u001b[1;33m.\u001b[0m\u001b[0m_get_listlike_indexer\u001b[0m\u001b[1;33m(\u001b[0m\u001b[0mkey\u001b[0m\u001b[1;33m,\u001b[0m \u001b[0maxis\u001b[0m\u001b[1;33m=\u001b[0m\u001b[1;36m1\u001b[0m\u001b[1;33m,\u001b[0m \u001b[0mraise_missing\u001b[0m\u001b[1;33m=\u001b[0m\u001b[1;32mTrue\u001b[0m\u001b[1;33m)\u001b[0m\u001b[1;33m[\u001b[0m\u001b[1;36m1\u001b[0m\u001b[1;33m]\u001b[0m\u001b[1;33m\u001b[0m\u001b[1;33m\u001b[0m\u001b[0m\n\u001b[0m\u001b[0;32m   2807\u001b[0m \u001b[1;33m\u001b[0m\u001b[0m\n\u001b[0;32m   2808\u001b[0m         \u001b[1;31m# take() does not accept boolean indexers\u001b[0m\u001b[1;33m\u001b[0m\u001b[1;33m\u001b[0m\u001b[1;33m\u001b[0m\u001b[0m\n",
      "\u001b[1;32m~\\anaconda3\\lib\\site-packages\\pandas\\core\\indexing.py\u001b[0m in \u001b[0;36m_get_listlike_indexer\u001b[1;34m(self, key, axis, raise_missing)\u001b[0m\n\u001b[0;32m   1534\u001b[0m         \u001b[1;31m# Have the index compute an indexer or return None\u001b[0m\u001b[1;33m\u001b[0m\u001b[1;33m\u001b[0m\u001b[1;33m\u001b[0m\u001b[0m\n\u001b[0;32m   1535\u001b[0m         \u001b[1;31m# if it cannot handle:\u001b[0m\u001b[1;33m\u001b[0m\u001b[1;33m\u001b[0m\u001b[1;33m\u001b[0m\u001b[0m\n\u001b[1;32m-> 1536\u001b[1;33m         \u001b[0mindexer\u001b[0m\u001b[1;33m,\u001b[0m \u001b[0mkeyarr\u001b[0m \u001b[1;33m=\u001b[0m \u001b[0max\u001b[0m\u001b[1;33m.\u001b[0m\u001b[0m_convert_listlike_indexer\u001b[0m\u001b[1;33m(\u001b[0m\u001b[0mkey\u001b[0m\u001b[1;33m,\u001b[0m \u001b[0mkind\u001b[0m\u001b[1;33m=\u001b[0m\u001b[0mself\u001b[0m\u001b[1;33m.\u001b[0m\u001b[0mname\u001b[0m\u001b[1;33m)\u001b[0m\u001b[1;33m\u001b[0m\u001b[1;33m\u001b[0m\u001b[0m\n\u001b[0m\u001b[0;32m   1537\u001b[0m         \u001b[1;31m# We only act on all found values:\u001b[0m\u001b[1;33m\u001b[0m\u001b[1;33m\u001b[0m\u001b[1;33m\u001b[0m\u001b[0m\n\u001b[0;32m   1538\u001b[0m         \u001b[1;32mif\u001b[0m \u001b[0mindexer\u001b[0m \u001b[1;32mis\u001b[0m \u001b[1;32mnot\u001b[0m \u001b[1;32mNone\u001b[0m \u001b[1;32mand\u001b[0m \u001b[1;33m(\u001b[0m\u001b[0mindexer\u001b[0m \u001b[1;33m!=\u001b[0m \u001b[1;33m-\u001b[0m\u001b[1;36m1\u001b[0m\u001b[1;33m)\u001b[0m\u001b[1;33m.\u001b[0m\u001b[0mall\u001b[0m\u001b[1;33m(\u001b[0m\u001b[1;33m)\u001b[0m\u001b[1;33m:\u001b[0m\u001b[1;33m\u001b[0m\u001b[1;33m\u001b[0m\u001b[0m\n",
      "\u001b[1;32m~\\anaconda3\\lib\\site-packages\\pandas\\core\\indexes\\multi.py\u001b[0m in \u001b[0;36m_convert_listlike_indexer\u001b[1;34m(self, keyarr, kind)\u001b[0m\n\u001b[0;32m   2324\u001b[0m             \u001b[0mmask\u001b[0m \u001b[1;33m=\u001b[0m \u001b[0mcheck\u001b[0m \u001b[1;33m==\u001b[0m \u001b[1;33m-\u001b[0m\u001b[1;36m1\u001b[0m\u001b[1;33m\u001b[0m\u001b[1;33m\u001b[0m\u001b[0m\n\u001b[0;32m   2325\u001b[0m             \u001b[1;32mif\u001b[0m \u001b[0mmask\u001b[0m\u001b[1;33m.\u001b[0m\u001b[0many\u001b[0m\u001b[1;33m(\u001b[0m\u001b[1;33m)\u001b[0m\u001b[1;33m:\u001b[0m\u001b[1;33m\u001b[0m\u001b[1;33m\u001b[0m\u001b[0m\n\u001b[1;32m-> 2326\u001b[1;33m                 \u001b[1;32mraise\u001b[0m \u001b[0mKeyError\u001b[0m\u001b[1;33m(\u001b[0m\u001b[1;34mf\"{keyarr[mask]} not in index\"\u001b[0m\u001b[1;33m)\u001b[0m\u001b[1;33m\u001b[0m\u001b[1;33m\u001b[0m\u001b[0m\n\u001b[0m\u001b[0;32m   2327\u001b[0m \u001b[1;33m\u001b[0m\u001b[0m\n\u001b[0;32m   2328\u001b[0m         \u001b[1;32mreturn\u001b[0m \u001b[0mindexer\u001b[0m\u001b[1;33m,\u001b[0m \u001b[0mkeyarr\u001b[0m\u001b[1;33m\u001b[0m\u001b[1;33m\u001b[0m\u001b[0m\n",
      "\u001b[1;31mKeyError\u001b[0m: \"['Open' 'High' 'Low' 'Close' 'Adjusted' 'Volume' 'DailyRet' 'Z20DayRet'\\n 'Z20DayVol'] not in index\""
     ]
    }
   ],
   "source": [
    "full_features = raw_df[['Open', 'High', 'Low', 'Close', 'Adjusted', 'Volume', 'DailyRet', 'Z20DayRet', 'Z20DayVol']].columns.remove_unused_levels()"
   ]
  },
  {
   "cell_type": "markdown",
   "metadata": {
    "id": "2LQxCVLguZ8c"
   },
   "source": [
    "# Principal Component Analysis"
   ]
  },
  {
   "cell_type": "code",
   "execution_count": 7,
   "metadata": {
    "colab": {
     "base_uri": "https://localhost:8080/",
     "height": 400
    },
    "id": "8V0L3gkhuixn",
    "outputId": "f37ba04b-4108-4c87-9ba0-c112af2707bc"
   },
   "outputs": [
    {
     "data": {
      "text/html": [
       "<div>\n",
       "<style scoped>\n",
       "    .dataframe tbody tr th:only-of-type {\n",
       "        vertical-align: middle;\n",
       "    }\n",
       "\n",
       "    .dataframe tbody tr th {\n",
       "        vertical-align: top;\n",
       "    }\n",
       "\n",
       "    .dataframe thead tr th {\n",
       "        text-align: left;\n",
       "    }\n",
       "\n",
       "    .dataframe thead tr:last-of-type th {\n",
       "        text-align: right;\n",
       "    }\n",
       "</style>\n",
       "<table border=\"1\" class=\"dataframe\">\n",
       "  <thead>\n",
       "    <tr>\n",
       "      <th>Index</th>\n",
       "      <th colspan=\"10\" halign=\"left\">A</th>\n",
       "      <th>...</th>\n",
       "      <th colspan=\"10\" halign=\"left\">T</th>\n",
       "    </tr>\n",
       "    <tr>\n",
       "      <th></th>\n",
       "      <th>20DayRet</th>\n",
       "      <th>20DayVol</th>\n",
       "      <th>Adjusted</th>\n",
       "      <th>Close</th>\n",
       "      <th>DailyRet</th>\n",
       "      <th>High</th>\n",
       "      <th>Low</th>\n",
       "      <th>Open</th>\n",
       "      <th>Volume</th>\n",
       "      <th>Z20DayRet</th>\n",
       "      <th>...</th>\n",
       "      <th>20DayVol</th>\n",
       "      <th>Adjusted</th>\n",
       "      <th>Close</th>\n",
       "      <th>DailyRet</th>\n",
       "      <th>High</th>\n",
       "      <th>Low</th>\n",
       "      <th>Open</th>\n",
       "      <th>Volume</th>\n",
       "      <th>Z20DayRet</th>\n",
       "      <th>Z20DayVol</th>\n",
       "    </tr>\n",
       "    <tr>\n",
       "      <th>Date</th>\n",
       "      <th></th>\n",
       "      <th></th>\n",
       "      <th></th>\n",
       "      <th></th>\n",
       "      <th></th>\n",
       "      <th></th>\n",
       "      <th></th>\n",
       "      <th></th>\n",
       "      <th></th>\n",
       "      <th></th>\n",
       "      <th></th>\n",
       "      <th></th>\n",
       "      <th></th>\n",
       "      <th></th>\n",
       "      <th></th>\n",
       "      <th></th>\n",
       "      <th></th>\n",
       "      <th></th>\n",
       "      <th></th>\n",
       "      <th></th>\n",
       "      <th></th>\n",
       "    </tr>\n",
       "  </thead>\n",
       "  <tbody>\n",
       "    <tr>\n",
       "      <th>2003-12-17</th>\n",
       "      <td>-0.021246</td>\n",
       "      <td>0.016019</td>\n",
       "      <td>16.635254</td>\n",
       "      <td>19.442060</td>\n",
       "      <td>-0.010197</td>\n",
       "      <td>19.685265</td>\n",
       "      <td>19.141630</td>\n",
       "      <td>19.678112</td>\n",
       "      <td>2362480.0</td>\n",
       "      <td>0.512653</td>\n",
       "      <td>...</td>\n",
       "      <td>0.012303</td>\n",
       "      <td>4.777606</td>\n",
       "      <td>18.935045</td>\n",
       "      <td>0.011703</td>\n",
       "      <td>18.957705</td>\n",
       "      <td>18.738670</td>\n",
       "      <td>18.791540</td>\n",
       "      <td>11758841.0</td>\n",
       "      <td>-0.995490</td>\n",
       "      <td>1.159951</td>\n",
       "    </tr>\n",
       "    <tr>\n",
       "      <th>2003-12-18</th>\n",
       "      <td>0.004332</td>\n",
       "      <td>0.016875</td>\n",
       "      <td>17.026953</td>\n",
       "      <td>19.899857</td>\n",
       "      <td>0.023547</td>\n",
       "      <td>20.100143</td>\n",
       "      <td>19.313305</td>\n",
       "      <td>19.313305</td>\n",
       "      <td>3739370.0</td>\n",
       "      <td>0.309948</td>\n",
       "      <td>...</td>\n",
       "      <td>0.012212</td>\n",
       "      <td>4.823344</td>\n",
       "      <td>19.116314</td>\n",
       "      <td>0.009573</td>\n",
       "      <td>19.138973</td>\n",
       "      <td>18.927492</td>\n",
       "      <td>18.972811</td>\n",
       "      <td>11449952.0</td>\n",
       "      <td>-1.156730</td>\n",
       "      <td>1.163700</td>\n",
       "    </tr>\n",
       "    <tr>\n",
       "      <th>2003-12-19</th>\n",
       "      <td>0.027533</td>\n",
       "      <td>0.016454</td>\n",
       "      <td>17.131004</td>\n",
       "      <td>20.021460</td>\n",
       "      <td>0.006111</td>\n",
       "      <td>20.207439</td>\n",
       "      <td>19.914164</td>\n",
       "      <td>20.185980</td>\n",
       "      <td>5827144.0</td>\n",
       "      <td>0.131322</td>\n",
       "      <td>...</td>\n",
       "      <td>0.012174</td>\n",
       "      <td>4.810004</td>\n",
       "      <td>19.063444</td>\n",
       "      <td>-0.002766</td>\n",
       "      <td>19.327795</td>\n",
       "      <td>18.912388</td>\n",
       "      <td>19.184290</td>\n",
       "      <td>18629739.0</td>\n",
       "      <td>-1.167849</td>\n",
       "      <td>1.159862</td>\n",
       "    </tr>\n",
       "    <tr>\n",
       "      <th>2003-12-22</th>\n",
       "      <td>0.043398</td>\n",
       "      <td>0.016640</td>\n",
       "      <td>17.363579</td>\n",
       "      <td>20.293276</td>\n",
       "      <td>0.013576</td>\n",
       "      <td>20.386267</td>\n",
       "      <td>19.914164</td>\n",
       "      <td>20.028612</td>\n",
       "      <td>2859469.0</td>\n",
       "      <td>0.010707</td>\n",
       "      <td>...</td>\n",
       "      <td>0.012196</td>\n",
       "      <td>4.850023</td>\n",
       "      <td>19.222054</td>\n",
       "      <td>0.008320</td>\n",
       "      <td>19.222054</td>\n",
       "      <td>18.904835</td>\n",
       "      <td>19.033234</td>\n",
       "      <td>10245377.0</td>\n",
       "      <td>-1.211672</td>\n",
       "      <td>1.147321</td>\n",
       "    </tr>\n",
       "    <tr>\n",
       "      <th>2003-12-23</th>\n",
       "      <td>0.020578</td>\n",
       "      <td>0.016239</td>\n",
       "      <td>17.302368</td>\n",
       "      <td>20.221745</td>\n",
       "      <td>-0.003525</td>\n",
       "      <td>20.314735</td>\n",
       "      <td>20.107296</td>\n",
       "      <td>20.171675</td>\n",
       "      <td>2761330.0</td>\n",
       "      <td>0.187924</td>\n",
       "      <td>...</td>\n",
       "      <td>0.012374</td>\n",
       "      <td>4.825250</td>\n",
       "      <td>19.123867</td>\n",
       "      <td>-0.005108</td>\n",
       "      <td>19.358006</td>\n",
       "      <td>19.025681</td>\n",
       "      <td>19.033234</td>\n",
       "      <td>9203786.0</td>\n",
       "      <td>-1.127273</td>\n",
       "      <td>1.112602</td>\n",
       "    </tr>\n",
       "  </tbody>\n",
       "</table>\n",
       "<p>5 rows × 1100 columns</p>\n",
       "</div>"
      ],
      "text/plain": [
       "Index              A                                                       \\\n",
       "            20DayRet  20DayVol   Adjusted      Close  DailyRet       High   \n",
       "Date                                                                        \n",
       "2003-12-17 -0.021246  0.016019  16.635254  19.442060 -0.010197  19.685265   \n",
       "2003-12-18  0.004332  0.016875  17.026953  19.899857  0.023547  20.100143   \n",
       "2003-12-19  0.027533  0.016454  17.131004  20.021460  0.006111  20.207439   \n",
       "2003-12-22  0.043398  0.016640  17.363579  20.293276  0.013576  20.386267   \n",
       "2003-12-23  0.020578  0.016239  17.302368  20.221745 -0.003525  20.314735   \n",
       "\n",
       "Index                                                  ...         T  \\\n",
       "                  Low       Open     Volume Z20DayRet  ...  20DayVol   \n",
       "Date                                                   ...             \n",
       "2003-12-17  19.141630  19.678112  2362480.0  0.512653  ...  0.012303   \n",
       "2003-12-18  19.313305  19.313305  3739370.0  0.309948  ...  0.012212   \n",
       "2003-12-19  19.914164  20.185980  5827144.0  0.131322  ...  0.012174   \n",
       "2003-12-22  19.914164  20.028612  2859469.0  0.010707  ...  0.012196   \n",
       "2003-12-23  20.107296  20.171675  2761330.0  0.187924  ...  0.012374   \n",
       "\n",
       "Index                                                                       \\\n",
       "            Adjusted      Close  DailyRet       High        Low       Open   \n",
       "Date                                                                         \n",
       "2003-12-17  4.777606  18.935045  0.011703  18.957705  18.738670  18.791540   \n",
       "2003-12-18  4.823344  19.116314  0.009573  19.138973  18.927492  18.972811   \n",
       "2003-12-19  4.810004  19.063444 -0.002766  19.327795  18.912388  19.184290   \n",
       "2003-12-22  4.850023  19.222054  0.008320  19.222054  18.904835  19.033234   \n",
       "2003-12-23  4.825250  19.123867 -0.005108  19.358006  19.025681  19.033234   \n",
       "\n",
       "Index                                       \n",
       "                Volume Z20DayRet Z20DayVol  \n",
       "Date                                        \n",
       "2003-12-17  11758841.0 -0.995490  1.159951  \n",
       "2003-12-18  11449952.0 -1.156730  1.163700  \n",
       "2003-12-19  18629739.0 -1.167849  1.159862  \n",
       "2003-12-22  10245377.0 -1.211672  1.147321  \n",
       "2003-12-23   9203786.0 -1.127273  1.112602  \n",
       "\n",
       "[5 rows x 1100 columns]"
      ]
     },
     "execution_count": 7,
     "metadata": {},
     "output_type": "execute_result"
    }
   ],
   "source": [
    "full_feature_dataset.head()"
   ]
  },
  {
   "cell_type": "code",
   "execution_count": 8,
   "metadata": {
    "colab": {
     "base_uri": "https://localhost:8080/"
    },
    "id": "V-AV6ZPBu5tg",
    "outputId": "c55993c8-1f0b-4135-f7fd-2814e604a6c1"
   },
   "outputs": [
    {
     "data": {
      "text/plain": [
       "(4760, 1100)"
      ]
     },
     "execution_count": 8,
     "metadata": {},
     "output_type": "execute_result"
    }
   ],
   "source": [
    "full_feature_dataset = full_feature_dataset.to_numpy()\n",
    "full_feature_dataset.shape"
   ]
  },
  {
   "cell_type": "markdown",
   "metadata": {
    "id": "LFmXplYiwLEP"
   },
   "source": [
    "### Performing PCA to Extract most useful features for the dataset"
   ]
  },
  {
   "cell_type": "code",
   "execution_count": 9,
   "metadata": {
    "id": "jvDRML2quZRg"
   },
   "outputs": [],
   "source": [
    "from sklearn.decomposition import PCA\n",
    "from sklearn.preprocessing import MinMaxScaler"
   ]
  },
  {
   "cell_type": "markdown",
   "metadata": {
    "id": "Glz8O4KUdJcL"
   },
   "source": [
    "# LSTM Stock Prediction"
   ]
  },
  {
   "cell_type": "markdown",
   "metadata": {
    "id": "Qo_hebaNzhGG"
   },
   "source": [
    "## Data Manipulation\n",
    "\n",
    "In this section several steps are performed...\n",
    "- Set our lookback/training window and horizon/testing window\n",
    "- Create a training, validation, and test set\n",
    "- Scale the data using MinMaxScaler\n",
    "- Process data into arrays with ranges of dates from (lookback, t) and (t+1, horizon). T jumps by one day each time."
   ]
  },
  {
   "cell_type": "code",
   "execution_count": 10,
   "metadata": {
    "id": "4A6vhTHHD80i"
   },
   "outputs": [],
   "source": [
    "closing_prices = df_close.iloc[:full_feature_dataset.shape[0],:]"
   ]
  },
  {
   "cell_type": "markdown",
   "metadata": {
    "id": "-E2xLQmskPgA"
   },
   "source": [
    "Creating train and test sets"
   ]
  },
  {
   "cell_type": "code",
   "execution_count": 11,
   "metadata": {
    "id": "8S7UjrVFW8bK"
   },
   "outputs": [],
   "source": [
    "from sklearn.model_selection import train_test_split\n",
    "#Division of data\n",
    "# df_close = df_close.to_numpy()\n",
    "array_train, array_test = train_test_split(closing_prices, shuffle = False, test_size = .2)\n",
    "PCA_train, PCA_test = train_test_split(full_feature_dataset, shuffle = False, test_size = .2)"
   ]
  },
  {
   "cell_type": "code",
   "execution_count": 12,
   "metadata": {
    "colab": {
     "base_uri": "https://localhost:8080/"
    },
    "id": "D1N1paWFPRsC",
    "outputId": "5d149a88-2d6c-42c5-9ccc-c12872536b9b"
   },
   "outputs": [
    {
     "name": "stdout",
     "output_type": "stream",
     "text": [
      "(3808, 100)\n",
      "(3808, 1100)\n"
     ]
    }
   ],
   "source": [
    "print(array_train.shape)\n",
    "print(PCA_train.shape)"
   ]
  },
  {
   "cell_type": "code",
   "execution_count": 13,
   "metadata": {
    "id": "WozBjGVpJ6eX"
   },
   "outputs": [],
   "source": [
    "from sklearn.decomposition import PCA\n",
    "pc3 = PCA()\n",
    "temp = pc3.fit_transform(PCA_train)"
   ]
  },
  {
   "cell_type": "markdown",
   "metadata": {
    "id": "SFsPbv5tKquB"
   },
   "source": [
    "Nearly all data is explained by 382 components"
   ]
  },
  {
   "cell_type": "code",
   "execution_count": 14,
   "metadata": {
    "colab": {
     "base_uri": "https://localhost:8080/",
     "height": 279
    },
    "id": "Ziuhe3mbKKp6",
    "outputId": "53ad6787-0e5c-4e3d-8b45-18a7cbe291f4"
   },
   "outputs": [
    {
     "data": {
      "image/png": "[encoded data removed]",
      "text/plain": [
       "<Figure size 432x288 with 1 Axes>"
      ]
     },
     "metadata": {
      "needs_background": "light"
     },
     "output_type": "display_data"
    }
   ],
   "source": [
    "plt.plot(np.cumsum(pc3.explained_variance_ratio_))\n",
    "plt.xlabel('Num Components')\n",
    "plt.ylabel('Cumulative Explained Variance');"
   ]
  },
  {
   "cell_type": "markdown",
   "metadata": {
    "id": "8chyoEa8kTTN"
   },
   "source": [
    "Scaling the Data"
   ]
  },
  {
   "cell_type": "code",
   "execution_count": 15,
   "metadata": {
    "id": "-icU5T0_emvc"
   },
   "outputs": [],
   "source": [
    "#Data with only closing prices\n",
    "from sklearn.preprocessing import MinMaxScaler\n",
    "scl = MinMaxScaler()\n",
    "scale = MinMaxScaler()\n",
    "array_train = scl.fit_transform(array_train)\n",
    "array_test  = scale.fit_transform(array_test) #[0,1]\n",
    "\n",
    "#Full features dataset; reducing dimensionality here\n",
    "from sklearn.decomposition import PCA\n",
    "pcTrain_scl = MinMaxScaler()\n",
    "pcTest_scl  = MinMaxScaler()\n",
    "pcaTrain = PCA(n_components = 100)\n",
    "pcaTest = PCA(n_components = 100)\n",
    "\n",
    "PCA_train = pcTrain_scl.fit_transform(PCA_train)\n",
    "PCA_train = pcaTrain.fit_transform(PCA_train)\n",
    "\n",
    "PCA_test = pcTest_scl.fit_transform(PCA_test)\n",
    "PCA_test = pcaTest.fit_transform(PCA_test)"
   ]
  },
  {
   "cell_type": "code",
   "execution_count": 16,
   "metadata": {
    "colab": {
     "base_uri": "https://localhost:8080/"
    },
    "id": "BPHO3_pyGy9K",
    "outputId": "1c0dfa95-9486-4a39-9afb-afaef77219de"
   },
   "outputs": [
    {
     "name": "stdout",
     "output_type": "stream",
     "text": [
      "(3808, 100)\n",
      "(3808, 100)\n"
     ]
    }
   ],
   "source": [
    "print(array_train.shape)\n",
    "print(PCA_train.shape)"
   ]
  },
  {
   "cell_type": "markdown",
   "metadata": {
    "id": "i1iTlZlxkWZE"
   },
   "source": [
    "Creating function to iteravely process data"
   ]
  },
  {
   "cell_type": "code",
   "execution_count": 17,
   "metadata": {
    "id": "fZ8VfGa5fYP9"
   },
   "outputs": [],
   "source": [
    "#Get the data and splits in input X and output Y, by spliting in lookback number of past days as input X \n",
    "#and horizon number of coming days as Y.\n",
    "def processData(data, lookback, horizon,num_companies,jump=1):\n",
    "    X,Y = [],[]\n",
    "    for i in range(0,len(data) -lookback - horizon +1, jump):\n",
    "        X.append(data[i:(i+lookback)])\n",
    "        Y.append(data[(i+lookback):(i+lookback+horizon)])\n",
    "    return np.array(X),np.array(Y)"
   ]
  },
  {
   "cell_type": "markdown",
   "metadata": {
    "id": "SZiM9hJika9w"
   },
   "source": [
    "Setting lookback and horizon window sizes"
   ]
  },
  {
   "cell_type": "code",
   "execution_count": 18,
   "metadata": {
    "id": "8Vivvsu4fqir"
   },
   "outputs": [],
   "source": [
    "num_companies = df_close.shape[1]\n",
    "lookback = 252 #How many days of the past can the model see\n",
    "horizon = 22 #How many days into the future are we trying to predict"
   ]
  },
  {
   "cell_type": "markdown",
   "metadata": {
    "id": "Zb-UTFsMke_E"
   },
   "source": [
    "Further splitting the train data into training and validation sets"
   ]
  },
  {
   "cell_type": "code",
   "execution_count": 19,
   "metadata": {
    "id": "aREefEBhgC65"
   },
   "outputs": [],
   "source": [
    "# Formation of lookback dataframes and forward dataframes for training, and testing dataset\n",
    "# to calculate accuracy\n",
    "\n",
    "#Testing Data\n",
    "X_test, void = processData(PCA_test,lookback,horizon,num_companies,horizon)\n",
    "void, y_test = processData(array_test,lookback,horizon,num_companies,horizon) \n",
    "y_test = np.array([list(a.ravel()) for a in y_test])\n",
    "\n",
    "#Training/Validation Data\n",
    "X_PCA, void = processData(PCA_train,lookback,horizon,num_companies)\n",
    "void, y = processData(array_train,lookback,horizon,num_companies)\n",
    "y = np.array([list(x.ravel()) for x in y])\n",
    "\n",
    "X_train, X_validate, y_train, y_validate = train_test_split(X_PCA, y, test_size=0.20, random_state=1)"
   ]
  },
  {
   "cell_type": "code",
   "execution_count": 20,
   "metadata": {
    "colab": {
     "base_uri": "https://localhost:8080/"
    },
    "id": "7oOTwlWNjdFD",
    "outputId": "fc219f67-61d3-441b-b272-d8ea32fceff3"
   },
   "outputs": [
    {
     "data": {
      "text/plain": [
       "382.0"
      ]
     },
     "execution_count": 20,
     "metadata": {},
     "output_type": "execute_result"
    }
   ],
   "source": [
    "8404/22\n",
    "#Length y_train/test/validate / forward window == # of features"
   ]
  },
  {
   "cell_type": "code",
   "execution_count": 21,
   "metadata": {
    "colab": {
     "base_uri": "https://localhost:8080/"
    },
    "id": "kFaWQ9tOgsEj",
    "outputId": "a17884c8-2384-47e3-acc4-c3fc282621ff"
   },
   "outputs": [
    {
     "name": "stdout",
     "output_type": "stream",
     "text": [
      "(2828, 252, 100)\n",
      "(707, 252, 100)\n",
      "(31, 252, 100)\n",
      "(2828, 2200)\n",
      "(707, 2200)\n",
      "(31, 2200)\n"
     ]
    }
   ],
   "source": [
    "print(X_train.shape)\n",
    "print(X_validate.shape)\n",
    "print(X_test.shape)\n",
    "print(y_train.shape)\n",
    "print(y_validate.shape)\n",
    "print(y_test.shape)\n",
    "#(Sample,Timestep,Features)"
   ]
  },
  {
   "cell_type": "markdown",
   "metadata": {
    "id": "GmtMFE_vg7-Y"
   },
   "source": [
    "## Model Architecture + Training\n",
    "\n",
    "Here, we can input the number or neurons on each layer, change the level of dropout, and set the specifications for early dropout. The model is then trained and the learning curve is plotted below."
   ]
  },
  {
   "cell_type": "code",
   "execution_count": 22,
   "metadata": {
    "id": "g7ePss4QhIQe"
   },
   "outputs": [],
   "source": [
    "from keras.models import Sequential, load_model\n",
    "import tensorflow as tf\n",
    "from keras.layers import LSTM,Dense,Activation,Attention,Dropout\n",
    "from tensorflow.keras.callbacks import EarlyStopping\n",
    "from tensorflow.keras.regularizers import Regularizer\n",
    "from keras import optimizers\n",
    "\n",
    "#Model Architecture - Two LSTM layers with x neurons & y epochs\n",
    "num_neurons_L1 = 800\n",
    "num_neurons_L2 = 600\n",
    "num_neurons_dense1 = 200\n",
    "EPOCHS = 100\n",
    "\n",
    "#Model\n",
    "model = Sequential()\n",
    "\n",
    "model.add(LSTM(num_neurons_L1,input_shape=(lookback,num_companies), return_sequences=True))\n",
    "model.add(LSTM(num_neurons_L2,input_shape=(num_neurons_L1,1)))\n",
    "model.add(Dense(horizon * num_companies, activation = 'relu'))\n",
    "model.add(Dense(horizon * num_companies, activation = 'sigmoid'))\n",
    "\n",
    "model.compile(loss='mean_squared_error', optimizer='adam', metrics = ['accuracy'])"
   ]
  },
  {
   "cell_type": "code",
   "execution_count": 23,
   "metadata": {
    "colab": {
     "base_uri": "https://localhost:8080/"
    },
    "id": "XU47phEEh0nb",
    "outputId": "5c2f896b-943c-4a16-c7f6-f89079fdd72a"
   },
   "outputs": [
    {
     "name": "stdout",
     "output_type": "stream",
     "text": [
      "Epoch 1/100\n",
      "12/12 - 116s - loss: 0.0428 - accuracy: 0.0028 - val_loss: 0.0254 - val_accuracy: 0.0042 - 116s/epoch - 10s/step\n",
      "Epoch 2/100\n",
      "12/12 - 122s - loss: 0.0228 - accuracy: 0.0021 - val_loss: 0.0201 - val_accuracy: 0.0042 - 122s/epoch - 10s/step\n",
      "Epoch 3/100\n",
      "12/12 - 163s - loss: 0.0162 - accuracy: 0.0064 - val_loss: 0.0103 - val_accuracy: 0.0099 - 163s/epoch - 14s/step\n",
      "Epoch 4/100\n",
      "12/12 - 200s - loss: 0.0128 - accuracy: 0.0071 - val_loss: 0.0140 - val_accuracy: 0.0028 - 200s/epoch - 17s/step\n",
      "Epoch 5/100\n",
      "12/12 - 249s - loss: 0.0111 - accuracy: 0.0071 - val_loss: 0.0112 - val_accuracy: 0.0127 - 249s/epoch - 21s/step\n",
      "Epoch 6/100\n",
      "12/12 - 264s - loss: 0.0110 - accuracy: 0.0113 - val_loss: 0.0092 - val_accuracy: 0.0071 - 264s/epoch - 22s/step\n",
      "Epoch 7/100\n",
      "12/12 - 286s - loss: 0.0083 - accuracy: 0.0149 - val_loss: 0.0071 - val_accuracy: 0.0170 - 286s/epoch - 24s/step\n",
      "Epoch 8/100\n",
      "12/12 - 325s - loss: 0.0068 - accuracy: 0.0113 - val_loss: 0.0065 - val_accuracy: 0.0141 - 325s/epoch - 27s/step\n",
      "Epoch 9/100\n",
      "12/12 - 348s - loss: 0.0057 - accuracy: 0.0106 - val_loss: 0.0069 - val_accuracy: 0.0226 - 348s/epoch - 29s/step\n",
      "Epoch 10/100\n",
      "12/12 - 357s - loss: 0.0059 - accuracy: 0.0184 - val_loss: 0.0062 - val_accuracy: 0.0537 - 357s/epoch - 30s/step\n",
      "Epoch 11/100\n",
      "12/12 - 361s - loss: 0.0046 - accuracy: 0.0272 - val_loss: 0.0047 - val_accuracy: 0.0438 - 361s/epoch - 30s/step\n",
      "Epoch 12/100\n",
      "12/12 - 364s - loss: 0.0092 - accuracy: 0.0230 - val_loss: 0.0136 - val_accuracy: 0.0240 - 364s/epoch - 30s/step\n",
      "Epoch 13/100\n",
      "12/12 - 368s - loss: 0.0087 - accuracy: 0.0226 - val_loss: 0.0061 - val_accuracy: 0.0198 - 368s/epoch - 31s/step\n",
      "Epoch 14/100\n",
      "12/12 - 370s - loss: 0.0065 - accuracy: 0.0226 - val_loss: 0.0061 - val_accuracy: 0.0127 - 370s/epoch - 31s/step\n",
      "Epoch 15/100\n",
      "12/12 - 377s - loss: 0.0052 - accuracy: 0.0127 - val_loss: 0.0043 - val_accuracy: 0.0184 - 377s/epoch - 31s/step\n",
      "Epoch 16/100\n",
      "12/12 - 379s - loss: 0.0037 - accuracy: 0.0191 - val_loss: 0.0035 - val_accuracy: 0.0212 - 379s/epoch - 32s/step\n",
      "Epoch 17/100\n",
      "12/12 - 377s - loss: 0.0034 - accuracy: 0.0187 - val_loss: 0.0079 - val_accuracy: 0.0354 - 377s/epoch - 31s/step\n",
      "Epoch 18/100\n",
      "12/12 - 379s - loss: 0.0308 - accuracy: 0.0127 - val_loss: 0.0200 - val_accuracy: 0.0141 - 379s/epoch - 32s/step\n",
      "Epoch 19/100\n",
      "12/12 - 378s - loss: 0.0156 - accuracy: 0.0180 - val_loss: 0.0094 - val_accuracy: 0.0255 - 378s/epoch - 31s/step\n",
      "Epoch 20/100\n",
      "12/12 - 381s - loss: 0.0087 - accuracy: 0.0156 - val_loss: 0.0077 - val_accuracy: 0.0113 - 381s/epoch - 32s/step\n",
      "Epoch 21/100\n",
      "12/12 - 382s - loss: 0.0076 - accuracy: 0.0223 - val_loss: 0.0063 - val_accuracy: 0.0141 - 382s/epoch - 32s/step\n",
      "Epoch 22/100\n",
      "12/12 - 2145s - loss: 0.0064 - accuracy: 0.0134 - val_loss: 0.0053 - val_accuracy: 0.0240 - 2145s/epoch - 179s/step\n",
      "Epoch 23/100\n",
      "12/12 - 382s - loss: 0.0053 - accuracy: 0.0230 - val_loss: 0.0049 - val_accuracy: 0.0198 - 382s/epoch - 32s/step\n",
      "Epoch 24/100\n",
      "12/12 - 383s - loss: 0.0045 - accuracy: 0.0180 - val_loss: 0.0041 - val_accuracy: 0.0141 - 383s/epoch - 32s/step\n",
      "Epoch 25/100\n",
      "12/12 - 862s - loss: 0.0036 - accuracy: 0.0170 - val_loss: 0.0034 - val_accuracy: 0.0141 - 862s/epoch - 72s/step\n",
      "Epoch 26/100\n",
      "12/12 - 383s - loss: 0.0032 - accuracy: 0.0180 - val_loss: 0.0034 - val_accuracy: 0.0184 - 383s/epoch - 32s/step\n",
      "Epoch 27/100\n",
      "12/12 - 385s - loss: 0.0029 - accuracy: 0.0198 - val_loss: 0.0041 - val_accuracy: 0.0226 - 385s/epoch - 32s/step\n",
      "Epoch 28/100\n",
      "12/12 - 383s - loss: 0.0030 - accuracy: 0.0202 - val_loss: 0.0028 - val_accuracy: 0.0438 - 383s/epoch - 32s/step\n",
      "Epoch 29/100\n",
      "12/12 - 383s - loss: 0.0025 - accuracy: 0.0194 - val_loss: 0.0026 - val_accuracy: 0.0212 - 383s/epoch - 32s/step\n",
      "Epoch 30/100\n",
      "12/12 - 384s - loss: 0.0023 - accuracy: 0.0170 - val_loss: 0.0023 - val_accuracy: 0.0269 - 384s/epoch - 32s/step\n",
      "Epoch 31/100\n",
      "12/12 - 1704s - loss: 0.0023 - accuracy: 0.0219 - val_loss: 0.0027 - val_accuracy: 0.0283 - 1704s/epoch - 142s/step\n",
      "Epoch 32/100\n",
      "12/12 - 388s - loss: 0.0024 - accuracy: 0.0219 - val_loss: 0.0024 - val_accuracy: 0.0269 - 388s/epoch - 32s/step\n",
      "Epoch 33/100\n",
      "12/12 - 394s - loss: 0.0023 - accuracy: 0.0286 - val_loss: 0.0025 - val_accuracy: 0.0212 - 394s/epoch - 33s/step\n",
      "Epoch 34/100\n",
      "12/12 - 391s - loss: 0.0023 - accuracy: 0.0329 - val_loss: 0.0035 - val_accuracy: 0.0240 - 391s/epoch - 33s/step\n",
      "Epoch 35/100\n",
      "12/12 - 1049s - loss: 0.0026 - accuracy: 0.0262 - val_loss: 0.0025 - val_accuracy: 0.0085 - 1049s/epoch - 87s/step\n",
      "Epoch 36/100\n",
      "12/12 - 393s - loss: 0.0021 - accuracy: 0.0272 - val_loss: 0.0019 - val_accuracy: 0.0255 - 393s/epoch - 33s/step\n",
      "Epoch 37/100\n",
      "12/12 - 394s - loss: 0.0018 - accuracy: 0.0283 - val_loss: 0.0017 - val_accuracy: 0.0396 - 394s/epoch - 33s/step\n",
      "Epoch 38/100\n",
      "12/12 - 392s - loss: 0.0016 - accuracy: 0.0339 - val_loss: 0.0017 - val_accuracy: 0.0325 - 392s/epoch - 33s/step\n",
      "Epoch 39/100\n",
      "12/12 - 390s - loss: 0.0016 - accuracy: 0.0276 - val_loss: 0.0016 - val_accuracy: 0.0424 - 390s/epoch - 33s/step\n",
      "Epoch 40/100\n",
      "12/12 - 913s - loss: 0.0016 - accuracy: 0.0290 - val_loss: 0.0016 - val_accuracy: 0.0537 - 913s/epoch - 76s/step\n",
      "Epoch 41/100\n",
      "12/12 - 394s - loss: 0.0014 - accuracy: 0.0343 - val_loss: 0.0015 - val_accuracy: 0.0396 - 394s/epoch - 33s/step\n",
      "Epoch 42/100\n",
      "12/12 - 391s - loss: 0.0014 - accuracy: 0.0315 - val_loss: 0.0015 - val_accuracy: 0.0283 - 391s/epoch - 33s/step\n",
      "Epoch 43/100\n",
      "12/12 - 392s - loss: 0.0013 - accuracy: 0.0329 - val_loss: 0.0014 - val_accuracy: 0.0467 - 392s/epoch - 33s/step\n",
      "Epoch 44/100\n",
      "12/12 - 392s - loss: 0.0013 - accuracy: 0.0339 - val_loss: 0.0013 - val_accuracy: 0.0438 - 392s/epoch - 33s/step\n",
      "Epoch 45/100\n",
      "12/12 - 394s - loss: 0.0012 - accuracy: 0.0364 - val_loss: 0.0013 - val_accuracy: 0.0382 - 394s/epoch - 33s/step\n",
      "Epoch 46/100\n",
      "12/12 - 392s - loss: 0.0012 - accuracy: 0.0343 - val_loss: 0.0012 - val_accuracy: 0.0382 - 392s/epoch - 33s/step\n",
      "Epoch 47/100\n",
      "12/12 - 386s - loss: 0.0012 - accuracy: 0.0382 - val_loss: 0.0012 - val_accuracy: 0.0410 - 386s/epoch - 32s/step\n",
      "Epoch 48/100\n",
      "12/12 - 380s - loss: 0.0011 - accuracy: 0.0336 - val_loss: 0.0011 - val_accuracy: 0.0354 - 380s/epoch - 32s/step\n",
      "Epoch 49/100\n",
      "12/12 - 382s - loss: 0.0011 - accuracy: 0.0382 - val_loss: 0.0015 - val_accuracy: 0.0622 - 382s/epoch - 32s/step\n",
      "Epoch 50/100\n",
      "12/12 - 379s - loss: 0.0013 - accuracy: 0.0428 - val_loss: 0.0012 - val_accuracy: 0.0481 - 379s/epoch - 32s/step\n",
      "Epoch 51/100\n",
      "12/12 - 383s - loss: 0.0011 - accuracy: 0.0417 - val_loss: 0.0012 - val_accuracy: 0.0552 - 383s/epoch - 32s/step\n",
      "Epoch 52/100\n",
      "12/12 - 384s - loss: 0.0011 - accuracy: 0.0431 - val_loss: 0.0011 - val_accuracy: 0.0339 - 384s/epoch - 32s/step\n",
      "Epoch 53/100\n",
      "12/12 - 385s - loss: 0.0011 - accuracy: 0.0438 - val_loss: 0.0012 - val_accuracy: 0.0537 - 385s/epoch - 32s/step\n",
      "Epoch 54/100\n",
      "12/12 - 385s - loss: 0.0010 - accuracy: 0.0463 - val_loss: 0.0011 - val_accuracy: 0.0453 - 385s/epoch - 32s/step\n",
      "Epoch 55/100\n",
      "12/12 - 380s - loss: 9.9695e-04 - accuracy: 0.0424 - val_loss: 0.0011 - val_accuracy: 0.0509 - 380s/epoch - 32s/step\n",
      "Epoch 56/100\n",
      "12/12 - 380s - loss: 9.8722e-04 - accuracy: 0.0403 - val_loss: 0.0011 - val_accuracy: 0.0495 - 380s/epoch - 32s/step\n",
      "Epoch 57/100\n",
      "12/12 - 379s - loss: 9.5527e-04 - accuracy: 0.0417 - val_loss: 9.8349e-04 - val_accuracy: 0.0509 - 379s/epoch - 32s/step\n",
      "Epoch 58/100\n",
      "12/12 - 379s - loss: 9.1718e-04 - accuracy: 0.0435 - val_loss: 9.6480e-04 - val_accuracy: 0.0438 - 379s/epoch - 32s/step\n",
      "Epoch 59/100\n",
      "12/12 - 381s - loss: 8.9300e-04 - accuracy: 0.0442 - val_loss: 9.1925e-04 - val_accuracy: 0.0410 - 381s/epoch - 32s/step\n",
      "Epoch 60/100\n",
      "12/12 - 385s - loss: 8.6756e-04 - accuracy: 0.0431 - val_loss: 9.1227e-04 - val_accuracy: 0.0481 - 385s/epoch - 32s/step\n",
      "Epoch 61/100\n",
      "12/12 - 385s - loss: 8.5487e-04 - accuracy: 0.0470 - val_loss: 8.8881e-04 - val_accuracy: 0.0481 - 385s/epoch - 32s/step\n",
      "Epoch 62/100\n",
      "12/12 - 382s - loss: 8.4153e-04 - accuracy: 0.0446 - val_loss: 8.7149e-04 - val_accuracy: 0.0566 - 382s/epoch - 32s/step\n",
      "Epoch 63/100\n",
      "12/12 - 382s - loss: 8.2581e-04 - accuracy: 0.0481 - val_loss: 8.4902e-04 - val_accuracy: 0.0495 - 382s/epoch - 32s/step\n",
      "Epoch 64/100\n",
      "12/12 - 382s - loss: 8.1084e-04 - accuracy: 0.0477 - val_loss: 8.3917e-04 - val_accuracy: 0.0453 - 382s/epoch - 32s/step\n",
      "Epoch 65/100\n",
      "12/12 - 382s - loss: 7.9341e-04 - accuracy: 0.0516 - val_loss: 8.0865e-04 - val_accuracy: 0.0453 - 382s/epoch - 32s/step\n"
     ]
    },
    {
     "name": "stdout",
     "output_type": "stream",
     "text": [
      "Epoch 66/100\n",
      "12/12 - 380s - loss: 7.7531e-04 - accuracy: 0.0502 - val_loss: 7.8711e-04 - val_accuracy: 0.0438 - 380s/epoch - 32s/step\n",
      "Epoch 67/100\n",
      "12/12 - 380s - loss: 7.5455e-04 - accuracy: 0.0488 - val_loss: 7.8964e-04 - val_accuracy: 0.0438 - 380s/epoch - 32s/step\n",
      "Epoch 68/100\n",
      "12/12 - 380s - loss: 7.5512e-04 - accuracy: 0.0548 - val_loss: 7.7042e-04 - val_accuracy: 0.0453 - 380s/epoch - 32s/step\n",
      "Epoch 69/100\n",
      "12/12 - 379s - loss: 7.4069e-04 - accuracy: 0.0488 - val_loss: 7.7286e-04 - val_accuracy: 0.0410 - 379s/epoch - 32s/step\n",
      "Epoch 70/100\n",
      "12/12 - 379s - loss: 7.4487e-04 - accuracy: 0.0470 - val_loss: 7.6461e-04 - val_accuracy: 0.0382 - 379s/epoch - 32s/step\n",
      "Epoch 71/100\n",
      "12/12 - 379s - loss: 7.2171e-04 - accuracy: 0.0470 - val_loss: 7.3618e-04 - val_accuracy: 0.0467 - 379s/epoch - 32s/step\n",
      "Epoch 72/100\n",
      "12/12 - 379s - loss: 7.1067e-04 - accuracy: 0.0474 - val_loss: 7.3512e-04 - val_accuracy: 0.0438 - 379s/epoch - 32s/step\n",
      "Epoch 73/100\n",
      "12/12 - 379s - loss: 7.0334e-04 - accuracy: 0.0488 - val_loss: 7.2260e-04 - val_accuracy: 0.0495 - 379s/epoch - 32s/step\n",
      "Epoch 74/100\n",
      "12/12 - 379s - loss: 6.8404e-04 - accuracy: 0.0435 - val_loss: 7.1758e-04 - val_accuracy: 0.0438 - 379s/epoch - 32s/step\n",
      "Epoch 75/100\n",
      "12/12 - 380s - loss: 6.7586e-04 - accuracy: 0.0481 - val_loss: 7.2307e-04 - val_accuracy: 0.0424 - 380s/epoch - 32s/step\n",
      "Epoch 76/100\n",
      "12/12 - 380s - loss: 7.1172e-04 - accuracy: 0.0470 - val_loss: 7.3319e-04 - val_accuracy: 0.0396 - 380s/epoch - 32s/step\n",
      "Epoch 77/100\n",
      "12/12 - 379s - loss: 6.9034e-04 - accuracy: 0.0428 - val_loss: 7.0453e-04 - val_accuracy: 0.0410 - 379s/epoch - 32s/step\n",
      "Epoch 78/100\n",
      "12/12 - 380s - loss: 6.6601e-04 - accuracy: 0.0516 - val_loss: 6.8523e-04 - val_accuracy: 0.0453 - 380s/epoch - 32s/step\n",
      "Epoch 79/100\n",
      "12/12 - 379s - loss: 6.4824e-04 - accuracy: 0.0488 - val_loss: 6.6715e-04 - val_accuracy: 0.0410 - 379s/epoch - 32s/step\n",
      "Epoch 80/100\n",
      "12/12 - 378s - loss: 6.3616e-04 - accuracy: 0.0492 - val_loss: 6.5348e-04 - val_accuracy: 0.0382 - 378s/epoch - 32s/step\n",
      "Epoch 81/100\n",
      "12/12 - 380s - loss: 6.1616e-04 - accuracy: 0.0467 - val_loss: 6.3365e-04 - val_accuracy: 0.0382 - 380s/epoch - 32s/step\n",
      "Epoch 82/100\n",
      "12/12 - 381s - loss: 6.0671e-04 - accuracy: 0.0513 - val_loss: 6.2794e-04 - val_accuracy: 0.0396 - 381s/epoch - 32s/step\n",
      "Epoch 83/100\n",
      "12/12 - 383s - loss: 6.0148e-04 - accuracy: 0.0474 - val_loss: 6.2807e-04 - val_accuracy: 0.0424 - 383s/epoch - 32s/step\n",
      "Epoch 84/100\n",
      "12/12 - 384s - loss: 5.9705e-04 - accuracy: 0.0463 - val_loss: 6.1777e-04 - val_accuracy: 0.0410 - 384s/epoch - 32s/step\n",
      "Epoch 85/100\n",
      "12/12 - 384s - loss: 5.8833e-04 - accuracy: 0.0442 - val_loss: 6.1147e-04 - val_accuracy: 0.0438 - 384s/epoch - 32s/step\n",
      "Epoch 86/100\n",
      "12/12 - 381s - loss: 5.7581e-04 - accuracy: 0.0463 - val_loss: 6.0007e-04 - val_accuracy: 0.0410 - 381s/epoch - 32s/step\n",
      "Epoch 87/100\n",
      "12/12 - 383s - loss: 5.6385e-04 - accuracy: 0.0477 - val_loss: 5.9487e-04 - val_accuracy: 0.0410 - 383s/epoch - 32s/step\n",
      "Epoch 88/100\n",
      "12/12 - 381s - loss: 5.6084e-04 - accuracy: 0.0453 - val_loss: 5.8549e-04 - val_accuracy: 0.0382 - 381s/epoch - 32s/step\n",
      "Epoch 89/100\n",
      "12/12 - 381s - loss: 5.5361e-04 - accuracy: 0.0495 - val_loss: 5.7847e-04 - val_accuracy: 0.0396 - 381s/epoch - 32s/step\n",
      "Epoch 90/100\n",
      "12/12 - 379s - loss: 5.5192e-04 - accuracy: 0.0470 - val_loss: 5.6434e-04 - val_accuracy: 0.0410 - 379s/epoch - 32s/step\n",
      "Epoch 91/100\n",
      "12/12 - 380s - loss: 5.3745e-04 - accuracy: 0.0456 - val_loss: 5.7052e-04 - val_accuracy: 0.0552 - 380s/epoch - 32s/step\n",
      "Epoch 92/100\n",
      "12/12 - 379s - loss: 5.3797e-04 - accuracy: 0.0474 - val_loss: 5.7066e-04 - val_accuracy: 0.0453 - 379s/epoch - 32s/step\n",
      "Epoch 93/100\n",
      "12/12 - 380s - loss: 5.3436e-04 - accuracy: 0.0463 - val_loss: 5.5747e-04 - val_accuracy: 0.0495 - 380s/epoch - 32s/step\n",
      "Epoch 94/100\n",
      "12/12 - 377s - loss: 5.2338e-04 - accuracy: 0.0484 - val_loss: 5.4123e-04 - val_accuracy: 0.0453 - 377s/epoch - 31s/step\n",
      "Epoch 95/100\n",
      "12/12 - 378s - loss: 5.1340e-04 - accuracy: 0.0463 - val_loss: 5.3495e-04 - val_accuracy: 0.0453 - 378s/epoch - 31s/step\n",
      "Epoch 96/100\n",
      "12/12 - 379s - loss: 5.0465e-04 - accuracy: 0.0516 - val_loss: 5.2874e-04 - val_accuracy: 0.0537 - 379s/epoch - 32s/step\n",
      "Epoch 97/100\n",
      "12/12 - 379s - loss: 5.0228e-04 - accuracy: 0.0513 - val_loss: 5.5133e-04 - val_accuracy: 0.0453 - 379s/epoch - 32s/step\n",
      "Epoch 98/100\n",
      "12/12 - 380s - loss: 5.0542e-04 - accuracy: 0.0548 - val_loss: 5.2676e-04 - val_accuracy: 0.0495 - 380s/epoch - 32s/step\n",
      "Epoch 99/100\n",
      "12/12 - 378s - loss: 4.9728e-04 - accuracy: 0.0527 - val_loss: 5.2069e-04 - val_accuracy: 0.0481 - 378s/epoch - 32s/step\n",
      "Epoch 100/100\n",
      "12/12 - 380s - loss: 4.8654e-04 - accuracy: 0.0520 - val_loss: 5.0709e-04 - val_accuracy: 0.0495 - 380s/epoch - 32s/step\n"
     ]
    }
   ],
   "source": [
    "# Early stopping severly *underfits* the data, we are going for better results\n",
    "\n",
    "# early_stopping = EarlyStopping(\n",
    "#     monitor='val_loss', \n",
    "#     patience=11, \n",
    "#     min_delta=0.000000001, \n",
    "#     mode='max'\n",
    "# )\n",
    "\n",
    "history = model.fit(X_train,y_train,epochs=EPOCHS,\n",
    "                    validation_data=(X_validate,y_validate),\n",
    "                    shuffle=False,batch_size=256, verbose=2)"
   ]
  },
  {
   "cell_type": "markdown",
   "metadata": {
    "id": "3PJ1N9Bunuge"
   },
   "source": [
    "Plotting the learning curve - Loss"
   ]
  },
  {
   "cell_type": "code",
   "execution_count": 24,
   "metadata": {
    "colab": {
     "base_uri": "https://localhost:8080/",
     "height": 592
    },
    "id": "ZR2v6RStjjLj",
    "outputId": "f39818f3-6e06-4ac3-b626-a28e684386e8"
   },
   "outputs": [
    {
     "data": {
      "image/png": "[encoded data removed]",
      "text/plain": [
       "<Figure size 1080x720 with 1 Axes>"
      ]
     },
     "metadata": {
      "needs_background": "light"
     },
     "output_type": "display_data"
    }
   ],
   "source": [
    "plt.figure(figsize = (15,10))\n",
    "\n",
    "plt.plot(history.history['loss'], label='loss')\n",
    "plt.plot(history.history['val_loss'], label='val_loss')\n",
    "plt.legend(loc='best')\n",
    "plt.show()"
   ]
  },
  {
   "cell_type": "code",
   "execution_count": 25,
   "metadata": {
    "colab": {
     "base_uri": "https://localhost:8080/",
     "height": 592
    },
    "id": "nvi8zQkMT8wj",
    "outputId": "9ee1906c-95eb-4f66-e559-edc84f6da159"
   },
   "outputs": [
    {
     "data": {
      "image/png": "[encoded data removed]",
      "text/plain": [
       "<Figure size 1080x720 with 1 Axes>"
      ]
     },
     "metadata": {
      "needs_background": "light"
     },
     "output_type": "display_data"
    }
   ],
   "source": [
    "plt.figure(figsize = (15,10))\n",
    "\n",
    "plt.plot(history.history['accuracy'], label='accuracy')\n",
    "plt.plot(history.history['val_accuracy'], label='val_accuracy')\n",
    "plt.legend(loc='best')\n",
    "plt.show()"
   ]
  },
  {
   "cell_type": "markdown",
   "metadata": {
    "id": "LWQeHzFijuTn"
   },
   "source": [
    "### Predicting Test Results"
   ]
  },
  {
   "cell_type": "code",
   "execution_count": 26,
   "metadata": {
    "colab": {
     "base_uri": "https://localhost:8080/"
    },
    "id": "zTwvIkOVjxPK",
    "outputId": "f342324a-d33a-48ee-f978-1812cdd591f6"
   },
   "outputs": [
    {
     "data": {
      "text/plain": [
       "(31, 2200)"
      ]
     },
     "execution_count": 26,
     "metadata": {},
     "output_type": "execute_result"
    }
   ],
   "source": [
    "X_test, void = processData(PCA_test,lookback,horizon,num_companies,horizon)\n",
    "void, y_test = processData(array_test,lookback,horizon,num_companies,horizon) \n",
    "y_test = np.array([list(a.ravel()) for a in y_test])\n",
    "\n",
    "\n",
    "Xt = model.predict(X_test)\n",
    "Xt.shape"
   ]
  },
  {
   "cell_type": "markdown",
   "metadata": {
    "id": "q-MFu8-Wj26n"
   },
   "source": [
    "### Un-scaling the data and returning data to original shape\n",
    "Because the results were scaled to train the model, the output is non sensible until we return the data into its original form"
   ]
  },
  {
   "cell_type": "code",
   "execution_count": 27,
   "metadata": {
    "id": "YCZa7bH3nrrG"
   },
   "outputs": [],
   "source": [
    "#Aux function 1\n",
    "def do_inverse_transform(output_result,num_companies):\n",
    "    #transform to input shape\n",
    "    original_matrix_format = []\n",
    "    for result in output_result:\n",
    "        #do inverse transform\n",
    "        original_matrix_format.append(scl.inverse_transform([result[x:x+num_companies] for x in range(0, len(result), num_companies)]))\n",
    "    original_matrix_format = np.array(original_matrix_format)\n",
    "    \n",
    "    #restore to original shape\n",
    "    for i in range(len(original_matrix_format)):\n",
    "        output_result[i] = original_matrix_format[i].ravel()\n",
    "\n",
    "    return output_result"
   ]
  },
  {
   "cell_type": "code",
   "execution_count": 28,
   "metadata": {
    "id": "m4IeTsnRoMmt"
   },
   "outputs": [],
   "source": [
    "#Aux function 2\n",
    "def prediction_by_step_by_company(raw_model_output, num_companies):\n",
    "    matrix_prediction = []\n",
    "    for i in range(0,num_companies):\n",
    "        matrix_prediction.append([[lista[j] for j in range(i,len(lista),num_companies)] for lista in raw_model_output])\n",
    "    return np.array(matrix_prediction)"
   ]
  },
  {
   "cell_type": "code",
   "execution_count": 29,
   "metadata": {
    "id": "WUNBSxTNonPf"
   },
   "outputs": [],
   "source": [
    "#Aux function 3\n",
    "def target_by_company(raw_model_output, num_companies):\n",
    "    matrix_target = [[] for x in range(num_companies)]\n",
    "    \n",
    "    for output in raw_model_output:\n",
    "        for i in range (num_companies):\n",
    "            for j in range(0,len(output),num_companies):\n",
    "                matrix_target[i].append(output[i+j])\n",
    "    return np.array(matrix_target)"
   ]
  },
  {
   "cell_type": "code",
   "execution_count": 30,
   "metadata": {
    "colab": {
     "base_uri": "https://localhost:8080/"
    },
    "id": "xUwRD23joasO",
    "outputId": "40d23890-986f-4c3a-a18a-c44567c802b7"
   },
   "outputs": [
    {
     "data": {
      "text/plain": [
       "(100, 31, 22)"
      ]
     },
     "execution_count": 30,
     "metadata": {},
     "output_type": "execute_result"
    }
   ],
   "source": [
    "Xt = do_inverse_transform(Xt, num_companies)\n",
    "predictions = prediction_by_step_by_company(Xt, num_companies)\n",
    "predictions.shape"
   ]
  },
  {
   "cell_type": "code",
   "execution_count": 31,
   "metadata": {
    "colab": {
     "base_uri": "https://localhost:8080/"
    },
    "id": "KwnpZOfKouQ7",
    "outputId": "a3f4c92b-2ee9-47db-f0cd-6d2f75f98c33"
   },
   "outputs": [
    {
     "data": {
      "text/plain": [
       "(100, 682)"
      ]
     },
     "execution_count": 31,
     "metadata": {},
     "output_type": "execute_result"
    }
   ],
   "source": [
    "Yt = do_inverse_transform(y_test, num_companies)\n",
    "\n",
    "actuals = target_by_company(Yt, num_companies)\n",
    "actuals.shape"
   ]
  },
  {
   "cell_type": "markdown",
   "metadata": {
    "id": "8Na0yhNFp0iW"
   },
   "source": [
    "### Prediction Results on Test Data - Plot"
   ]
  },
  {
   "cell_type": "code",
   "execution_count": 32,
   "metadata": {
    "colab": {
     "base_uri": "https://localhost:8080/",
     "height": 593
    },
    "id": "taD2NcrysbYw",
    "outputId": "2426316a-cd07-4d6f-8079-a799ee11bf1c"
   },
   "outputs": [
    {
     "data": {
      "image/png": "[encoded data removed]",
      "text/plain": [
       "<Figure size 1080x720 with 1 Axes>"
      ]
     },
     "metadata": {
      "needs_background": "light"
     },
     "output_type": "display_data"
    }
   ],
   "source": [
    "plt.figure(figsize = (15,10))\n",
    "\n",
    "companies_to_show = [2] \n",
    "colors = ['r','g','c','m','y','k','w','b']\n",
    "companies_names = ['A', 'AAPL', 'ABC', 'ABMD']\n",
    " \n",
    "for id_company in companies_to_show:\n",
    "    for i in range(0,len(predictions[id_company])):\n",
    "        plt.plot([x + i*horizon for x in range(len(predictions[id_company][i]))], predictions[id_company][i], color=colors[id_company])\n",
    "    plt.plot(0,predictions[id_company][0][0] ,color=colors[id_company], label='predict_{}'.format(companies_names[id_company])) #only to place the label\n",
    "\n",
    "   \n",
    "\n",
    "for id_company in companies_to_show:\n",
    "    plt.plot(actuals[id_company], label='target_{}'.format(companies_names[id_company]))\n",
    "\n",
    "plt.legend(loc='best')\n",
    "plt.show()"
   ]
  },
  {
   "cell_type": "code",
   "execution_count": 33,
   "metadata": {
    "id": "ZQDxv1cYQZlU"
   },
   "outputs": [],
   "source": [
    "full_PCA = np.concatenate((PCA_train,PCA_test),axis = 0)"
   ]
  },
  {
   "cell_type": "code",
   "execution_count": 34,
   "metadata": {
    "id": "ZeFZszhKo9j5"
   },
   "outputs": [],
   "source": [
    "X_all,void = processData(full_PCA,lookback,horizon,num_companies,horizon)\n",
    "void,y_all = processData(scl.fit_transform(df_close),lookback,horizon,num_companies,horizon)\n",
    "y_all = np.array([list(a.ravel()) for a in y_all])"
   ]
  },
  {
   "cell_type": "code",
   "execution_count": 35,
   "metadata": {
    "colab": {
     "base_uri": "https://localhost:8080/"
    },
    "id": "mx5EfjXMpdZm",
    "outputId": "bc3f783c-225f-418f-eb46-3ae9636efb6d"
   },
   "outputs": [
    {
     "data": {
      "text/plain": [
       "(204, 2200)"
      ]
     },
     "execution_count": 35,
     "metadata": {},
     "output_type": "execute_result"
    }
   ],
   "source": [
    "Xt = model.predict(X_all)\n",
    "Xt.shape"
   ]
  },
  {
   "cell_type": "code",
   "execution_count": 36,
   "metadata": {
    "colab": {
     "base_uri": "https://localhost:8080/"
    },
    "id": "mZOuyY6gplgY",
    "outputId": "b835bf7c-c29d-4340-fd45-8b23b033b81c"
   },
   "outputs": [
    {
     "data": {
      "text/plain": [
       "(100, 204, 22)"
      ]
     },
     "execution_count": 36,
     "metadata": {},
     "output_type": "execute_result"
    }
   ],
   "source": [
    "Xt = do_inverse_transform(Xt, num_companies)\n",
    "\n",
    "predictions = prediction_by_step_by_company(Xt, num_companies)\n",
    "predictions.shape"
   ]
  },
  {
   "cell_type": "code",
   "execution_count": 37,
   "metadata": {
    "colab": {
     "base_uri": "https://localhost:8080/"
    },
    "id": "5Q1JgTd2pq1R",
    "outputId": "f48f3299-c2ca-498a-b956-782c10cd7783"
   },
   "outputs": [
    {
     "data": {
      "text/plain": [
       "(100, 4774)"
      ]
     },
     "execution_count": 37,
     "metadata": {},
     "output_type": "execute_result"
    }
   ],
   "source": [
    "Yt = do_inverse_transform(y_all, num_companies)\n",
    "\n",
    "actuals = target_by_company(Yt, num_companies)\n",
    "actuals.shape"
   ]
  },
  {
   "cell_type": "markdown",
   "metadata": {
    "id": "vyYKDoDFp8QI"
   },
   "source": [
    "### Prediction Results on Full Data - Plot"
   ]
  },
  {
   "cell_type": "code",
   "execution_count": 38,
   "metadata": {
    "colab": {
     "base_uri": "https://localhost:8080/",
     "height": 395
    },
    "id": "E-CdUYZipvpo",
    "outputId": "f7953048-8b70-4022-d73e-0fc1bfa6c2af"
   },
   "outputs": [
    {
     "data": {
      "image/png": "[encoded data removed]",
      "text/plain": [
       "<Figure size 2880x720 with 1 Axes>"
      ]
     },
     "metadata": {
      "needs_background": "light"
     },
     "output_type": "display_data"
    }
   ],
   "source": [
    "plt.figure(figsize = (40,10))\n",
    "\n",
    "companies_to_show = [2] #Type a number between 0:4 to see 4 different companies\n",
    "colors = ['r','g','c','m','y','k','w','b']\n",
    "companies_names = ['A', 'B', 'C', 'D']\n",
    "\n",
    "    \n",
    "for id_company in companies_to_show:\n",
    "    for i in range(0,len(predictions[id_company])):\n",
    "        plt.plot([x + i*horizon for x in range(len(predictions[id_company][i]))], predictions[id_company][i], color=colors[id_company])\n",
    "    plt.plot(0,predictions[id_company][0][0] ,color=colors[id_company], label='predict_{}'.format(companies_names[id_company])) #only to place the label\n",
    "\n",
    "   \n",
    "\n",
    "for id_company in companies_to_show:\n",
    "    plt.plot(actuals[id_company], label='target_{}'.format(companies_names[id_company]))\n",
    "\n",
    "plt.legend(loc='best')\n",
    "plt.show()\n",
    "\n",
    "##QQ-plot"
   ]
  },
  {
   "cell_type": "markdown",
   "metadata": {
    "id": "rAKKjncvLPb2"
   },
   "source": [
    "# Stock Prices Predictions"
   ]
  },
  {
   "cell_type": "code",
   "execution_count": 39,
   "metadata": {
    "colab": {
     "base_uri": "https://localhost:8080/"
    },
    "id": "JhOmsdNhLO1c",
    "outputId": "3490b02c-17f6-4ec0-dd4a-70a8e702c4b9"
   },
   "outputs": [
    {
     "name": "stdout",
     "output_type": "stream",
     "text": [
      "4488\n"
     ]
    }
   ],
   "source": [
    "predicted_prices = np.zeros((predictions.shape[1]*predictions.shape[2],predictions.shape[0]))\n",
    "# actual_prices = []\n",
    "\n",
    "for i in range(predictions.shape[0]):\n",
    "  counter = 0\n",
    "  for j in range(predictions.shape[1]):\n",
    "    for z in range(predictions.shape[2]):\n",
    "      predicted_prices[counter, i] = predictions[i,j,z]\n",
    "      counter+=1\n",
    "\n",
    "print(counter)"
   ]
  },
  {
   "cell_type": "code",
   "execution_count": 40,
   "metadata": {
    "id": "Nb-cYBcyUioe"
   },
   "outputs": [],
   "source": [
    "actuals_prices = actuals[:,:4488].T"
   ]
  },
  {
   "cell_type": "code",
   "execution_count": 41,
   "metadata": {
    "colab": {
     "base_uri": "https://localhost:8080/"
    },
    "id": "ATR5Q-ypOkIV",
    "outputId": "fc1cdcd8-6959-427b-e758-890395bf944f"
   },
   "outputs": [
    {
     "name": "stdout",
     "output_type": "stream",
     "text": [
      "(4488, 100)\n",
      "(4488, 100)\n",
      "(5032,)\n"
     ]
    }
   ],
   "source": [
    "print(predicted_prices.shape)\n",
    "print(actuals_prices.shape)\n",
    "print(dates.shape)\n",
    "#(lookback+1, )"
   ]
  },
  {
   "cell_type": "code",
   "execution_count": 42,
   "metadata": {
    "colab": {
     "base_uri": "https://localhost:8080/"
    },
    "id": "FQXBQHNLVjVe",
    "outputId": "dd263a46-14f6-43fb-89c0-1de027b4d66c"
   },
   "outputs": [
    {
     "data": {
      "text/plain": [
       "288"
      ]
     },
     "execution_count": 42,
     "metadata": {},
     "output_type": "execute_result"
    }
   ],
   "source": [
    "(5027-lookback+1)-4488"
   ]
  },
  {
   "cell_type": "code",
   "execution_count": 43,
   "metadata": {
    "id": "wFdRyJe_LjkP"
   },
   "outputs": [],
   "source": [
    "# Need to remove certain days because we predict into the future. But, we aren't able to test these predicted days\n",
    "# against actual days in our porfolio optimization\n",
    "\n",
    "actual_prices = pd.DataFrame(data = actuals_prices, columns = stocks,index = dates[lookback+1:5028-287])\n",
    "predicted_prices = pd.DataFrame(data = predicted_prices,columns=stocks, index = dates[lookback+1:5028-287])"
   ]
  },
  {
   "cell_type": "code",
   "execution_count": 44,
   "metadata": {
    "colab": {
     "base_uri": "https://localhost:8080/",
     "height": 640
    },
    "id": "qN3uK3RbWvEs",
    "outputId": "94887c92-af04-4107-cd43-e46f8e51bb74"
   },
   "outputs": [
    {
     "data": {
      "text/html": [
       "<div>\n",
       "<style scoped>\n",
       "    .dataframe tbody tr th:only-of-type {\n",
       "        vertical-align: middle;\n",
       "    }\n",
       "\n",
       "    .dataframe tbody tr th {\n",
       "        vertical-align: top;\n",
       "    }\n",
       "\n",
       "    .dataframe thead th {\n",
       "        text-align: right;\n",
       "    }\n",
       "</style>\n",
       "<table border=\"1\" class=\"dataframe\">\n",
       "  <thead>\n",
       "    <tr style=\"text-align: right;\">\n",
       "      <th>Index</th>\n",
       "      <th>A</th>\n",
       "      <th>AAP</th>\n",
       "      <th>AAPL</th>\n",
       "      <th>ABC</th>\n",
       "      <th>ABMD</th>\n",
       "      <th>ABT</th>\n",
       "      <th>ACN</th>\n",
       "      <th>ADBE</th>\n",
       "      <th>ADI</th>\n",
       "      <th>ADM</th>\n",
       "      <th>...</th>\n",
       "      <th>ED</th>\n",
       "      <th>GLW</th>\n",
       "      <th>KMX</th>\n",
       "      <th>KO</th>\n",
       "      <th>LNT</th>\n",
       "      <th>MMM</th>\n",
       "      <th>MO</th>\n",
       "      <th>SCHW</th>\n",
       "      <th>STZ</th>\n",
       "      <th>T</th>\n",
       "    </tr>\n",
       "    <tr>\n",
       "      <th>Date</th>\n",
       "      <th></th>\n",
       "      <th></th>\n",
       "      <th></th>\n",
       "      <th></th>\n",
       "      <th></th>\n",
       "      <th></th>\n",
       "      <th></th>\n",
       "      <th></th>\n",
       "      <th></th>\n",
       "      <th></th>\n",
       "      <th></th>\n",
       "      <th></th>\n",
       "      <th></th>\n",
       "      <th></th>\n",
       "      <th></th>\n",
       "      <th></th>\n",
       "      <th></th>\n",
       "      <th></th>\n",
       "      <th></th>\n",
       "      <th></th>\n",
       "      <th></th>\n",
       "    </tr>\n",
       "  </thead>\n",
       "  <tbody>\n",
       "    <tr>\n",
       "      <th>2003-11-19</th>\n",
       "      <td>19.864092</td>\n",
       "      <td>26.416668</td>\n",
       "      <td>0.364464</td>\n",
       "      <td>15.952500</td>\n",
       "      <td>7.450000</td>\n",
       "      <td>19.787552</td>\n",
       "      <td>24.120001</td>\n",
       "      <td>20.049999</td>\n",
       "      <td>44.889999</td>\n",
       "      <td>14.220000</td>\n",
       "      <td>...</td>\n",
       "      <td>39.009998</td>\n",
       "      <td>10.540000</td>\n",
       "      <td>15.785000</td>\n",
       "      <td>23.250000</td>\n",
       "      <td>11.850000</td>\n",
       "      <td>77.209999</td>\n",
       "      <td>49.869999</td>\n",
       "      <td>11.420000</td>\n",
       "      <td>15.525000</td>\n",
       "      <td>17.454683</td>\n",
       "    </tr>\n",
       "    <tr>\n",
       "      <th>2003-11-20</th>\n",
       "      <td>19.814020</td>\n",
       "      <td>25.833332</td>\n",
       "      <td>0.364643</td>\n",
       "      <td>16.240000</td>\n",
       "      <td>7.470000</td>\n",
       "      <td>19.913242</td>\n",
       "      <td>24.049999</td>\n",
       "      <td>19.799999</td>\n",
       "      <td>46.590000</td>\n",
       "      <td>14.240000</td>\n",
       "      <td>...</td>\n",
       "      <td>39.299999</td>\n",
       "      <td>10.940000</td>\n",
       "      <td>15.800000</td>\n",
       "      <td>23.430000</td>\n",
       "      <td>11.865000</td>\n",
       "      <td>76.849998</td>\n",
       "      <td>50.000000</td>\n",
       "      <td>11.340000</td>\n",
       "      <td>15.620000</td>\n",
       "      <td>17.386707</td>\n",
       "    </tr>\n",
       "    <tr>\n",
       "      <th>2003-11-21</th>\n",
       "      <td>19.484980</td>\n",
       "      <td>25.856667</td>\n",
       "      <td>0.363929</td>\n",
       "      <td>16.059999</td>\n",
       "      <td>7.390000</td>\n",
       "      <td>19.545143</td>\n",
       "      <td>24.219999</td>\n",
       "      <td>19.150000</td>\n",
       "      <td>45.810001</td>\n",
       "      <td>14.320000</td>\n",
       "      <td>...</td>\n",
       "      <td>39.290001</td>\n",
       "      <td>10.840000</td>\n",
       "      <td>15.765000</td>\n",
       "      <td>23.225000</td>\n",
       "      <td>11.740000</td>\n",
       "      <td>76.800003</td>\n",
       "      <td>50.020000</td>\n",
       "      <td>11.330000</td>\n",
       "      <td>15.775000</td>\n",
       "      <td>17.318731</td>\n",
       "    </tr>\n",
       "    <tr>\n",
       "      <th>2003-11-24</th>\n",
       "      <td>19.449213</td>\n",
       "      <td>25.936666</td>\n",
       "      <td>0.362143</td>\n",
       "      <td>15.737500</td>\n",
       "      <td>7.600000</td>\n",
       "      <td>19.603500</td>\n",
       "      <td>24.160000</td>\n",
       "      <td>19.680000</td>\n",
       "      <td>47.180000</td>\n",
       "      <td>14.130000</td>\n",
       "      <td>...</td>\n",
       "      <td>39.400002</td>\n",
       "      <td>10.860000</td>\n",
       "      <td>16.000000</td>\n",
       "      <td>23.209999</td>\n",
       "      <td>11.730000</td>\n",
       "      <td>77.510002</td>\n",
       "      <td>50.090000</td>\n",
       "      <td>11.400000</td>\n",
       "      <td>16.065001</td>\n",
       "      <td>17.394260</td>\n",
       "    </tr>\n",
       "    <tr>\n",
       "      <th>2003-11-25</th>\n",
       "      <td>19.814020</td>\n",
       "      <td>26.770000</td>\n",
       "      <td>0.377679</td>\n",
       "      <td>15.950000</td>\n",
       "      <td>7.240000</td>\n",
       "      <td>20.012001</td>\n",
       "      <td>24.860001</td>\n",
       "      <td>20.700001</td>\n",
       "      <td>48.779999</td>\n",
       "      <td>14.340000</td>\n",
       "      <td>...</td>\n",
       "      <td>39.630001</td>\n",
       "      <td>11.360000</td>\n",
       "      <td>16.715000</td>\n",
       "      <td>23.209999</td>\n",
       "      <td>12.000000</td>\n",
       "      <td>79.559998</td>\n",
       "      <td>50.590000</td>\n",
       "      <td>11.090000</td>\n",
       "      <td>16.350000</td>\n",
       "      <td>17.416918</td>\n",
       "    </tr>\n",
       "    <tr>\n",
       "      <th>...</th>\n",
       "      <td>...</td>\n",
       "      <td>...</td>\n",
       "      <td>...</td>\n",
       "      <td>...</td>\n",
       "      <td>...</td>\n",
       "      <td>...</td>\n",
       "      <td>...</td>\n",
       "      <td>...</td>\n",
       "      <td>...</td>\n",
       "      <td>...</td>\n",
       "      <td>...</td>\n",
       "      <td>...</td>\n",
       "      <td>...</td>\n",
       "      <td>...</td>\n",
       "      <td>...</td>\n",
       "      <td>...</td>\n",
       "      <td>...</td>\n",
       "      <td>...</td>\n",
       "      <td>...</td>\n",
       "      <td>...</td>\n",
       "      <td>...</td>\n",
       "    </tr>\n",
       "    <tr>\n",
       "      <th>2021-09-13</th>\n",
       "      <td>177.229996</td>\n",
       "      <td>200.029999</td>\n",
       "      <td>148.970001</td>\n",
       "      <td>122.809998</td>\n",
       "      <td>361.200012</td>\n",
       "      <td>128.800003</td>\n",
       "      <td>341.920013</td>\n",
       "      <td>658.940002</td>\n",
       "      <td>169.940002</td>\n",
       "      <td>59.889999</td>\n",
       "      <td>...</td>\n",
       "      <td>74.690002</td>\n",
       "      <td>38.830002</td>\n",
       "      <td>134.529999</td>\n",
       "      <td>55.610001</td>\n",
       "      <td>59.770000</td>\n",
       "      <td>184.550003</td>\n",
       "      <td>50.599998</td>\n",
       "      <td>71.440002</td>\n",
       "      <td>213.910004</td>\n",
       "      <td>20.528702</td>\n",
       "    </tr>\n",
       "    <tr>\n",
       "      <th>2021-09-14</th>\n",
       "      <td>172.080002</td>\n",
       "      <td>199.259995</td>\n",
       "      <td>149.550003</td>\n",
       "      <td>123.639999</td>\n",
       "      <td>352.000000</td>\n",
       "      <td>126.620003</td>\n",
       "      <td>339.440002</td>\n",
       "      <td>645.150024</td>\n",
       "      <td>172.809998</td>\n",
       "      <td>61.150002</td>\n",
       "      <td>...</td>\n",
       "      <td>74.410004</td>\n",
       "      <td>38.950001</td>\n",
       "      <td>134.389999</td>\n",
       "      <td>56.070000</td>\n",
       "      <td>59.430000</td>\n",
       "      <td>185.229996</td>\n",
       "      <td>50.080002</td>\n",
       "      <td>71.889999</td>\n",
       "      <td>214.899994</td>\n",
       "      <td>20.785498</td>\n",
       "    </tr>\n",
       "    <tr>\n",
       "      <th>2021-09-15</th>\n",
       "      <td>172.419998</td>\n",
       "      <td>201.169998</td>\n",
       "      <td>148.119995</td>\n",
       "      <td>123.089996</td>\n",
       "      <td>353.529999</td>\n",
       "      <td>127.050003</td>\n",
       "      <td>340.720001</td>\n",
       "      <td>645.010010</td>\n",
       "      <td>173.470001</td>\n",
       "      <td>60.380001</td>\n",
       "      <td>...</td>\n",
       "      <td>74.190002</td>\n",
       "      <td>38.259998</td>\n",
       "      <td>135.000000</td>\n",
       "      <td>55.689999</td>\n",
       "      <td>59.279999</td>\n",
       "      <td>182.419998</td>\n",
       "      <td>48.369999</td>\n",
       "      <td>69.730003</td>\n",
       "      <td>215.589996</td>\n",
       "      <td>20.641994</td>\n",
       "    </tr>\n",
       "    <tr>\n",
       "      <th>2021-09-16</th>\n",
       "      <td>173.789993</td>\n",
       "      <td>206.210007</td>\n",
       "      <td>149.029999</td>\n",
       "      <td>125.800003</td>\n",
       "      <td>355.179993</td>\n",
       "      <td>127.489998</td>\n",
       "      <td>344.429993</td>\n",
       "      <td>661.080017</td>\n",
       "      <td>174.080002</td>\n",
       "      <td>62.520000</td>\n",
       "      <td>...</td>\n",
       "      <td>73.989998</td>\n",
       "      <td>38.639999</td>\n",
       "      <td>136.809998</td>\n",
       "      <td>55.880001</td>\n",
       "      <td>59.270000</td>\n",
       "      <td>184.190002</td>\n",
       "      <td>49.230000</td>\n",
       "      <td>71.150002</td>\n",
       "      <td>218.500000</td>\n",
       "      <td>20.823263</td>\n",
       "    </tr>\n",
       "    <tr>\n",
       "      <th>2021-09-17</th>\n",
       "      <td>173.279999</td>\n",
       "      <td>207.690002</td>\n",
       "      <td>148.789993</td>\n",
       "      <td>124.230003</td>\n",
       "      <td>357.869995</td>\n",
       "      <td>127.440002</td>\n",
       "      <td>342.230011</td>\n",
       "      <td>665.109985</td>\n",
       "      <td>173.210007</td>\n",
       "      <td>63.000000</td>\n",
       "      <td>...</td>\n",
       "      <td>73.660004</td>\n",
       "      <td>38.840000</td>\n",
       "      <td>139.690002</td>\n",
       "      <td>55.349998</td>\n",
       "      <td>58.650002</td>\n",
       "      <td>182.660004</td>\n",
       "      <td>48.790001</td>\n",
       "      <td>70.779999</td>\n",
       "      <td>215.449997</td>\n",
       "      <td>20.845921</td>\n",
       "    </tr>\n",
       "  </tbody>\n",
       "</table>\n",
       "<p>4488 rows × 100 columns</p>\n",
       "</div>"
      ],
      "text/plain": [
       "Index                A         AAP        AAPL         ABC        ABMD  \\\n",
       "Date                                                                     \n",
       "2003-11-19   19.864092   26.416668    0.364464   15.952500    7.450000   \n",
       "2003-11-20   19.814020   25.833332    0.364643   16.240000    7.470000   \n",
       "2003-11-21   19.484980   25.856667    0.363929   16.059999    7.390000   \n",
       "2003-11-24   19.449213   25.936666    0.362143   15.737500    7.600000   \n",
       "2003-11-25   19.814020   26.770000    0.377679   15.950000    7.240000   \n",
       "...                ...         ...         ...         ...         ...   \n",
       "2021-09-13  177.229996  200.029999  148.970001  122.809998  361.200012   \n",
       "2021-09-14  172.080002  199.259995  149.550003  123.639999  352.000000   \n",
       "2021-09-15  172.419998  201.169998  148.119995  123.089996  353.529999   \n",
       "2021-09-16  173.789993  206.210007  149.029999  125.800003  355.179993   \n",
       "2021-09-17  173.279999  207.690002  148.789993  124.230003  357.869995   \n",
       "\n",
       "Index              ABT         ACN        ADBE         ADI        ADM  ...  \\\n",
       "Date                                                                   ...   \n",
       "2003-11-19   19.787552   24.120001   20.049999   44.889999  14.220000  ...   \n",
       "2003-11-20   19.913242   24.049999   19.799999   46.590000  14.240000  ...   \n",
       "2003-11-21   19.545143   24.219999   19.150000   45.810001  14.320000  ...   \n",
       "2003-11-24   19.603500   24.160000   19.680000   47.180000  14.130000  ...   \n",
       "2003-11-25   20.012001   24.860001   20.700001   48.779999  14.340000  ...   \n",
       "...                ...         ...         ...         ...        ...  ...   \n",
       "2021-09-13  128.800003  341.920013  658.940002  169.940002  59.889999  ...   \n",
       "2021-09-14  126.620003  339.440002  645.150024  172.809998  61.150002  ...   \n",
       "2021-09-15  127.050003  340.720001  645.010010  173.470001  60.380001  ...   \n",
       "2021-09-16  127.489998  344.429993  661.080017  174.080002  62.520000  ...   \n",
       "2021-09-17  127.440002  342.230011  665.109985  173.210007  63.000000  ...   \n",
       "\n",
       "Index              ED        GLW         KMX         KO        LNT  \\\n",
       "Date                                                                 \n",
       "2003-11-19  39.009998  10.540000   15.785000  23.250000  11.850000   \n",
       "2003-11-20  39.299999  10.940000   15.800000  23.430000  11.865000   \n",
       "2003-11-21  39.290001  10.840000   15.765000  23.225000  11.740000   \n",
       "2003-11-24  39.400002  10.860000   16.000000  23.209999  11.730000   \n",
       "2003-11-25  39.630001  11.360000   16.715000  23.209999  12.000000   \n",
       "...               ...        ...         ...        ...        ...   \n",
       "2021-09-13  74.690002  38.830002  134.529999  55.610001  59.770000   \n",
       "2021-09-14  74.410004  38.950001  134.389999  56.070000  59.430000   \n",
       "2021-09-15  74.190002  38.259998  135.000000  55.689999  59.279999   \n",
       "2021-09-16  73.989998  38.639999  136.809998  55.880001  59.270000   \n",
       "2021-09-17  73.660004  38.840000  139.690002  55.349998  58.650002   \n",
       "\n",
       "Index              MMM         MO       SCHW         STZ          T  \n",
       "Date                                                                 \n",
       "2003-11-19   77.209999  49.869999  11.420000   15.525000  17.454683  \n",
       "2003-11-20   76.849998  50.000000  11.340000   15.620000  17.386707  \n",
       "2003-11-21   76.800003  50.020000  11.330000   15.775000  17.318731  \n",
       "2003-11-24   77.510002  50.090000  11.400000   16.065001  17.394260  \n",
       "2003-11-25   79.559998  50.590000  11.090000   16.350000  17.416918  \n",
       "...                ...        ...        ...         ...        ...  \n",
       "2021-09-13  184.550003  50.599998  71.440002  213.910004  20.528702  \n",
       "2021-09-14  185.229996  50.080002  71.889999  214.899994  20.785498  \n",
       "2021-09-15  182.419998  48.369999  69.730003  215.589996  20.641994  \n",
       "2021-09-16  184.190002  49.230000  71.150002  218.500000  20.823263  \n",
       "2021-09-17  182.660004  48.790001  70.779999  215.449997  20.845921  \n",
       "\n",
       "[4488 rows x 100 columns]"
      ]
     },
     "execution_count": 44,
     "metadata": {},
     "output_type": "execute_result"
    }
   ],
   "source": [
    "actual_prices"
   ]
  },
  {
   "cell_type": "code",
   "execution_count": 45,
   "metadata": {
    "colab": {
     "base_uri": "https://localhost:8080/",
     "height": 640
    },
    "id": "omyPKMaxXILi",
    "outputId": "23189231-46e9-46ea-b3f3-249aa8412258"
   },
   "outputs": [
    {
     "data": {
      "text/html": [
       "<div>\n",
       "<style scoped>\n",
       "    .dataframe tbody tr th:only-of-type {\n",
       "        vertical-align: middle;\n",
       "    }\n",
       "\n",
       "    .dataframe tbody tr th {\n",
       "        vertical-align: top;\n",
       "    }\n",
       "\n",
       "    .dataframe thead th {\n",
       "        text-align: right;\n",
       "    }\n",
       "</style>\n",
       "<table border=\"1\" class=\"dataframe\">\n",
       "  <thead>\n",
       "    <tr style=\"text-align: right;\">\n",
       "      <th>Index</th>\n",
       "      <th>A</th>\n",
       "      <th>AAP</th>\n",
       "      <th>AAPL</th>\n",
       "      <th>ABC</th>\n",
       "      <th>ABMD</th>\n",
       "      <th>ABT</th>\n",
       "      <th>ACN</th>\n",
       "      <th>ADBE</th>\n",
       "      <th>ADI</th>\n",
       "      <th>ADM</th>\n",
       "      <th>...</th>\n",
       "      <th>ED</th>\n",
       "      <th>GLW</th>\n",
       "      <th>KMX</th>\n",
       "      <th>KO</th>\n",
       "      <th>LNT</th>\n",
       "      <th>MMM</th>\n",
       "      <th>MO</th>\n",
       "      <th>SCHW</th>\n",
       "      <th>STZ</th>\n",
       "      <th>T</th>\n",
       "    </tr>\n",
       "    <tr>\n",
       "      <th>Date</th>\n",
       "      <th></th>\n",
       "      <th></th>\n",
       "      <th></th>\n",
       "      <th></th>\n",
       "      <th></th>\n",
       "      <th></th>\n",
       "      <th></th>\n",
       "      <th></th>\n",
       "      <th></th>\n",
       "      <th></th>\n",
       "      <th></th>\n",
       "      <th></th>\n",
       "      <th></th>\n",
       "      <th></th>\n",
       "      <th></th>\n",
       "      <th></th>\n",
       "      <th></th>\n",
       "      <th></th>\n",
       "      <th></th>\n",
       "      <th></th>\n",
       "      <th></th>\n",
       "    </tr>\n",
       "  </thead>\n",
       "  <tbody>\n",
       "    <tr>\n",
       "      <th>2003-11-19</th>\n",
       "      <td>41.081203</td>\n",
       "      <td>29.927748</td>\n",
       "      <td>1.843257</td>\n",
       "      <td>15.050277</td>\n",
       "      <td>19.342352</td>\n",
       "      <td>28.492386</td>\n",
       "      <td>44.459457</td>\n",
       "      <td>42.302956</td>\n",
       "      <td>85.291748</td>\n",
       "      <td>22.311178</td>\n",
       "      <td>...</td>\n",
       "      <td>42.451664</td>\n",
       "      <td>15.199770</td>\n",
       "      <td>21.184172</td>\n",
       "      <td>29.727402</td>\n",
       "      <td>15.395273</td>\n",
       "      <td>86.672966</td>\n",
       "      <td>50.046097</td>\n",
       "      <td>14.570660</td>\n",
       "      <td>17.340176</td>\n",
       "      <td>18.538385</td>\n",
       "    </tr>\n",
       "    <tr>\n",
       "      <th>2003-11-20</th>\n",
       "      <td>40.802052</td>\n",
       "      <td>29.580997</td>\n",
       "      <td>1.832802</td>\n",
       "      <td>15.197530</td>\n",
       "      <td>19.048992</td>\n",
       "      <td>28.262424</td>\n",
       "      <td>45.243710</td>\n",
       "      <td>43.034702</td>\n",
       "      <td>85.158546</td>\n",
       "      <td>22.280556</td>\n",
       "      <td>...</td>\n",
       "      <td>42.246735</td>\n",
       "      <td>15.022442</td>\n",
       "      <td>20.847984</td>\n",
       "      <td>29.517916</td>\n",
       "      <td>15.573805</td>\n",
       "      <td>86.132957</td>\n",
       "      <td>49.914536</td>\n",
       "      <td>14.413402</td>\n",
       "      <td>17.479166</td>\n",
       "      <td>18.529789</td>\n",
       "    </tr>\n",
       "    <tr>\n",
       "      <th>2003-11-21</th>\n",
       "      <td>41.651737</td>\n",
       "      <td>29.874384</td>\n",
       "      <td>1.993702</td>\n",
       "      <td>15.170302</td>\n",
       "      <td>19.260342</td>\n",
       "      <td>28.117119</td>\n",
       "      <td>45.133865</td>\n",
       "      <td>42.413475</td>\n",
       "      <td>85.948112</td>\n",
       "      <td>22.368788</td>\n",
       "      <td>...</td>\n",
       "      <td>42.458416</td>\n",
       "      <td>15.197019</td>\n",
       "      <td>20.528341</td>\n",
       "      <td>29.772375</td>\n",
       "      <td>15.556631</td>\n",
       "      <td>86.730614</td>\n",
       "      <td>50.255505</td>\n",
       "      <td>14.801978</td>\n",
       "      <td>17.613863</td>\n",
       "      <td>18.505203</td>\n",
       "    </tr>\n",
       "    <tr>\n",
       "      <th>2003-11-24</th>\n",
       "      <td>41.264130</td>\n",
       "      <td>30.145916</td>\n",
       "      <td>1.772182</td>\n",
       "      <td>14.909874</td>\n",
       "      <td>20.092428</td>\n",
       "      <td>27.925474</td>\n",
       "      <td>44.859943</td>\n",
       "      <td>42.221447</td>\n",
       "      <td>84.907921</td>\n",
       "      <td>22.358984</td>\n",
       "      <td>...</td>\n",
       "      <td>42.554348</td>\n",
       "      <td>15.169337</td>\n",
       "      <td>20.557777</td>\n",
       "      <td>29.528687</td>\n",
       "      <td>15.560107</td>\n",
       "      <td>87.015549</td>\n",
       "      <td>50.042213</td>\n",
       "      <td>14.625713</td>\n",
       "      <td>17.499432</td>\n",
       "      <td>18.502050</td>\n",
       "    </tr>\n",
       "    <tr>\n",
       "      <th>2003-11-25</th>\n",
       "      <td>42.054707</td>\n",
       "      <td>30.160696</td>\n",
       "      <td>1.765280</td>\n",
       "      <td>15.124083</td>\n",
       "      <td>19.588705</td>\n",
       "      <td>28.044432</td>\n",
       "      <td>46.487747</td>\n",
       "      <td>43.089760</td>\n",
       "      <td>84.875671</td>\n",
       "      <td>22.546906</td>\n",
       "      <td>...</td>\n",
       "      <td>42.497883</td>\n",
       "      <td>15.124206</td>\n",
       "      <td>20.211191</td>\n",
       "      <td>29.807795</td>\n",
       "      <td>15.207438</td>\n",
       "      <td>87.568733</td>\n",
       "      <td>50.699688</td>\n",
       "      <td>14.646981</td>\n",
       "      <td>17.445074</td>\n",
       "      <td>18.530741</td>\n",
       "    </tr>\n",
       "    <tr>\n",
       "      <th>...</th>\n",
       "      <td>...</td>\n",
       "      <td>...</td>\n",
       "      <td>...</td>\n",
       "      <td>...</td>\n",
       "      <td>...</td>\n",
       "      <td>...</td>\n",
       "      <td>...</td>\n",
       "      <td>...</td>\n",
       "      <td>...</td>\n",
       "      <td>...</td>\n",
       "      <td>...</td>\n",
       "      <td>...</td>\n",
       "      <td>...</td>\n",
       "      <td>...</td>\n",
       "      <td>...</td>\n",
       "      <td>...</td>\n",
       "      <td>...</td>\n",
       "      <td>...</td>\n",
       "      <td>...</td>\n",
       "      <td>...</td>\n",
       "      <td>...</td>\n",
       "    </tr>\n",
       "    <tr>\n",
       "      <th>2021-09-13</th>\n",
       "      <td>20.764175</td>\n",
       "      <td>29.408726</td>\n",
       "      <td>3.401349</td>\n",
       "      <td>14.752039</td>\n",
       "      <td>21.406025</td>\n",
       "      <td>32.360340</td>\n",
       "      <td>41.271378</td>\n",
       "      <td>46.454155</td>\n",
       "      <td>45.661533</td>\n",
       "      <td>25.676559</td>\n",
       "      <td>...</td>\n",
       "      <td>41.290585</td>\n",
       "      <td>11.721604</td>\n",
       "      <td>13.019097</td>\n",
       "      <td>23.600677</td>\n",
       "      <td>14.973316</td>\n",
       "      <td>73.245026</td>\n",
       "      <td>32.448372</td>\n",
       "      <td>12.103793</td>\n",
       "      <td>17.204702</td>\n",
       "      <td>18.440693</td>\n",
       "    </tr>\n",
       "    <tr>\n",
       "      <th>2021-09-14</th>\n",
       "      <td>21.675022</td>\n",
       "      <td>31.107059</td>\n",
       "      <td>3.923347</td>\n",
       "      <td>14.558957</td>\n",
       "      <td>20.247307</td>\n",
       "      <td>31.683702</td>\n",
       "      <td>43.545620</td>\n",
       "      <td>47.779949</td>\n",
       "      <td>43.866726</td>\n",
       "      <td>26.476192</td>\n",
       "      <td>...</td>\n",
       "      <td>41.762325</td>\n",
       "      <td>12.164594</td>\n",
       "      <td>12.611813</td>\n",
       "      <td>22.961063</td>\n",
       "      <td>15.119553</td>\n",
       "      <td>74.049713</td>\n",
       "      <td>31.355814</td>\n",
       "      <td>12.735097</td>\n",
       "      <td>17.353559</td>\n",
       "      <td>18.601723</td>\n",
       "    </tr>\n",
       "    <tr>\n",
       "      <th>2021-09-15</th>\n",
       "      <td>20.767286</td>\n",
       "      <td>29.956766</td>\n",
       "      <td>3.788455</td>\n",
       "      <td>14.613601</td>\n",
       "      <td>19.443808</td>\n",
       "      <td>32.719353</td>\n",
       "      <td>42.207142</td>\n",
       "      <td>44.762520</td>\n",
       "      <td>49.136871</td>\n",
       "      <td>25.571491</td>\n",
       "      <td>...</td>\n",
       "      <td>41.852074</td>\n",
       "      <td>13.328766</td>\n",
       "      <td>13.007674</td>\n",
       "      <td>23.097158</td>\n",
       "      <td>14.294201</td>\n",
       "      <td>72.206505</td>\n",
       "      <td>33.665081</td>\n",
       "      <td>12.661454</td>\n",
       "      <td>18.087070</td>\n",
       "      <td>18.308680</td>\n",
       "    </tr>\n",
       "    <tr>\n",
       "      <th>2021-09-16</th>\n",
       "      <td>21.495644</td>\n",
       "      <td>29.896090</td>\n",
       "      <td>3.487111</td>\n",
       "      <td>14.426886</td>\n",
       "      <td>18.703888</td>\n",
       "      <td>33.321106</td>\n",
       "      <td>44.488125</td>\n",
       "      <td>45.169193</td>\n",
       "      <td>45.973297</td>\n",
       "      <td>25.181170</td>\n",
       "      <td>...</td>\n",
       "      <td>41.633854</td>\n",
       "      <td>12.484586</td>\n",
       "      <td>12.307198</td>\n",
       "      <td>23.362347</td>\n",
       "      <td>15.587951</td>\n",
       "      <td>74.125031</td>\n",
       "      <td>33.265797</td>\n",
       "      <td>12.549544</td>\n",
       "      <td>17.995710</td>\n",
       "      <td>18.425928</td>\n",
       "    </tr>\n",
       "    <tr>\n",
       "      <th>2021-09-17</th>\n",
       "      <td>22.037537</td>\n",
       "      <td>29.271845</td>\n",
       "      <td>3.682492</td>\n",
       "      <td>14.963865</td>\n",
       "      <td>19.533644</td>\n",
       "      <td>32.507019</td>\n",
       "      <td>45.247841</td>\n",
       "      <td>48.775234</td>\n",
       "      <td>45.750027</td>\n",
       "      <td>25.297174</td>\n",
       "      <td>...</td>\n",
       "      <td>42.030895</td>\n",
       "      <td>12.533182</td>\n",
       "      <td>13.654221</td>\n",
       "      <td>22.873823</td>\n",
       "      <td>15.340792</td>\n",
       "      <td>72.236938</td>\n",
       "      <td>31.088606</td>\n",
       "      <td>12.358057</td>\n",
       "      <td>17.321833</td>\n",
       "      <td>18.829704</td>\n",
       "    </tr>\n",
       "  </tbody>\n",
       "</table>\n",
       "<p>4488 rows × 100 columns</p>\n",
       "</div>"
      ],
      "text/plain": [
       "Index               A        AAP      AAPL        ABC       ABMD        ABT  \\\n",
       "Date                                                                          \n",
       "2003-11-19  41.081203  29.927748  1.843257  15.050277  19.342352  28.492386   \n",
       "2003-11-20  40.802052  29.580997  1.832802  15.197530  19.048992  28.262424   \n",
       "2003-11-21  41.651737  29.874384  1.993702  15.170302  19.260342  28.117119   \n",
       "2003-11-24  41.264130  30.145916  1.772182  14.909874  20.092428  27.925474   \n",
       "2003-11-25  42.054707  30.160696  1.765280  15.124083  19.588705  28.044432   \n",
       "...               ...        ...       ...        ...        ...        ...   \n",
       "2021-09-13  20.764175  29.408726  3.401349  14.752039  21.406025  32.360340   \n",
       "2021-09-14  21.675022  31.107059  3.923347  14.558957  20.247307  31.683702   \n",
       "2021-09-15  20.767286  29.956766  3.788455  14.613601  19.443808  32.719353   \n",
       "2021-09-16  21.495644  29.896090  3.487111  14.426886  18.703888  33.321106   \n",
       "2021-09-17  22.037537  29.271845  3.682492  14.963865  19.533644  32.507019   \n",
       "\n",
       "Index             ACN       ADBE        ADI        ADM  ...         ED  \\\n",
       "Date                                                    ...              \n",
       "2003-11-19  44.459457  42.302956  85.291748  22.311178  ...  42.451664   \n",
       "2003-11-20  45.243710  43.034702  85.158546  22.280556  ...  42.246735   \n",
       "2003-11-21  45.133865  42.413475  85.948112  22.368788  ...  42.458416   \n",
       "2003-11-24  44.859943  42.221447  84.907921  22.358984  ...  42.554348   \n",
       "2003-11-25  46.487747  43.089760  84.875671  22.546906  ...  42.497883   \n",
       "...               ...        ...        ...        ...  ...        ...   \n",
       "2021-09-13  41.271378  46.454155  45.661533  25.676559  ...  41.290585   \n",
       "2021-09-14  43.545620  47.779949  43.866726  26.476192  ...  41.762325   \n",
       "2021-09-15  42.207142  44.762520  49.136871  25.571491  ...  41.852074   \n",
       "2021-09-16  44.488125  45.169193  45.973297  25.181170  ...  41.633854   \n",
       "2021-09-17  45.247841  48.775234  45.750027  25.297174  ...  42.030895   \n",
       "\n",
       "Index             GLW        KMX         KO        LNT        MMM         MO  \\\n",
       "Date                                                                           \n",
       "2003-11-19  15.199770  21.184172  29.727402  15.395273  86.672966  50.046097   \n",
       "2003-11-20  15.022442  20.847984  29.517916  15.573805  86.132957  49.914536   \n",
       "2003-11-21  15.197019  20.528341  29.772375  15.556631  86.730614  50.255505   \n",
       "2003-11-24  15.169337  20.557777  29.528687  15.560107  87.015549  50.042213   \n",
       "2003-11-25  15.124206  20.211191  29.807795  15.207438  87.568733  50.699688   \n",
       "...               ...        ...        ...        ...        ...        ...   \n",
       "2021-09-13  11.721604  13.019097  23.600677  14.973316  73.245026  32.448372   \n",
       "2021-09-14  12.164594  12.611813  22.961063  15.119553  74.049713  31.355814   \n",
       "2021-09-15  13.328766  13.007674  23.097158  14.294201  72.206505  33.665081   \n",
       "2021-09-16  12.484586  12.307198  23.362347  15.587951  74.125031  33.265797   \n",
       "2021-09-17  12.533182  13.654221  22.873823  15.340792  72.236938  31.088606   \n",
       "\n",
       "Index            SCHW        STZ          T  \n",
       "Date                                         \n",
       "2003-11-19  14.570660  17.340176  18.538385  \n",
       "2003-11-20  14.413402  17.479166  18.529789  \n",
       "2003-11-21  14.801978  17.613863  18.505203  \n",
       "2003-11-24  14.625713  17.499432  18.502050  \n",
       "2003-11-25  14.646981  17.445074  18.530741  \n",
       "...               ...        ...        ...  \n",
       "2021-09-13  12.103793  17.204702  18.440693  \n",
       "2021-09-14  12.735097  17.353559  18.601723  \n",
       "2021-09-15  12.661454  18.087070  18.308680  \n",
       "2021-09-16  12.549544  17.995710  18.425928  \n",
       "2021-09-17  12.358057  17.321833  18.829704  \n",
       "\n",
       "[4488 rows x 100 columns]"
      ]
     },
     "execution_count": 45,
     "metadata": {},
     "output_type": "execute_result"
    }
   ],
   "source": [
    "predicted_prices"
   ]
  },
  {
   "cell_type": "code",
   "execution_count": 46,
   "metadata": {
    "colab": {
     "base_uri": "https://localhost:8080/"
    },
    "id": "y_OJTX9qYNwp",
    "outputId": "7573e07f-08bb-4ac5-e1ee-6a6aebf428f4"
   },
   "outputs": [
    {
     "ename": "ModuleNotFoundError",
     "evalue": "No module named 'google.colab'",
     "output_type": "error",
     "traceback": [
      "\u001b[1;31m---------------------------------------------------------------------------\u001b[0m",
      "\u001b[1;31mModuleNotFoundError\u001b[0m                       Traceback (most recent call last)",
      "\u001b[1;32m<ipython-input-46-7b0c2cba9ae5>\u001b[0m in \u001b[0;36m<module>\u001b[1;34m\u001b[0m\n\u001b[1;32m----> 1\u001b[1;33m \u001b[1;32mfrom\u001b[0m \u001b[0mgoogle\u001b[0m\u001b[1;33m.\u001b[0m\u001b[0mcolab\u001b[0m \u001b[1;32mimport\u001b[0m \u001b[0mdrive\u001b[0m\u001b[1;33m\u001b[0m\u001b[1;33m\u001b[0m\u001b[0m\n\u001b[0m\u001b[0;32m      2\u001b[0m \u001b[0mdrive\u001b[0m\u001b[1;33m.\u001b[0m\u001b[0mmount\u001b[0m\u001b[1;33m(\u001b[0m\u001b[1;34m'drive'\u001b[0m\u001b[1;33m)\u001b[0m\u001b[1;33m\u001b[0m\u001b[1;33m\u001b[0m\u001b[0m\n",
      "\u001b[1;31mModuleNotFoundError\u001b[0m: No module named 'google.colab'"
     ]
    }
   ],
   "source": [
    "from google.colab import drive\n",
    "drive.mount('drive')"
   ]
  },
  {
   "cell_type": "code",
   "execution_count": 47,
   "metadata": {
    "id": "rx4h8w3LYW-f"
   },
   "outputs": [],
   "source": [
    "predicted_prices.to_csv('PCA_Predicted_Prices1.csv')\n",
    "#!cp PCA_Predicted_Prices1.csv \"drive/My Drive/Machine Learning Project/ML Section Exports\""
   ]
  },
  {
   "cell_type": "code",
   "execution_count": 48,
   "metadata": {
    "id": "hykop5FIY1-o"
   },
   "outputs": [],
   "source": [
    "actual_prices.to_csv('PCA_Actual_Prices1.csv')\n",
    "#!cp PCA_Actual_Prices1.csv \"drive/My Drive/Machine Learning Project/ML Section Exports\""
   ]
  },
  {
   "cell_type": "code",
   "execution_count": null,
   "metadata": {},
   "outputs": [],
   "source": []
  }
 ],
 "metadata": {
  "accelerator": "GPU",
  "colab": {
   "collapsed_sections": [
    "P0nQZTjziHer",
    "LFmXplYiwLEP"
   ],
   "machine_shape": "hm",
   "name": "PCA + LSTM",
   "provenance": [],
   "toc_visible": true
  },
  "kernelspec": {
   "display_name": "Python 3",
   "language": "python",
   "name": "python3"
  },
  "language_info": {
   "codemirror_mode": {
    "name": "ipython",
    "version": 3
   },
   "file_extension": ".py",
   "mimetype": "text/x-python",
   "name": "python",
   "nbconvert_exporter": "python",
   "pygments_lexer": "ipython3",
   "version": "3.8.3"
  },
  "vscode": {
   "interpreter": {
    "hash": "a81e717453c1c9220bd2b0a92a440804623a7fd7d56f43b894f9685e24d7b501"
   }
  }
 },
 "nbformat": 4,
 "nbformat_minor": 1
}
