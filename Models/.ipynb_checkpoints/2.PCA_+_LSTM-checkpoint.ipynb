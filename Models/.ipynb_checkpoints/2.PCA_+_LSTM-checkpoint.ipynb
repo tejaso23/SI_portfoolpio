{
 "cells": [
  {
   "cell_type": "markdown",
   "metadata": {
    "id": "P0nQZTjziHer"
   },
   "source": [
    "### GPU Available?"
   ]
  },
  {
   "cell_type": "code",
   "execution_count": null,
   "metadata": {
    "colab": {
     "base_uri": "https://localhost:8080/"
    },
    "id": "cQChsjb-iGwX",
    "outputId": "3c2299d8-ede3-42b2-ee1c-d30249e6ed3b"
   },
   "outputs": [
    {
     "ename": "",
     "evalue": "",
     "output_type": "error",
     "traceback": [
      "\u001b[1;31mRunning cells with 'Python 3.8.8 ('base')' requires ipykernel package.\n",
      "\u001b[1;31mRun the following command to install 'ipykernel' into the Python environment. \n",
      "\u001b[1;31mCommand: 'conda install -n base ipykernel --update-deps --force-reinstall'"
     ]
    }
   ],
   "source": [
    "from tensorflow.python.client import device_lib\n",
    "print(device_lib.list_local_devices())"
   ]
  },
  {
   "cell_type": "markdown",
   "metadata": {
    "id": "ZM9x0IGpV2MD"
   },
   "source": [
    "### Data Pulling"
   ]
  },
  {
   "cell_type": "code",
   "execution_count": null,
   "metadata": {
    "id": "cJmrAB6CUyQ2"
   },
   "outputs": [
    {
     "ename": "",
     "evalue": "",
     "output_type": "error",
     "traceback": [
      "\u001b[1;31mRunning cells with 'Python 3.8.8 ('base')' requires ipykernel package.\n",
      "\u001b[1;31mRun the following command to install 'ipykernel' into the Python environment. \n",
      "\u001b[1;31mCommand: 'conda install -n base ipykernel --update-deps --force-reinstall'"
     ]
    }
   ],
   "source": [
    "from pydrive.auth import GoogleAuth \n",
    "from pydrive.drive import GoogleDrive \n",
    "from google.colab import auth \n",
    "from oauth2client.client import GoogleCredentials \n",
    "  \n",
    "  \n",
    "# Authenticate and create the PyDrive client. \n",
    "auth.authenticate_user() \n",
    "gauth = GoogleAuth() \n",
    "gauth.credentials = GoogleCredentials.get_application_default() \n",
    "drive = GoogleDrive(gauth)"
   ]
  },
  {
   "cell_type": "code",
   "execution_count": 3,
   "metadata": {
    "id": "SL7CkZVeVmdA"
   },
   "outputs": [
    {
     "ename": "NameError",
     "evalue": "name 'downloaded' is not defined",
     "output_type": "error",
     "traceback": [
      "\u001b[1;31m---------------------------------------------------------------------------\u001b[0m",
      "\u001b[1;31mNameError\u001b[0m                                 Traceback (most recent call last)",
      "\u001b[1;32m<ipython-input-3-a076c2b77106>\u001b[0m in \u001b[0;36m<module>\u001b[1;34m\u001b[0m\n\u001b[0;32m      1\u001b[0m \u001b[1;31m#This part linkes the dataset in the drive to the google colab file\u001b[0m\u001b[1;33m\u001b[0m\u001b[1;33m\u001b[0m\u001b[1;33m\u001b[0m\u001b[0m\n\u001b[0;32m      2\u001b[0m \u001b[1;33m\u001b[0m\u001b[0m\n\u001b[1;32m----> 3\u001b[1;33m \u001b[0mdownloaded\u001b[0m\u001b[1;33m.\u001b[0m\u001b[0mGetContentFile\u001b[0m\u001b[1;33m(\u001b[0m\u001b[1;34m'stockprizes.csv'\u001b[0m\u001b[1;33m)\u001b[0m\u001b[1;33m\u001b[0m\u001b[1;33m\u001b[0m\u001b[0m\n\u001b[0m",
      "\u001b[1;31mNameError\u001b[0m: name 'downloaded' is not defined"
     ]
    }
   ],
   "source": [
    "#This part linkes the dataset in the drive to the google colab file\n",
    "link = 'https://drive.google.com/file/d/1GEsalW5I7kD50HaBdUgUZSk1d3qBM1Z5/view?usp=sharing'\n",
    "id = link.split('/')[-2]\n",
    "downloaded = drive.CreateFile({'id' : id})\n",
    "downloaded.GetContentFile('stockprizes.csv')"
   ]
  },
  {
   "cell_type": "code",
   "execution_count": 1,
   "metadata": {
    "colab": {
     "base_uri": "https://localhost:8080/"
    },
    "id": "VPJRYLd_VoYt",
    "outputId": "3c7a931e-a58f-449b-b548-5a5e962c33a7"
   },
   "outputs": [
    {
     "name": "stdout",
     "output_type": "stream",
     "text": [
      "<class 'pandas.core.frame.DataFrame'>\n",
      "RangeIndex: 591628 entries, 0 to 591627\n",
      "Data columns (total 3 columns):\n",
      " #   Column  Non-Null Count   Dtype         \n",
      "---  ------  --------------   -----         \n",
      " 0   Date    591628 non-null  datetime64[ns]\n",
      " 1   Index   591628 non-null  object        \n",
      " 2   Close   591599 non-null  float64       \n",
      "dtypes: datetime64[ns](1), float64(1), object(1)\n",
      "memory usage: 13.5+ MB\n"
     ]
    }
   ],
   "source": [
    "import pandas as pd\n",
    "import numpy as np\n",
    "import matplotlib.pyplot as plt\n",
    "import seaborn as sns\n",
    "%matplotlib inline\n",
    "\n",
    "df = pd.read_csv('stockprizes.csv')\n",
    "df[\"DailyRet\"] = 0\n",
    "df[\"20DayRet\"] = 0\n",
    "df[\"20DayVol\"] = 0\n",
    "df[\"Z20DayRet\"] = 0\n",
    "df['Z20DayVol'] = 0\n",
    "df['Date']= pd.to_datetime(df['Date'])\n",
    "df_close = df[['Date', 'Index', 'Close']] \n",
    "df_close.info()\n",
    "df_close = df_close.pivot_table(index = 'Date', columns = 'Index', values = 'Close').dropna(axis=1)\n",
    "stocks_tickers = df_close.columns"
   ]
  },
  {
   "cell_type": "code",
   "execution_count": 2,
   "metadata": {
    "id": "_i1A4L8-M9Yf"
   },
   "outputs": [],
   "source": [
    "#Saving Trading Days\n",
    "dates = df_close.index\n",
    "\n",
    "#Saving Stocks\n",
    "stocks = df_close.columns"
   ]
  },
  {
   "cell_type": "markdown",
   "metadata": {
    "id": "z1z2hA7Ca2Uu"
   },
   "source": [
    "# Feature Engineering"
   ]
  },
  {
   "cell_type": "code",
   "execution_count": 3,
   "metadata": {
    "colab": {
     "base_uri": "https://localhost:8080/",
     "height": 400
    },
    "id": "JRy3b1HGa5pJ",
    "outputId": "39271602-cdef-4339-a4fe-be68e59e4918"
   },
   "outputs": [
    {
     "data": {
      "text/html": [
       "<div>\n",
       "<style scoped>\n",
       "    .dataframe tbody tr th:only-of-type {\n",
       "        vertical-align: middle;\n",
       "    }\n",
       "\n",
       "    .dataframe tbody tr th {\n",
       "        vertical-align: top;\n",
       "    }\n",
       "\n",
       "    .dataframe thead tr th {\n",
       "        text-align: left;\n",
       "    }\n",
       "\n",
       "    .dataframe thead tr:last-of-type th {\n",
       "        text-align: right;\n",
       "    }\n",
       "</style>\n",
       "<table border=\"1\" class=\"dataframe\">\n",
       "  <thead>\n",
       "    <tr>\n",
       "      <th>Index</th>\n",
       "      <th colspan=\"10\" halign=\"left\">A</th>\n",
       "      <th>...</th>\n",
       "      <th colspan=\"10\" halign=\"left\">T</th>\n",
       "    </tr>\n",
       "    <tr>\n",
       "      <th></th>\n",
       "      <th>20DayRet</th>\n",
       "      <th>20DayVol</th>\n",
       "      <th>Adjusted</th>\n",
       "      <th>Close</th>\n",
       "      <th>DailyRet</th>\n",
       "      <th>High</th>\n",
       "      <th>Low</th>\n",
       "      <th>Open</th>\n",
       "      <th>Volume</th>\n",
       "      <th>Z20DayRet</th>\n",
       "      <th>...</th>\n",
       "      <th>20DayVol</th>\n",
       "      <th>Adjusted</th>\n",
       "      <th>Close</th>\n",
       "      <th>DailyRet</th>\n",
       "      <th>High</th>\n",
       "      <th>Low</th>\n",
       "      <th>Open</th>\n",
       "      <th>Volume</th>\n",
       "      <th>Z20DayRet</th>\n",
       "      <th>Z20DayVol</th>\n",
       "    </tr>\n",
       "    <tr>\n",
       "      <th>Date</th>\n",
       "      <th></th>\n",
       "      <th></th>\n",
       "      <th></th>\n",
       "      <th></th>\n",
       "      <th></th>\n",
       "      <th></th>\n",
       "      <th></th>\n",
       "      <th></th>\n",
       "      <th></th>\n",
       "      <th></th>\n",
       "      <th></th>\n",
       "      <th></th>\n",
       "      <th></th>\n",
       "      <th></th>\n",
       "      <th></th>\n",
       "      <th></th>\n",
       "      <th></th>\n",
       "      <th></th>\n",
       "      <th></th>\n",
       "      <th></th>\n",
       "      <th></th>\n",
       "    </tr>\n",
       "  </thead>\n",
       "  <tbody>\n",
       "    <tr>\n",
       "      <th>2002-11-18</th>\n",
       "      <td>NaN</td>\n",
       "      <td>NaN</td>\n",
       "      <td>8.323743</td>\n",
       "      <td>9.728183</td>\n",
       "      <td>NaN</td>\n",
       "      <td>10.071531</td>\n",
       "      <td>9.670959</td>\n",
       "      <td>9.799714</td>\n",
       "      <td>2996613.0</td>\n",
       "      <td>NaN</td>\n",
       "      <td>...</td>\n",
       "      <td>NaN</td>\n",
       "      <td>4.537619</td>\n",
       "      <td>19.365559</td>\n",
       "      <td>NaN</td>\n",
       "      <td>19.667673</td>\n",
       "      <td>18.882175</td>\n",
       "      <td>19.214502</td>\n",
       "      <td>10821052.0</td>\n",
       "      <td>NaN</td>\n",
       "      <td>NaN</td>\n",
       "    </tr>\n",
       "    <tr>\n",
       "      <th>2002-11-19</th>\n",
       "      <td>NaN</td>\n",
       "      <td>NaN</td>\n",
       "      <td>10.159863</td>\n",
       "      <td>11.874106</td>\n",
       "      <td>0.220588</td>\n",
       "      <td>12.210300</td>\n",
       "      <td>10.515021</td>\n",
       "      <td>10.550787</td>\n",
       "      <td>18513155.0</td>\n",
       "      <td>NaN</td>\n",
       "      <td>...</td>\n",
       "      <td>NaN</td>\n",
       "      <td>4.509303</td>\n",
       "      <td>19.244713</td>\n",
       "      <td>-0.006240</td>\n",
       "      <td>19.410875</td>\n",
       "      <td>18.935045</td>\n",
       "      <td>19.335346</td>\n",
       "      <td>8903238.0</td>\n",
       "      <td>NaN</td>\n",
       "      <td>NaN</td>\n",
       "    </tr>\n",
       "    <tr>\n",
       "      <th>2002-11-20</th>\n",
       "      <td>NaN</td>\n",
       "      <td>NaN</td>\n",
       "      <td>10.410803</td>\n",
       "      <td>12.167382</td>\n",
       "      <td>0.024699</td>\n",
       "      <td>12.303290</td>\n",
       "      <td>11.452074</td>\n",
       "      <td>11.866953</td>\n",
       "      <td>6616874.0</td>\n",
       "      <td>NaN</td>\n",
       "      <td>...</td>\n",
       "      <td>NaN</td>\n",
       "      <td>4.636724</td>\n",
       "      <td>19.788521</td>\n",
       "      <td>0.028258</td>\n",
       "      <td>20.279455</td>\n",
       "      <td>19.040785</td>\n",
       "      <td>19.123867</td>\n",
       "      <td>12969639.0</td>\n",
       "      <td>NaN</td>\n",
       "      <td>NaN</td>\n",
       "    </tr>\n",
       "    <tr>\n",
       "      <th>2002-11-21</th>\n",
       "      <td>NaN</td>\n",
       "      <td>NaN</td>\n",
       "      <td>11.163611</td>\n",
       "      <td>13.047210</td>\n",
       "      <td>0.072310</td>\n",
       "      <td>13.261803</td>\n",
       "      <td>12.439199</td>\n",
       "      <td>12.446352</td>\n",
       "      <td>7871020.0</td>\n",
       "      <td>NaN</td>\n",
       "      <td>...</td>\n",
       "      <td>NaN</td>\n",
       "      <td>4.863253</td>\n",
       "      <td>20.755287</td>\n",
       "      <td>0.048855</td>\n",
       "      <td>21.095165</td>\n",
       "      <td>19.728098</td>\n",
       "      <td>19.788521</td>\n",
       "      <td>14758231.0</td>\n",
       "      <td>NaN</td>\n",
       "      <td>NaN</td>\n",
       "    </tr>\n",
       "    <tr>\n",
       "      <th>2002-11-22</th>\n",
       "      <td>NaN</td>\n",
       "      <td>NaN</td>\n",
       "      <td>11.169734</td>\n",
       "      <td>13.054363</td>\n",
       "      <td>0.000548</td>\n",
       "      <td>13.412017</td>\n",
       "      <td>12.875536</td>\n",
       "      <td>13.054363</td>\n",
       "      <td>4724960.0</td>\n",
       "      <td>NaN</td>\n",
       "      <td>...</td>\n",
       "      <td>NaN</td>\n",
       "      <td>4.875641</td>\n",
       "      <td>20.808157</td>\n",
       "      <td>0.002547</td>\n",
       "      <td>21.283989</td>\n",
       "      <td>20.475830</td>\n",
       "      <td>20.762840</td>\n",
       "      <td>10615435.0</td>\n",
       "      <td>NaN</td>\n",
       "      <td>NaN</td>\n",
       "    </tr>\n",
       "  </tbody>\n",
       "</table>\n",
       "<p>5 rows × 1100 columns</p>\n",
       "</div>"
      ],
      "text/plain": [
       "Index             A                                                      \\\n",
       "           20DayRet 20DayVol   Adjusted      Close  DailyRet       High   \n",
       "Date                                                                      \n",
       "2002-11-18      NaN      NaN   8.323743   9.728183       NaN  10.071531   \n",
       "2002-11-19      NaN      NaN  10.159863  11.874106  0.220588  12.210300   \n",
       "2002-11-20      NaN      NaN  10.410803  12.167382  0.024699  12.303290   \n",
       "2002-11-21      NaN      NaN  11.163611  13.047210  0.072310  13.261803   \n",
       "2002-11-22      NaN      NaN  11.169734  13.054363  0.000548  13.412017   \n",
       "\n",
       "Index                                                   ...        T  \\\n",
       "                  Low       Open      Volume Z20DayRet  ... 20DayVol   \n",
       "Date                                                    ...            \n",
       "2002-11-18   9.670959   9.799714   2996613.0       NaN  ...      NaN   \n",
       "2002-11-19  10.515021  10.550787  18513155.0       NaN  ...      NaN   \n",
       "2002-11-20  11.452074  11.866953   6616874.0       NaN  ...      NaN   \n",
       "2002-11-21  12.439199  12.446352   7871020.0       NaN  ...      NaN   \n",
       "2002-11-22  12.875536  13.054363   4724960.0       NaN  ...      NaN   \n",
       "\n",
       "Index                                                                       \\\n",
       "            Adjusted      Close  DailyRet       High        Low       Open   \n",
       "Date                                                                         \n",
       "2002-11-18  4.537619  19.365559       NaN  19.667673  18.882175  19.214502   \n",
       "2002-11-19  4.509303  19.244713 -0.006240  19.410875  18.935045  19.335346   \n",
       "2002-11-20  4.636724  19.788521  0.028258  20.279455  19.040785  19.123867   \n",
       "2002-11-21  4.863253  20.755287  0.048855  21.095165  19.728098  19.788521   \n",
       "2002-11-22  4.875641  20.808157  0.002547  21.283989  20.475830  20.762840   \n",
       "\n",
       "Index                                       \n",
       "                Volume Z20DayRet Z20DayVol  \n",
       "Date                                        \n",
       "2002-11-18  10821052.0       NaN       NaN  \n",
       "2002-11-19   8903238.0       NaN       NaN  \n",
       "2002-11-20  12969639.0       NaN       NaN  \n",
       "2002-11-21  14758231.0       NaN       NaN  \n",
       "2002-11-22  10615435.0       NaN       NaN  \n",
       "\n",
       "[5 rows x 1100 columns]"
      ]
     },
     "execution_count": 3,
     "metadata": {},
     "output_type": "execute_result"
    }
   ],
   "source": [
    "raw_df = df.drop(columns = ['Unnamed: 0']).set_index(['Date' , 'Index']).unstack(level = 1).stack(level = 0).unstack()\n",
    "raw_df = raw_df.dropna(axis = 1)\n",
    "for stock in stocks_tickers:\n",
    "  #Calculate Daily Returns\n",
    "  raw_df.loc[:, (stock, 'DailyRet')] = raw_df[stock][\"Close\"].pct_change()\n",
    "  #Calculate 20-Day Returns\n",
    "  raw_df.loc[:, (stock, '20DayRet')] = raw_df[stock][\"Close\"].pct_change(20)\n",
    "  #Calculate Rolling 20 day volatility \n",
    "  roller = raw_df[stock][\"DailyRet\"].rolling(20)\n",
    "  raw_df.loc[:, (stock, '20DayVol')] = roller.std(ddof=0)\n",
    "  \n",
    "  '''Normalize data with the rolling 252'''\n",
    "  #Normalize 20 Day Returns \n",
    "  rolling_year_ret = raw_df[stock][\"20DayRet\"].rolling(252)\n",
    "  raw_df.loc[:, (stock, 'Z20DayRet')] = (rolling_year_ret.mean().shift(1) - raw_df[stock]['20DayRet']) / rolling_year_ret.std(ddof=0).shift(1)\n",
    "  #Normalize 20 Day Volatility\n",
    "  rolling_year_vol = raw_df[stock][\"20DayVol\"].rolling(252)\n",
    "  raw_df.loc[:, (stock, 'Z20DayVol')] = (rolling_year_vol.mean().shift(1) - raw_df[stock]['20DayVol']) / rolling_year_vol.std(ddof=0).shift(1) \n",
    "\n",
    "raw_df.head(5)  "
   ]
  },
  {
   "cell_type": "code",
   "execution_count": 4,
   "metadata": {
    "id": "2nvpS5W4aMzV"
   },
   "outputs": [],
   "source": [
    "#DROP ROWS WITH NA vals \n",
    "full_feature_dataset = raw_df.dropna(axis=0)"
   ]
  },
  {
   "cell_type": "code",
   "execution_count": 5,
   "metadata": {
    "id": "luQBo0Acaw9e"
   },
   "outputs": [
    {
     "ename": "KeyError",
     "evalue": "\"['Open' 'High' 'Low' 'Close' 'Adjusted' 'Volume' 'DailyRet' 'Z20DayRet'\\n 'Z20DayVol'] not in index\"",
     "output_type": "error",
     "traceback": [
      "\u001b[1;31m---------------------------------------------------------------------------\u001b[0m",
      "\u001b[1;31mKeyError\u001b[0m                                  Traceback (most recent call last)",
      "\u001b[1;32m<ipython-input-5-1ee6135cb348>\u001b[0m in \u001b[0;36m<module>\u001b[1;34m\u001b[0m\n\u001b[1;32m----> 1\u001b[1;33m \u001b[0mfull_features\u001b[0m \u001b[1;33m=\u001b[0m \u001b[0mraw_df\u001b[0m\u001b[1;33m[\u001b[0m\u001b[1;33m[\u001b[0m\u001b[1;34m'Open'\u001b[0m\u001b[1;33m,\u001b[0m \u001b[1;34m'High'\u001b[0m\u001b[1;33m,\u001b[0m \u001b[1;34m'Low'\u001b[0m\u001b[1;33m,\u001b[0m \u001b[1;34m'Close'\u001b[0m\u001b[1;33m,\u001b[0m \u001b[1;34m'Adjusted'\u001b[0m\u001b[1;33m,\u001b[0m \u001b[1;34m'Volume'\u001b[0m\u001b[1;33m,\u001b[0m \u001b[1;34m'DailyRet'\u001b[0m\u001b[1;33m,\u001b[0m \u001b[1;34m'Z20DayRet'\u001b[0m\u001b[1;33m,\u001b[0m \u001b[1;34m'Z20DayVol'\u001b[0m\u001b[1;33m]\u001b[0m\u001b[1;33m]\u001b[0m\u001b[1;33m.\u001b[0m\u001b[0mcolumns\u001b[0m\u001b[1;33m.\u001b[0m\u001b[0mremove_unused_levels\u001b[0m\u001b[1;33m(\u001b[0m\u001b[1;33m)\u001b[0m\u001b[1;33m\u001b[0m\u001b[1;33m\u001b[0m\u001b[0m\n\u001b[0m",
      "\u001b[1;32m~\\anaconda3\\lib\\site-packages\\pandas\\core\\frame.py\u001b[0m in \u001b[0;36m__getitem__\u001b[1;34m(self, key)\u001b[0m\n\u001b[0;32m   3028\u001b[0m             \u001b[1;32mif\u001b[0m \u001b[0mis_iterator\u001b[0m\u001b[1;33m(\u001b[0m\u001b[0mkey\u001b[0m\u001b[1;33m)\u001b[0m\u001b[1;33m:\u001b[0m\u001b[1;33m\u001b[0m\u001b[1;33m\u001b[0m\u001b[0m\n\u001b[0;32m   3029\u001b[0m                 \u001b[0mkey\u001b[0m \u001b[1;33m=\u001b[0m \u001b[0mlist\u001b[0m\u001b[1;33m(\u001b[0m\u001b[0mkey\u001b[0m\u001b[1;33m)\u001b[0m\u001b[1;33m\u001b[0m\u001b[1;33m\u001b[0m\u001b[0m\n\u001b[1;32m-> 3030\u001b[1;33m             \u001b[0mindexer\u001b[0m \u001b[1;33m=\u001b[0m \u001b[0mself\u001b[0m\u001b[1;33m.\u001b[0m\u001b[0mloc\u001b[0m\u001b[1;33m.\u001b[0m\u001b[0m_get_listlike_indexer\u001b[0m\u001b[1;33m(\u001b[0m\u001b[0mkey\u001b[0m\u001b[1;33m,\u001b[0m \u001b[0maxis\u001b[0m\u001b[1;33m=\u001b[0m\u001b[1;36m1\u001b[0m\u001b[1;33m,\u001b[0m \u001b[0mraise_missing\u001b[0m\u001b[1;33m=\u001b[0m\u001b[1;32mTrue\u001b[0m\u001b[1;33m)\u001b[0m\u001b[1;33m[\u001b[0m\u001b[1;36m1\u001b[0m\u001b[1;33m]\u001b[0m\u001b[1;33m\u001b[0m\u001b[1;33m\u001b[0m\u001b[0m\n\u001b[0m\u001b[0;32m   3031\u001b[0m \u001b[1;33m\u001b[0m\u001b[0m\n\u001b[0;32m   3032\u001b[0m         \u001b[1;31m# take() does not accept boolean indexers\u001b[0m\u001b[1;33m\u001b[0m\u001b[1;33m\u001b[0m\u001b[1;33m\u001b[0m\u001b[0m\n",
      "\u001b[1;32m~\\anaconda3\\lib\\site-packages\\pandas\\core\\indexing.py\u001b[0m in \u001b[0;36m_get_listlike_indexer\u001b[1;34m(self, key, axis, raise_missing)\u001b[0m\n\u001b[0;32m   1252\u001b[0m         \u001b[1;31m# Have the index compute an indexer or return None\u001b[0m\u001b[1;33m\u001b[0m\u001b[1;33m\u001b[0m\u001b[1;33m\u001b[0m\u001b[0m\n\u001b[0;32m   1253\u001b[0m         \u001b[1;31m# if it cannot handle:\u001b[0m\u001b[1;33m\u001b[0m\u001b[1;33m\u001b[0m\u001b[1;33m\u001b[0m\u001b[0m\n\u001b[1;32m-> 1254\u001b[1;33m         \u001b[0mindexer\u001b[0m\u001b[1;33m,\u001b[0m \u001b[0mkeyarr\u001b[0m \u001b[1;33m=\u001b[0m \u001b[0max\u001b[0m\u001b[1;33m.\u001b[0m\u001b[0m_convert_listlike_indexer\u001b[0m\u001b[1;33m(\u001b[0m\u001b[0mkey\u001b[0m\u001b[1;33m)\u001b[0m\u001b[1;33m\u001b[0m\u001b[1;33m\u001b[0m\u001b[0m\n\u001b[0m\u001b[0;32m   1255\u001b[0m         \u001b[1;31m# We only act on all found values:\u001b[0m\u001b[1;33m\u001b[0m\u001b[1;33m\u001b[0m\u001b[1;33m\u001b[0m\u001b[0m\n\u001b[0;32m   1256\u001b[0m         \u001b[1;32mif\u001b[0m \u001b[0mindexer\u001b[0m \u001b[1;32mis\u001b[0m \u001b[1;32mnot\u001b[0m \u001b[1;32mNone\u001b[0m \u001b[1;32mand\u001b[0m \u001b[1;33m(\u001b[0m\u001b[0mindexer\u001b[0m \u001b[1;33m!=\u001b[0m \u001b[1;33m-\u001b[0m\u001b[1;36m1\u001b[0m\u001b[1;33m)\u001b[0m\u001b[1;33m.\u001b[0m\u001b[0mall\u001b[0m\u001b[1;33m(\u001b[0m\u001b[1;33m)\u001b[0m\u001b[1;33m:\u001b[0m\u001b[1;33m\u001b[0m\u001b[1;33m\u001b[0m\u001b[0m\n",
      "\u001b[1;32m~\\anaconda3\\lib\\site-packages\\pandas\\core\\indexes\\multi.py\u001b[0m in \u001b[0;36m_convert_listlike_indexer\u001b[1;34m(self, keyarr)\u001b[0m\n\u001b[0;32m   2566\u001b[0m             \u001b[0mmask\u001b[0m \u001b[1;33m=\u001b[0m \u001b[0mcheck\u001b[0m \u001b[1;33m==\u001b[0m \u001b[1;33m-\u001b[0m\u001b[1;36m1\u001b[0m\u001b[1;33m\u001b[0m\u001b[1;33m\u001b[0m\u001b[0m\n\u001b[0;32m   2567\u001b[0m             \u001b[1;32mif\u001b[0m \u001b[0mmask\u001b[0m\u001b[1;33m.\u001b[0m\u001b[0many\u001b[0m\u001b[1;33m(\u001b[0m\u001b[1;33m)\u001b[0m\u001b[1;33m:\u001b[0m\u001b[1;33m\u001b[0m\u001b[1;33m\u001b[0m\u001b[0m\n\u001b[1;32m-> 2568\u001b[1;33m                 \u001b[1;32mraise\u001b[0m \u001b[0mKeyError\u001b[0m\u001b[1;33m(\u001b[0m\u001b[1;34mf\"{keyarr[mask]} not in index\"\u001b[0m\u001b[1;33m)\u001b[0m\u001b[1;33m\u001b[0m\u001b[1;33m\u001b[0m\u001b[0m\n\u001b[0m\u001b[0;32m   2569\u001b[0m \u001b[1;33m\u001b[0m\u001b[0m\n\u001b[0;32m   2570\u001b[0m         \u001b[1;32mreturn\u001b[0m \u001b[0mindexer\u001b[0m\u001b[1;33m,\u001b[0m \u001b[0mkeyarr\u001b[0m\u001b[1;33m\u001b[0m\u001b[1;33m\u001b[0m\u001b[0m\n",
      "\u001b[1;31mKeyError\u001b[0m: \"['Open' 'High' 'Low' 'Close' 'Adjusted' 'Volume' 'DailyRet' 'Z20DayRet'\\n 'Z20DayVol'] not in index\""
     ]
    }
   ],
   "source": [
    "full_features = raw_df[['Open', 'High', 'Low', 'Close', 'Adjusted', 'Volume', 'DailyRet', 'Z20DayRet', 'Z20DayVol']].columns.remove_unused_levels()"
   ]
  },
  {
   "cell_type": "markdown",
   "metadata": {
    "id": "2LQxCVLguZ8c"
   },
   "source": [
    "# Principal Component Analysis"
   ]
  },
  {
   "cell_type": "code",
   "execution_count": 6,
   "metadata": {
    "colab": {
     "base_uri": "https://localhost:8080/",
     "height": 400
    },
    "id": "8V0L3gkhuixn",
    "outputId": "f37ba04b-4108-4c87-9ba0-c112af2707bc"
   },
   "outputs": [
    {
     "data": {
      "text/html": [
       "<div>\n",
       "<style scoped>\n",
       "    .dataframe tbody tr th:only-of-type {\n",
       "        vertical-align: middle;\n",
       "    }\n",
       "\n",
       "    .dataframe tbody tr th {\n",
       "        vertical-align: top;\n",
       "    }\n",
       "\n",
       "    .dataframe thead tr th {\n",
       "        text-align: left;\n",
       "    }\n",
       "\n",
       "    .dataframe thead tr:last-of-type th {\n",
       "        text-align: right;\n",
       "    }\n",
       "</style>\n",
       "<table border=\"1\" class=\"dataframe\">\n",
       "  <thead>\n",
       "    <tr>\n",
       "      <th>Index</th>\n",
       "      <th colspan=\"10\" halign=\"left\">A</th>\n",
       "      <th>...</th>\n",
       "      <th colspan=\"10\" halign=\"left\">T</th>\n",
       "    </tr>\n",
       "    <tr>\n",
       "      <th></th>\n",
       "      <th>20DayRet</th>\n",
       "      <th>20DayVol</th>\n",
       "      <th>Adjusted</th>\n",
       "      <th>Close</th>\n",
       "      <th>DailyRet</th>\n",
       "      <th>High</th>\n",
       "      <th>Low</th>\n",
       "      <th>Open</th>\n",
       "      <th>Volume</th>\n",
       "      <th>Z20DayRet</th>\n",
       "      <th>...</th>\n",
       "      <th>20DayVol</th>\n",
       "      <th>Adjusted</th>\n",
       "      <th>Close</th>\n",
       "      <th>DailyRet</th>\n",
       "      <th>High</th>\n",
       "      <th>Low</th>\n",
       "      <th>Open</th>\n",
       "      <th>Volume</th>\n",
       "      <th>Z20DayRet</th>\n",
       "      <th>Z20DayVol</th>\n",
       "    </tr>\n",
       "    <tr>\n",
       "      <th>Date</th>\n",
       "      <th></th>\n",
       "      <th></th>\n",
       "      <th></th>\n",
       "      <th></th>\n",
       "      <th></th>\n",
       "      <th></th>\n",
       "      <th></th>\n",
       "      <th></th>\n",
       "      <th></th>\n",
       "      <th></th>\n",
       "      <th></th>\n",
       "      <th></th>\n",
       "      <th></th>\n",
       "      <th></th>\n",
       "      <th></th>\n",
       "      <th></th>\n",
       "      <th></th>\n",
       "      <th></th>\n",
       "      <th></th>\n",
       "      <th></th>\n",
       "      <th></th>\n",
       "    </tr>\n",
       "  </thead>\n",
       "  <tbody>\n",
       "    <tr>\n",
       "      <th>2003-12-17</th>\n",
       "      <td>-0.021246</td>\n",
       "      <td>0.016019</td>\n",
       "      <td>16.635254</td>\n",
       "      <td>19.442060</td>\n",
       "      <td>-0.010197</td>\n",
       "      <td>19.685265</td>\n",
       "      <td>19.141630</td>\n",
       "      <td>19.678112</td>\n",
       "      <td>2362480.0</td>\n",
       "      <td>0.512653</td>\n",
       "      <td>...</td>\n",
       "      <td>0.012303</td>\n",
       "      <td>4.777606</td>\n",
       "      <td>18.935045</td>\n",
       "      <td>0.011703</td>\n",
       "      <td>18.957705</td>\n",
       "      <td>18.738670</td>\n",
       "      <td>18.791540</td>\n",
       "      <td>11758841.0</td>\n",
       "      <td>-0.995490</td>\n",
       "      <td>1.159951</td>\n",
       "    </tr>\n",
       "    <tr>\n",
       "      <th>2003-12-18</th>\n",
       "      <td>0.004332</td>\n",
       "      <td>0.016875</td>\n",
       "      <td>17.026953</td>\n",
       "      <td>19.899857</td>\n",
       "      <td>0.023547</td>\n",
       "      <td>20.100143</td>\n",
       "      <td>19.313305</td>\n",
       "      <td>19.313305</td>\n",
       "      <td>3739370.0</td>\n",
       "      <td>0.309948</td>\n",
       "      <td>...</td>\n",
       "      <td>0.012212</td>\n",
       "      <td>4.823344</td>\n",
       "      <td>19.116314</td>\n",
       "      <td>0.009573</td>\n",
       "      <td>19.138973</td>\n",
       "      <td>18.927492</td>\n",
       "      <td>18.972811</td>\n",
       "      <td>11449952.0</td>\n",
       "      <td>-1.156730</td>\n",
       "      <td>1.163700</td>\n",
       "    </tr>\n",
       "    <tr>\n",
       "      <th>2003-12-19</th>\n",
       "      <td>0.027533</td>\n",
       "      <td>0.016454</td>\n",
       "      <td>17.131004</td>\n",
       "      <td>20.021460</td>\n",
       "      <td>0.006111</td>\n",
       "      <td>20.207439</td>\n",
       "      <td>19.914164</td>\n",
       "      <td>20.185980</td>\n",
       "      <td>5827144.0</td>\n",
       "      <td>0.131322</td>\n",
       "      <td>...</td>\n",
       "      <td>0.012174</td>\n",
       "      <td>4.810004</td>\n",
       "      <td>19.063444</td>\n",
       "      <td>-0.002766</td>\n",
       "      <td>19.327795</td>\n",
       "      <td>18.912388</td>\n",
       "      <td>19.184290</td>\n",
       "      <td>18629739.0</td>\n",
       "      <td>-1.167849</td>\n",
       "      <td>1.159862</td>\n",
       "    </tr>\n",
       "    <tr>\n",
       "      <th>2003-12-22</th>\n",
       "      <td>0.043398</td>\n",
       "      <td>0.016640</td>\n",
       "      <td>17.363579</td>\n",
       "      <td>20.293276</td>\n",
       "      <td>0.013576</td>\n",
       "      <td>20.386267</td>\n",
       "      <td>19.914164</td>\n",
       "      <td>20.028612</td>\n",
       "      <td>2859469.0</td>\n",
       "      <td>0.010707</td>\n",
       "      <td>...</td>\n",
       "      <td>0.012196</td>\n",
       "      <td>4.850023</td>\n",
       "      <td>19.222054</td>\n",
       "      <td>0.008320</td>\n",
       "      <td>19.222054</td>\n",
       "      <td>18.904835</td>\n",
       "      <td>19.033234</td>\n",
       "      <td>10245377.0</td>\n",
       "      <td>-1.211672</td>\n",
       "      <td>1.147321</td>\n",
       "    </tr>\n",
       "    <tr>\n",
       "      <th>2003-12-23</th>\n",
       "      <td>0.020578</td>\n",
       "      <td>0.016239</td>\n",
       "      <td>17.302368</td>\n",
       "      <td>20.221745</td>\n",
       "      <td>-0.003525</td>\n",
       "      <td>20.314735</td>\n",
       "      <td>20.107296</td>\n",
       "      <td>20.171675</td>\n",
       "      <td>2761330.0</td>\n",
       "      <td>0.187924</td>\n",
       "      <td>...</td>\n",
       "      <td>0.012374</td>\n",
       "      <td>4.825250</td>\n",
       "      <td>19.123867</td>\n",
       "      <td>-0.005108</td>\n",
       "      <td>19.358006</td>\n",
       "      <td>19.025681</td>\n",
       "      <td>19.033234</td>\n",
       "      <td>9203786.0</td>\n",
       "      <td>-1.127273</td>\n",
       "      <td>1.112602</td>\n",
       "    </tr>\n",
       "  </tbody>\n",
       "</table>\n",
       "<p>5 rows × 1100 columns</p>\n",
       "</div>"
      ],
      "text/plain": [
       "Index              A                                                       \\\n",
       "            20DayRet  20DayVol   Adjusted      Close  DailyRet       High   \n",
       "Date                                                                        \n",
       "2003-12-17 -0.021246  0.016019  16.635254  19.442060 -0.010197  19.685265   \n",
       "2003-12-18  0.004332  0.016875  17.026953  19.899857  0.023547  20.100143   \n",
       "2003-12-19  0.027533  0.016454  17.131004  20.021460  0.006111  20.207439   \n",
       "2003-12-22  0.043398  0.016640  17.363579  20.293276  0.013576  20.386267   \n",
       "2003-12-23  0.020578  0.016239  17.302368  20.221745 -0.003525  20.314735   \n",
       "\n",
       "Index                                                  ...         T  \\\n",
       "                  Low       Open     Volume Z20DayRet  ...  20DayVol   \n",
       "Date                                                   ...             \n",
       "2003-12-17  19.141630  19.678112  2362480.0  0.512653  ...  0.012303   \n",
       "2003-12-18  19.313305  19.313305  3739370.0  0.309948  ...  0.012212   \n",
       "2003-12-19  19.914164  20.185980  5827144.0  0.131322  ...  0.012174   \n",
       "2003-12-22  19.914164  20.028612  2859469.0  0.010707  ...  0.012196   \n",
       "2003-12-23  20.107296  20.171675  2761330.0  0.187924  ...  0.012374   \n",
       "\n",
       "Index                                                                       \\\n",
       "            Adjusted      Close  DailyRet       High        Low       Open   \n",
       "Date                                                                         \n",
       "2003-12-17  4.777606  18.935045  0.011703  18.957705  18.738670  18.791540   \n",
       "2003-12-18  4.823344  19.116314  0.009573  19.138973  18.927492  18.972811   \n",
       "2003-12-19  4.810004  19.063444 -0.002766  19.327795  18.912388  19.184290   \n",
       "2003-12-22  4.850023  19.222054  0.008320  19.222054  18.904835  19.033234   \n",
       "2003-12-23  4.825250  19.123867 -0.005108  19.358006  19.025681  19.033234   \n",
       "\n",
       "Index                                       \n",
       "                Volume Z20DayRet Z20DayVol  \n",
       "Date                                        \n",
       "2003-12-17  11758841.0 -0.995490  1.159951  \n",
       "2003-12-18  11449952.0 -1.156730  1.163700  \n",
       "2003-12-19  18629739.0 -1.167849  1.159862  \n",
       "2003-12-22  10245377.0 -1.211672  1.147321  \n",
       "2003-12-23   9203786.0 -1.127273  1.112602  \n",
       "\n",
       "[5 rows x 1100 columns]"
      ]
     },
     "execution_count": 6,
     "metadata": {},
     "output_type": "execute_result"
    }
   ],
   "source": [
    "full_feature_dataset.head()"
   ]
  },
  {
   "cell_type": "code",
   "execution_count": 7,
   "metadata": {
    "colab": {
     "base_uri": "https://localhost:8080/"
    },
    "id": "V-AV6ZPBu5tg",
    "outputId": "c55993c8-1f0b-4135-f7fd-2814e604a6c1"
   },
   "outputs": [
    {
     "data": {
      "text/plain": [
       "(4760, 1100)"
      ]
     },
     "execution_count": 7,
     "metadata": {},
     "output_type": "execute_result"
    }
   ],
   "source": [
    "full_feature_dataset = full_feature_dataset.to_numpy()\n",
    "full_feature_dataset.shape"
   ]
  },
  {
   "cell_type": "markdown",
   "metadata": {
    "id": "LFmXplYiwLEP"
   },
   "source": [
    "### Performing PCA to Extract most useful features for the dataset"
   ]
  },
  {
   "cell_type": "code",
   "execution_count": 8,
   "metadata": {
    "id": "jvDRML2quZRg"
   },
   "outputs": [],
   "source": [
    "from sklearn.decomposition import PCA\n",
    "from sklearn.preprocessing import MinMaxScaler"
   ]
  },
  {
   "cell_type": "markdown",
   "metadata": {
    "id": "Glz8O4KUdJcL"
   },
   "source": [
    "# LSTM Stock Prediction"
   ]
  },
  {
   "cell_type": "markdown",
   "metadata": {
    "id": "Qo_hebaNzhGG"
   },
   "source": [
    "## Data Manipulation\n",
    "\n",
    "In this section several steps are performed...\n",
    "- Set our lookback/training window and horizon/testing window\n",
    "- Create a training, validation, and test set\n",
    "- Scale the data using MinMaxScaler\n",
    "- Process data into arrays with ranges of dates from (lookback, t) and (t+1, horizon). T jumps by one day each time."
   ]
  },
  {
   "cell_type": "code",
   "execution_count": 9,
   "metadata": {
    "id": "4A6vhTHHD80i"
   },
   "outputs": [],
   "source": [
    "closing_prices = df_close.iloc[:full_feature_dataset.shape[0],:]"
   ]
  },
  {
   "cell_type": "markdown",
   "metadata": {
    "id": "-E2xLQmskPgA"
   },
   "source": [
    "Creating train and test sets"
   ]
  },
  {
   "cell_type": "code",
   "execution_count": 10,
   "metadata": {
    "id": "8S7UjrVFW8bK"
   },
   "outputs": [],
   "source": [
    "from sklearn.model_selection import train_test_split\n",
    "#Division of data\n",
    "# df_close = df_close.to_numpy()\n",
    "array_train, array_test = train_test_split(closing_prices, shuffle = False, test_size = .2)\n",
    "PCA_train, PCA_test = train_test_split(full_feature_dataset, shuffle = False, test_size = .2)"
   ]
  },
  {
   "cell_type": "code",
   "execution_count": 11,
   "metadata": {
    "colab": {
     "base_uri": "https://localhost:8080/"
    },
    "id": "D1N1paWFPRsC",
    "outputId": "5d149a88-2d6c-42c5-9ccc-c12872536b9b"
   },
   "outputs": [
    {
     "name": "stdout",
     "output_type": "stream",
     "text": [
      "(3808, 100)\n",
      "(3808, 1100)\n"
     ]
    }
   ],
   "source": [
    "print(array_train.shape)\n",
    "print(PCA_train.shape)"
   ]
  },
  {
   "cell_type": "code",
   "execution_count": 12,
   "metadata": {
    "id": "WozBjGVpJ6eX"
   },
   "outputs": [],
   "source": [
    "from sklearn.decomposition import PCA\n",
    "pc3 = PCA()\n",
    "temp = pc3.fit_transform(PCA_train)"
   ]
  },
  {
   "cell_type": "markdown",
   "metadata": {
    "id": "SFsPbv5tKquB"
   },
   "source": [
    "Nearly all data is explained by 382 components"
   ]
  },
  {
   "cell_type": "code",
   "execution_count": 13,
   "metadata": {
    "colab": {
     "base_uri": "https://localhost:8080/",
     "height": 279
    },
    "id": "Ziuhe3mbKKp6",
    "outputId": "53ad6787-0e5c-4e3d-8b45-18a7cbe291f4"
   },
   "outputs": [
    {
     "data": {
      "image/png": "[encoded data removed]",
      "text/plain": [
       "<Figure size 432x288 with 1 Axes>"
      ]
     },
     "metadata": {
      "needs_background": "light"
     },
     "output_type": "display_data"
    }
   ],
   "source": [
    "plt.plot(np.cumsum(pc3.explained_variance_ratio_))\n",
    "plt.xlabel('Num Components')\n",
    "plt.ylabel('Cumulative Explained Variance');"
   ]
  },
  {
   "cell_type": "markdown",
   "metadata": {
    "id": "8chyoEa8kTTN"
   },
   "source": [
    "Scaling the Data"
   ]
  },
  {
   "cell_type": "code",
   "execution_count": 34,
   "metadata": {
    "id": "-icU5T0_emvc"
   },
   "outputs": [],
   "source": [
    "#Data with only closing prices\n",
    "from sklearn.preprocessing import MinMaxScaler\n",
    "scl = MinMaxScaler()\n",
    "scale = MinMaxScaler()\n",
    "array_train = scl.fit_transform(array_train)\n",
    "array_test  = scale.fit_transform(array_test) #[0,1]\n",
    "\n",
    "#Full features dataset; reducing dimensionality here\n",
    "from sklearn.decomposition import PCA\n",
    "pcTrain_scl = MinMaxScaler()\n",
    "pcTest_scl  = MinMaxScaler()\n",
    "pcaTrain = PCA(n_components = 100)\n",
    "pcaTest = PCA(n_components = 100)\n",
    "\n",
    "PCA_train = pcTrain_scl.fit_transform(PCA_train)\n",
    "PCA_train = pcaTrain.fit_transform(PCA_train)\n",
    "\n",
    "PCA_test = pcTest_scl.fit_transform(PCA_test)\n",
    "PCA_test = pcaTest.fit_transform(PCA_test)"
   ]
  },
  {
   "cell_type": "code",
   "execution_count": 35,
   "metadata": {
    "colab": {
     "base_uri": "https://localhost:8080/"
    },
    "id": "BPHO3_pyGy9K",
    "outputId": "1c0dfa95-9486-4a39-9afb-afaef77219de"
   },
   "outputs": [
    {
     "name": "stdout",
     "output_type": "stream",
     "text": [
      "(3808, 100)\n",
      "(3808, 100)\n"
     ]
    }
   ],
   "source": [
    "print(array_train.shape)\n",
    "print(PCA_train.shape)"
   ]
  },
  {
   "cell_type": "markdown",
   "metadata": {
    "id": "i1iTlZlxkWZE"
   },
   "source": [
    "Creating function to iteravely process data"
   ]
  },
  {
   "cell_type": "code",
   "execution_count": 36,
   "metadata": {
    "id": "fZ8VfGa5fYP9"
   },
   "outputs": [],
   "source": [
    "#Get the data and splits in input X and output Y, by spliting in lookback number of past days as input X \n",
    "#and horizon number of coming days as Y.\n",
    "def processData(data, lookback, horizon,num_companies,jump=1):\n",
    "    X,Y = [],[]\n",
    "    for i in range(0,len(data) -lookback - horizon +1, jump):\n",
    "        X.append(data[i:(i+lookback)])\n",
    "        Y.append(data[(i+lookback):(i+lookback+horizon)])\n",
    "    return np.array(X),np.array(Y)"
   ]
  },
  {
   "cell_type": "markdown",
   "metadata": {
    "id": "SZiM9hJika9w"
   },
   "source": [
    "Setting lookback and horizon window sizes"
   ]
  },
  {
   "cell_type": "code",
   "execution_count": 37,
   "metadata": {
    "id": "8Vivvsu4fqir"
   },
   "outputs": [],
   "source": [
    "num_companies = df_close.shape[1]\n",
    "lookback = 252 #How many days of the past can the model see\n",
    "horizon = 22 #How many days into the future are we trying to predict"
   ]
  },
  {
   "cell_type": "markdown",
   "metadata": {
    "id": "Zb-UTFsMke_E"
   },
   "source": [
    "Further splitting the train data into training and validation sets"
   ]
  },
  {
   "cell_type": "code",
   "execution_count": 38,
   "metadata": {
    "id": "aREefEBhgC65"
   },
   "outputs": [],
   "source": [
    "# Formation of lookback dataframes and forward dataframes for training, and testing dataset\n",
    "# to calculate accuracy\n",
    "\n",
    "#Testing Data\n",
    "X_test, void = processData(PCA_test,lookback,horizon,num_companies,horizon)\n",
    "void, y_test = processData(array_test,lookback,horizon,num_companies,horizon) \n",
    "y_test = np.array([list(a.ravel()) for a in y_test])\n",
    "\n",
    "#Training/Validation Data\n",
    "X_PCA, void = processData(PCA_train,lookback,horizon,num_companies)\n",
    "void, y = processData(array_train,lookback,horizon,num_companies)\n",
    "y = np.array([list(x.ravel()) for x in y])\n",
    "\n",
    "X_train, X_validate, y_train, y_validate = train_test_split(X_PCA, y, test_size=0.20, random_state=1)"
   ]
  },
  {
   "cell_type": "code",
   "execution_count": 39,
   "metadata": {
    "colab": {
     "base_uri": "https://localhost:8080/"
    },
    "id": "7oOTwlWNjdFD",
    "outputId": "fc219f67-61d3-441b-b272-d8ea32fceff3"
   },
   "outputs": [
    {
     "data": {
      "text/plain": [
       "382.0"
      ]
     },
     "execution_count": 39,
     "metadata": {},
     "output_type": "execute_result"
    }
   ],
   "source": [
    "8404/22\n",
    "#Length y_train/test/validate / forward window == # of features"
   ]
  },
  {
   "cell_type": "code",
   "execution_count": 40,
   "metadata": {
    "colab": {
     "base_uri": "https://localhost:8080/"
    },
    "id": "kFaWQ9tOgsEj",
    "outputId": "a17884c8-2384-47e3-acc4-c3fc282621ff"
   },
   "outputs": [
    {
     "name": "stdout",
     "output_type": "stream",
     "text": [
      "(2828, 252, 100)\n",
      "(707, 252, 100)\n",
      "(31, 252, 100)\n",
      "(2828, 2200)\n",
      "(707, 2200)\n",
      "(31, 2200)\n"
     ]
    }
   ],
   "source": [
    "print(X_train.shape)\n",
    "print(X_validate.shape)\n",
    "print(X_test.shape)\n",
    "print(y_train.shape)\n",
    "print(y_validate.shape)\n",
    "print(y_test.shape)\n",
    "#(Sample,Timestep,Features)"
   ]
  },
  {
   "cell_type": "markdown",
   "metadata": {
    "id": "GmtMFE_vg7-Y"
   },
   "source": [
    "## Model Architecture + Training\n",
    "\n",
    "Here, we can input the number or neurons on each layer, change the level of dropout, and set the specifications for early dropout. The model is then trained and the learning curve is plotted below."
   ]
  },
  {
   "cell_type": "code",
   "execution_count": 41,
   "metadata": {
    "id": "g7ePss4QhIQe"
   },
   "outputs": [],
   "source": [
    "from keras.models import Sequential, load_model\n",
    "import tensorflow as tf\n",
    "from keras.layers import LSTM,Dense,Activation,Attention,Dropout\n",
    "from tensorflow.keras.callbacks import EarlyStopping\n",
    "from tensorflow.keras.regularizers import Regularizer\n",
    "from keras import optimizers\n",
    "\n",
    "#Model Architecture - Two LSTM layers with x neurons & y epochs\n",
    "num_neurons_L1 = 800\n",
    "num_neurons_L2 = 600\n",
    "num_neurons_dense1 = 200\n",
    "EPOCHS = 100\n",
    "\n",
    "#Model\n",
    "model = Sequential()\n",
    "\n",
    "model.add(LSTM(num_neurons_L1,input_shape=(lookback,num_companies), return_sequences=True))\n",
    "model.add(LSTM(num_neurons_L2,input_shape=(num_neurons_L1,1)))\n",
    "model.add(Dense(horizon * num_companies, activation = 'relu'))\n",
    "model.add(Dense(horizon * num_companies, activation = 'sigmoid'))\n",
    "\n",
    "model.compile(loss='mean_squared_error', optimizer='adam', metrics = ['accuracy'])"
   ]
  },
  {
   "cell_type": "code",
   "execution_count": null,
   "metadata": {
    "colab": {
     "base_uri": "https://localhost:8080/"
    },
    "id": "XU47phEEh0nb",
    "outputId": "5c2f896b-943c-4a16-c7f6-f89079fdd72a"
   },
   "outputs": [
    {
     "name": "stdout",
     "output_type": "stream",
     "text": [
      "Epoch 1/100\n",
      "12/12 - 364s - loss: 0.0618 - accuracy: 0.0032 - val_loss: 0.0393 - val_accuracy: 0.0014 - 364s/epoch - 30s/step\n",
      "Epoch 2/100\n",
      "12/12 - 313s - loss: 0.0396 - accuracy: 0.0050 - val_loss: 0.0365 - val_accuracy: 0.0000e+00 - 313s/epoch - 26s/step\n",
      "Epoch 3/100\n",
      "12/12 - 349s - loss: 0.0405 - accuracy: 0.0011 - val_loss: 0.0371 - val_accuracy: 0.0014 - 349s/epoch - 29s/step\n",
      "Epoch 4/100\n",
      "12/12 - 347s - loss: 0.0407 - accuracy: 0.0025 - val_loss: 0.0375 - val_accuracy: 0.0014 - 347s/epoch - 29s/step\n",
      "Epoch 5/100\n",
      "12/12 - 401s - loss: 0.0407 - accuracy: 0.0018 - val_loss: 0.0377 - val_accuracy: 0.0014 - 401s/epoch - 33s/step\n",
      "Epoch 6/100\n",
      "12/12 - 2227s - loss: 0.0405 - accuracy: 0.0014 - val_loss: 0.0372 - val_accuracy: 0.0000e+00 - 2227s/epoch - 186s/step\n",
      "Epoch 7/100\n",
      "12/12 - 728s - loss: 0.0405 - accuracy: 0.0021 - val_loss: 0.0376 - val_accuracy: 0.0000e+00 - 728s/epoch - 61s/step\n",
      "Epoch 8/100\n",
      "12/12 - 861s - loss: 0.0401 - accuracy: 0.0021 - val_loss: 0.0368 - val_accuracy: 0.0000e+00 - 861s/epoch - 72s/step\n",
      "Epoch 9/100\n",
      "12/12 - 1126s - loss: 0.0405 - accuracy: 0.0025 - val_loss: 0.0410 - val_accuracy: 0.0000e+00 - 1126s/epoch - 94s/step\n",
      "Epoch 10/100\n",
      "12/12 - 1190s - loss: 0.0399 - accuracy: 0.0014 - val_loss: 0.0287 - val_accuracy: 0.0000e+00 - 1190s/epoch - 99s/step\n",
      "Epoch 11/100\n",
      "12/12 - 1196s - loss: 0.0481 - accuracy: 0.0025 - val_loss: 0.0404 - val_accuracy: 0.0000e+00 - 1196s/epoch - 100s/step\n",
      "Epoch 12/100\n"
     ]
    }
   ],
   "source": [
    "# Early stopping severly *underfits* the data, we are going for better results\n",
    "\n",
    "# early_stopping = EarlyStopping(\n",
    "#     monitor='val_loss', \n",
    "#     patience=11, \n",
    "#     min_delta=0.000000001, \n",
    "#     mode='max'\n",
    "# )\n",
    "\n",
    "history = model.fit(X_train,y_train,epochs=EPOCHS,\n",
    "                    validation_data=(X_validate,y_validate),\n",
    "                    shuffle=False,batch_size=256, verbose=2)"
   ]
  },
  {
   "cell_type": "markdown",
   "metadata": {
    "id": "3PJ1N9Bunuge"
   },
   "source": [
    "Plotting the learning curve - Loss"
   ]
  },
  {
   "cell_type": "code",
   "execution_count": 31,
   "metadata": {
    "colab": {
     "base_uri": "https://localhost:8080/",
     "height": 592
    },
    "id": "ZR2v6RStjjLj",
    "outputId": "f39818f3-6e06-4ac3-b626-a28e684386e8"
   },
   "outputs": [
    {
     "ename": "NameError",
     "evalue": "name 'history' is not defined",
     "output_type": "error",
     "traceback": [
      "\u001b[1;31m---------------------------------------------------------------------------\u001b[0m",
      "\u001b[1;31mNameError\u001b[0m                                 Traceback (most recent call last)",
      "\u001b[1;32m<ipython-input-31-2adfb3409c41>\u001b[0m in \u001b[0;36m<module>\u001b[1;34m\u001b[0m\n\u001b[0;32m      1\u001b[0m \u001b[0mplt\u001b[0m\u001b[1;33m.\u001b[0m\u001b[0mfigure\u001b[0m\u001b[1;33m(\u001b[0m\u001b[0mfigsize\u001b[0m \u001b[1;33m=\u001b[0m \u001b[1;33m(\u001b[0m\u001b[1;36m15\u001b[0m\u001b[1;33m,\u001b[0m\u001b[1;36m10\u001b[0m\u001b[1;33m)\u001b[0m\u001b[1;33m)\u001b[0m\u001b[1;33m\u001b[0m\u001b[1;33m\u001b[0m\u001b[0m\n\u001b[0;32m      2\u001b[0m \u001b[1;33m\u001b[0m\u001b[0m\n\u001b[1;32m----> 3\u001b[1;33m \u001b[0mplt\u001b[0m\u001b[1;33m.\u001b[0m\u001b[0mplot\u001b[0m\u001b[1;33m(\u001b[0m\u001b[0mhistory\u001b[0m\u001b[1;33m.\u001b[0m\u001b[0mhistory\u001b[0m\u001b[1;33m[\u001b[0m\u001b[1;34m'loss'\u001b[0m\u001b[1;33m]\u001b[0m\u001b[1;33m,\u001b[0m \u001b[0mlabel\u001b[0m\u001b[1;33m=\u001b[0m\u001b[1;34m'loss'\u001b[0m\u001b[1;33m)\u001b[0m\u001b[1;33m\u001b[0m\u001b[1;33m\u001b[0m\u001b[0m\n\u001b[0m\u001b[0;32m      4\u001b[0m \u001b[0mplt\u001b[0m\u001b[1;33m.\u001b[0m\u001b[0mplot\u001b[0m\u001b[1;33m(\u001b[0m\u001b[0mhistory\u001b[0m\u001b[1;33m.\u001b[0m\u001b[0mhistory\u001b[0m\u001b[1;33m[\u001b[0m\u001b[1;34m'val_loss'\u001b[0m\u001b[1;33m]\u001b[0m\u001b[1;33m,\u001b[0m \u001b[0mlabel\u001b[0m\u001b[1;33m=\u001b[0m\u001b[1;34m'val_loss'\u001b[0m\u001b[1;33m)\u001b[0m\u001b[1;33m\u001b[0m\u001b[1;33m\u001b[0m\u001b[0m\n\u001b[0;32m      5\u001b[0m \u001b[0mplt\u001b[0m\u001b[1;33m.\u001b[0m\u001b[0mlegend\u001b[0m\u001b[1;33m(\u001b[0m\u001b[0mloc\u001b[0m\u001b[1;33m=\u001b[0m\u001b[1;34m'best'\u001b[0m\u001b[1;33m)\u001b[0m\u001b[1;33m\u001b[0m\u001b[1;33m\u001b[0m\u001b[0m\n",
      "\u001b[1;31mNameError\u001b[0m: name 'history' is not defined"
     ]
    },
    {
     "data": {
      "text/plain": [
       "<Figure size 1080x720 with 0 Axes>"
      ]
     },
     "metadata": {},
     "output_type": "display_data"
    }
   ],
   "source": [
    "plt.figure(figsize = (15,10))\n",
    "\n",
    "plt.plot(history.history['loss'], label='loss')\n",
    "plt.plot(history.history['val_loss'], label='val_loss')\n",
    "plt.legend(loc='best')\n",
    "plt.show()"
   ]
  },
  {
   "cell_type": "code",
   "execution_count": null,
   "metadata": {
    "colab": {
     "base_uri": "https://localhost:8080/",
     "height": 592
    },
    "id": "nvi8zQkMT8wj",
    "outputId": "9ee1906c-95eb-4f66-e559-edc84f6da159"
   },
   "outputs": [
    {
     "ename": "",
     "evalue": "",
     "output_type": "error",
     "traceback": [
      "\u001b[1;31mRunning cells with 'Python 3.8.8 ('base')' requires ipykernel package.\n",
      "\u001b[1;31mRun the following command to install 'ipykernel' into the Python environment. \n",
      "\u001b[1;31mCommand: 'conda install -n base ipykernel --update-deps --force-reinstall'"
     ]
    }
   ],
   "source": [
    "plt.figure(figsize = (15,10))\n",
    "\n",
    "plt.plot(history.history['accuracy'], label='accuracy')\n",
    "plt.plot(history.history['val_accuracy'], label='val_accuracy')\n",
    "plt.legend(loc='best')\n",
    "plt.show()"
   ]
  },
  {
   "cell_type": "markdown",
   "metadata": {
    "id": "LWQeHzFijuTn"
   },
   "source": [
    "### Predicting Test Results"
   ]
  },
  {
   "cell_type": "code",
   "execution_count": null,
   "metadata": {
    "colab": {
     "base_uri": "https://localhost:8080/"
    },
    "id": "zTwvIkOVjxPK",
    "outputId": "f342324a-d33a-48ee-f978-1812cdd591f6"
   },
   "outputs": [
    {
     "ename": "",
     "evalue": "",
     "output_type": "error",
     "traceback": [
      "\u001b[1;31mRunning cells with 'Python 3.8.8 ('base')' requires ipykernel package.\n",
      "\u001b[1;31mRun the following command to install 'ipykernel' into the Python environment. \n",
      "\u001b[1;31mCommand: 'conda install -n base ipykernel --update-deps --force-reinstall'"
     ]
    }
   ],
   "source": [
    "X_test, void = processData(PCA_test,lookback,horizon,num_companies,horizon)\n",
    "void, y_test = processData(array_test,lookback,horizon,num_companies,horizon) \n",
    "y_test = np.array([list(a.ravel()) for a in y_test])\n",
    "\n",
    "\n",
    "Xt = model.predict(X_test)\n",
    "Xt.shape"
   ]
  },
  {
   "cell_type": "markdown",
   "metadata": {
    "id": "q-MFu8-Wj26n"
   },
   "source": [
    "### Un-scaling the data and returning data to original shape\n",
    "Because the results were scaled to train the model, the output is non sensible until we return the data into its original form"
   ]
  },
  {
   "cell_type": "code",
   "execution_count": null,
   "metadata": {
    "id": "YCZa7bH3nrrG"
   },
   "outputs": [
    {
     "ename": "",
     "evalue": "",
     "output_type": "error",
     "traceback": [
      "\u001b[1;31mRunning cells with 'Python 3.8.8 ('base')' requires ipykernel package.\n",
      "\u001b[1;31mRun the following command to install 'ipykernel' into the Python environment. \n",
      "\u001b[1;31mCommand: 'conda install -n base ipykernel --update-deps --force-reinstall'"
     ]
    }
   ],
   "source": [
    "#Aux function 1\n",
    "def do_inverse_transform(output_result,num_companies):\n",
    "    #transform to input shape\n",
    "    original_matrix_format = []\n",
    "    for result in output_result:\n",
    "        #do inverse transform\n",
    "        original_matrix_format.append(scl.inverse_transform([result[x:x+num_companies] for x in range(0, len(result), num_companies)]))\n",
    "    original_matrix_format = np.array(original_matrix_format)\n",
    "    \n",
    "    #restore to original shape\n",
    "    for i in range(len(original_matrix_format)):\n",
    "        output_result[i] = original_matrix_format[i].ravel()\n",
    "\n",
    "    return output_result"
   ]
  },
  {
   "cell_type": "code",
   "execution_count": null,
   "metadata": {
    "id": "m4IeTsnRoMmt"
   },
   "outputs": [
    {
     "ename": "",
     "evalue": "",
     "output_type": "error",
     "traceback": [
      "\u001b[1;31mRunning cells with 'Python 3.8.8 ('base')' requires ipykernel package.\n",
      "\u001b[1;31mRun the following command to install 'ipykernel' into the Python environment. \n",
      "\u001b[1;31mCommand: 'conda install -n base ipykernel --update-deps --force-reinstall'"
     ]
    }
   ],
   "source": [
    "#Aux function 2\n",
    "def prediction_by_step_by_company(raw_model_output, num_companies):\n",
    "    matrix_prediction = []\n",
    "    for i in range(0,num_companies):\n",
    "        matrix_prediction.append([[lista[j] for j in range(i,len(lista),num_companies)] for lista in raw_model_output])\n",
    "    return np.array(matrix_prediction)"
   ]
  },
  {
   "cell_type": "code",
   "execution_count": null,
   "metadata": {
    "id": "WUNBSxTNonPf"
   },
   "outputs": [
    {
     "ename": "",
     "evalue": "",
     "output_type": "error",
     "traceback": [
      "\u001b[1;31mRunning cells with 'Python 3.8.8 ('base')' requires ipykernel package.\n",
      "\u001b[1;31mRun the following command to install 'ipykernel' into the Python environment. \n",
      "\u001b[1;31mCommand: 'conda install -n base ipykernel --update-deps --force-reinstall'"
     ]
    }
   ],
   "source": [
    "#Aux function 3\n",
    "def target_by_company(raw_model_output, num_companies):\n",
    "    matrix_target = [[] for x in range(num_companies)]\n",
    "    \n",
    "    for output in raw_model_output:\n",
    "        for i in range (num_companies):\n",
    "            for j in range(0,len(output),num_companies):\n",
    "                matrix_target[i].append(output[i+j])\n",
    "    return np.array(matrix_target)"
   ]
  },
  {
   "cell_type": "code",
   "execution_count": null,
   "metadata": {
    "colab": {
     "base_uri": "https://localhost:8080/"
    },
    "id": "xUwRD23joasO",
    "outputId": "40d23890-986f-4c3a-a18a-c44567c802b7"
   },
   "outputs": [
    {
     "ename": "",
     "evalue": "",
     "output_type": "error",
     "traceback": [
      "\u001b[1;31mRunning cells with 'Python 3.8.8 ('base')' requires ipykernel package.\n",
      "\u001b[1;31mRun the following command to install 'ipykernel' into the Python environment. \n",
      "\u001b[1;31mCommand: 'conda install -n base ipykernel --update-deps --force-reinstall'"
     ]
    }
   ],
   "source": [
    "Xt = do_inverse_transform(Xt, num_companies)\n",
    "predictions = prediction_by_step_by_company(Xt, num_companies)\n",
    "predictions.shape"
   ]
  },
  {
   "cell_type": "code",
   "execution_count": null,
   "metadata": {
    "colab": {
     "base_uri": "https://localhost:8080/"
    },
    "id": "KwnpZOfKouQ7",
    "outputId": "a3f4c92b-2ee9-47db-f0cd-6d2f75f98c33"
   },
   "outputs": [
    {
     "ename": "",
     "evalue": "",
     "output_type": "error",
     "traceback": [
      "\u001b[1;31mRunning cells with 'Python 3.8.8 ('base')' requires ipykernel package.\n",
      "\u001b[1;31mRun the following command to install 'ipykernel' into the Python environment. \n",
      "\u001b[1;31mCommand: 'conda install -n base ipykernel --update-deps --force-reinstall'"
     ]
    }
   ],
   "source": [
    "Yt = do_inverse_transform(y_test, num_companies)\n",
    "\n",
    "actuals = target_by_company(Yt, num_companies)\n",
    "actuals.shape"
   ]
  },
  {
   "cell_type": "markdown",
   "metadata": {
    "id": "8Na0yhNFp0iW"
   },
   "source": [
    "### Prediction Results on Test Data - Plot"
   ]
  },
  {
   "cell_type": "code",
   "execution_count": null,
   "metadata": {
    "colab": {
     "base_uri": "https://localhost:8080/",
     "height": 593
    },
    "id": "taD2NcrysbYw",
    "outputId": "2426316a-cd07-4d6f-8079-a799ee11bf1c"
   },
   "outputs": [
    {
     "ename": "",
     "evalue": "",
     "output_type": "error",
     "traceback": [
      "\u001b[1;31mRunning cells with 'Python 3.8.8 ('base')' requires ipykernel package.\n",
      "\u001b[1;31mRun the following command to install 'ipykernel' into the Python environment. \n",
      "\u001b[1;31mCommand: 'conda install -n base ipykernel --update-deps --force-reinstall'"
     ]
    }
   ],
   "source": [
    "plt.figure(figsize = (15,10))\n",
    "\n",
    "companies_to_show = [2] \n",
    "colors = ['r','g','c','m','y','k','w','b']\n",
    "companies_names = ['A', 'AAPL', 'ABC', 'ABMD']\n",
    " \n",
    "for id_company in companies_to_show:\n",
    "    for i in range(0,len(predictions[id_company])):\n",
    "        plt.plot([x + i*horizon for x in range(len(predictions[id_company][i]))], predictions[id_company][i], color=colors[id_company])\n",
    "    plt.plot(0,predictions[id_company][0][0] ,color=colors[id_company], label='predict_{}'.format(companies_names[id_company])) #only to place the label\n",
    "\n",
    "   \n",
    "\n",
    "for id_company in companies_to_show:\n",
    "    plt.plot(actuals[id_company], label='target_{}'.format(companies_names[id_company]))\n",
    "\n",
    "plt.legend(loc='best')\n",
    "plt.show()"
   ]
  },
  {
   "cell_type": "code",
   "execution_count": null,
   "metadata": {
    "id": "ZQDxv1cYQZlU"
   },
   "outputs": [
    {
     "ename": "",
     "evalue": "",
     "output_type": "error",
     "traceback": [
      "\u001b[1;31mRunning cells with 'Python 3.8.8 ('base')' requires ipykernel package.\n",
      "\u001b[1;31mRun the following command to install 'ipykernel' into the Python environment. \n",
      "\u001b[1;31mCommand: 'conda install -n base ipykernel --update-deps --force-reinstall'"
     ]
    }
   ],
   "source": [
    "full_PCA = np.concatenate((PCA_train,PCA_test),axis = 0)"
   ]
  },
  {
   "cell_type": "code",
   "execution_count": null,
   "metadata": {
    "id": "ZeFZszhKo9j5"
   },
   "outputs": [
    {
     "ename": "",
     "evalue": "",
     "output_type": "error",
     "traceback": [
      "\u001b[1;31mRunning cells with 'Python 3.8.8 ('base')' requires ipykernel package.\n",
      "\u001b[1;31mRun the following command to install 'ipykernel' into the Python environment. \n",
      "\u001b[1;31mCommand: 'conda install -n base ipykernel --update-deps --force-reinstall'"
     ]
    }
   ],
   "source": [
    "X_all,void = processData(full_PCA,lookback,horizon,num_companies,horizon)\n",
    "void,y_all = processData(scl.fit_transform(df_close),lookback,horizon,num_companies,horizon)\n",
    "y_all = np.array([list(a.ravel()) for a in y_all])"
   ]
  },
  {
   "cell_type": "code",
   "execution_count": null,
   "metadata": {
    "colab": {
     "base_uri": "https://localhost:8080/"
    },
    "id": "mx5EfjXMpdZm",
    "outputId": "bc3f783c-225f-418f-eb46-3ae9636efb6d"
   },
   "outputs": [
    {
     "ename": "",
     "evalue": "",
     "output_type": "error",
     "traceback": [
      "\u001b[1;31mRunning cells with 'Python 3.8.8 ('base')' requires ipykernel package.\n",
      "\u001b[1;31mRun the following command to install 'ipykernel' into the Python environment. \n",
      "\u001b[1;31mCommand: 'conda install -n base ipykernel --update-deps --force-reinstall'"
     ]
    }
   ],
   "source": [
    "Xt = model.predict(X_all)\n",
    "Xt.shape"
   ]
  },
  {
   "cell_type": "code",
   "execution_count": null,
   "metadata": {
    "colab": {
     "base_uri": "https://localhost:8080/"
    },
    "id": "mZOuyY6gplgY",
    "outputId": "b835bf7c-c29d-4340-fd45-8b23b033b81c"
   },
   "outputs": [
    {
     "ename": "",
     "evalue": "",
     "output_type": "error",
     "traceback": [
      "\u001b[1;31mRunning cells with 'Python 3.8.8 ('base')' requires ipykernel package.\n",
      "\u001b[1;31mRun the following command to install 'ipykernel' into the Python environment. \n",
      "\u001b[1;31mCommand: 'conda install -n base ipykernel --update-deps --force-reinstall'"
     ]
    }
   ],
   "source": [
    "Xt = do_inverse_transform(Xt, num_companies)\n",
    "\n",
    "predictions = prediction_by_step_by_company(Xt, num_companies)\n",
    "predictions.shape"
   ]
  },
  {
   "cell_type": "code",
   "execution_count": null,
   "metadata": {
    "colab": {
     "base_uri": "https://localhost:8080/"
    },
    "id": "5Q1JgTd2pq1R",
    "outputId": "f48f3299-c2ca-498a-b956-782c10cd7783"
   },
   "outputs": [
    {
     "ename": "",
     "evalue": "",
     "output_type": "error",
     "traceback": [
      "\u001b[1;31mRunning cells with 'Python 3.8.8 ('base')' requires ipykernel package.\n",
      "\u001b[1;31mRun the following command to install 'ipykernel' into the Python environment. \n",
      "\u001b[1;31mCommand: 'conda install -n base ipykernel --update-deps --force-reinstall'"
     ]
    }
   ],
   "source": [
    "Yt = do_inverse_transform(y_all, num_companies)\n",
    "\n",
    "actuals = target_by_company(Yt, num_companies)\n",
    "actuals.shape"
   ]
  },
  {
   "cell_type": "markdown",
   "metadata": {
    "id": "vyYKDoDFp8QI"
   },
   "source": [
    "### Prediction Results on Full Data - Plot"
   ]
  },
  {
   "cell_type": "code",
   "execution_count": null,
   "metadata": {
    "colab": {
     "base_uri": "https://localhost:8080/",
     "height": 395
    },
    "id": "E-CdUYZipvpo",
    "outputId": "f7953048-8b70-4022-d73e-0fc1bfa6c2af"
   },
   "outputs": [
    {
     "ename": "",
     "evalue": "",
     "output_type": "error",
     "traceback": [
      "\u001b[1;31mRunning cells with 'Python 3.8.8 ('base')' requires ipykernel package.\n",
      "\u001b[1;31mRun the following command to install 'ipykernel' into the Python environment. \n",
      "\u001b[1;31mCommand: 'conda install -n base ipykernel --update-deps --force-reinstall'"
     ]
    }
   ],
   "source": [
    "plt.figure(figsize = (40,10))\n",
    "\n",
    "companies_to_show = [2] #Type a number between 0:4 to see 4 different companies\n",
    "colors = ['r','g','c','m','y','k','w','b']\n",
    "companies_names = ['A', 'B', 'C', 'D']\n",
    "\n",
    "    \n",
    "for id_company in companies_to_show:\n",
    "    for i in range(0,len(predictions[id_company])):\n",
    "        plt.plot([x + i*horizon for x in range(len(predictions[id_company][i]))], predictions[id_company][i], color=colors[id_company])\n",
    "    plt.plot(0,predictions[id_company][0][0] ,color=colors[id_company], label='predict_{}'.format(companies_names[id_company])) #only to place the label\n",
    "\n",
    "   \n",
    "\n",
    "for id_company in companies_to_show:\n",
    "    plt.plot(actuals[id_company], label='target_{}'.format(companies_names[id_company]))\n",
    "\n",
    "plt.legend(loc='best')\n",
    "plt.show()\n",
    "\n",
    "##QQ-plot"
   ]
  },
  {
   "cell_type": "markdown",
   "metadata": {
    "id": "rAKKjncvLPb2"
   },
   "source": [
    "# Stock Prices Predictions"
   ]
  },
  {
   "cell_type": "code",
   "execution_count": null,
   "metadata": {
    "colab": {
     "base_uri": "https://localhost:8080/"
    },
    "id": "JhOmsdNhLO1c",
    "outputId": "3490b02c-17f6-4ec0-dd4a-70a8e702c4b9"
   },
   "outputs": [
    {
     "ename": "",
     "evalue": "",
     "output_type": "error",
     "traceback": [
      "\u001b[1;31mRunning cells with 'Python 3.8.8 ('base')' requires ipykernel package.\n",
      "\u001b[1;31mRun the following command to install 'ipykernel' into the Python environment. \n",
      "\u001b[1;31mCommand: 'conda install -n base ipykernel --update-deps --force-reinstall'"
     ]
    }
   ],
   "source": [
    "predicted_prices = np.zeros((predictions.shape[1]*predictions.shape[2],predictions.shape[0]))\n",
    "# actual_prices = []\n",
    "\n",
    "for i in range(predictions.shape[0]):\n",
    "  counter = 0\n",
    "  for j in range(predictions.shape[1]):\n",
    "    for z in range(predictions.shape[2]):\n",
    "      predicted_prices[counter, i] = predictions[i,j,z]\n",
    "      counter+=1\n",
    "\n",
    "print(counter)"
   ]
  },
  {
   "cell_type": "code",
   "execution_count": null,
   "metadata": {
    "id": "Nb-cYBcyUioe"
   },
   "outputs": [
    {
     "ename": "",
     "evalue": "",
     "output_type": "error",
     "traceback": [
      "\u001b[1;31mRunning cells with 'Python 3.8.8 ('base')' requires ipykernel package.\n",
      "\u001b[1;31mRun the following command to install 'ipykernel' into the Python environment. \n",
      "\u001b[1;31mCommand: 'conda install -n base ipykernel --update-deps --force-reinstall'"
     ]
    }
   ],
   "source": [
    "actuals_prices = actuals[:,:4488].T"
   ]
  },
  {
   "cell_type": "code",
   "execution_count": null,
   "metadata": {
    "colab": {
     "base_uri": "https://localhost:8080/"
    },
    "id": "ATR5Q-ypOkIV",
    "outputId": "fc1cdcd8-6959-427b-e758-890395bf944f"
   },
   "outputs": [
    {
     "ename": "",
     "evalue": "",
     "output_type": "error",
     "traceback": [
      "\u001b[1;31mRunning cells with 'Python 3.8.8 ('base')' requires ipykernel package.\n",
      "\u001b[1;31mRun the following command to install 'ipykernel' into the Python environment. \n",
      "\u001b[1;31mCommand: 'conda install -n base ipykernel --update-deps --force-reinstall'"
     ]
    }
   ],
   "source": [
    "print(predicted_prices.shape)\n",
    "print(actuals_prices.shape)\n",
    "print(dates.shape)\n",
    "#(lookback+1, )"
   ]
  },
  {
   "cell_type": "code",
   "execution_count": null,
   "metadata": {
    "colab": {
     "base_uri": "https://localhost:8080/"
    },
    "id": "FQXBQHNLVjVe",
    "outputId": "dd263a46-14f6-43fb-89c0-1de027b4d66c"
   },
   "outputs": [
    {
     "ename": "",
     "evalue": "",
     "output_type": "error",
     "traceback": [
      "\u001b[1;31mRunning cells with 'Python 3.8.8 ('base')' requires ipykernel package.\n",
      "\u001b[1;31mRun the following command to install 'ipykernel' into the Python environment. \n",
      "\u001b[1;31mCommand: 'conda install -n base ipykernel --update-deps --force-reinstall'"
     ]
    }
   ],
   "source": [
    "(5027-lookback+1)-4488"
   ]
  },
  {
   "cell_type": "code",
   "execution_count": null,
   "metadata": {
    "id": "wFdRyJe_LjkP"
   },
   "outputs": [
    {
     "ename": "",
     "evalue": "",
     "output_type": "error",
     "traceback": [
      "\u001b[1;31mRunning cells with 'Python 3.8.8 ('base')' requires ipykernel package.\n",
      "\u001b[1;31mRun the following command to install 'ipykernel' into the Python environment. \n",
      "\u001b[1;31mCommand: 'conda install -n base ipykernel --update-deps --force-reinstall'"
     ]
    }
   ],
   "source": [
    "# Need to remove certain days because we predict into the future. But, we aren't able to test these predicted days\n",
    "# against actual days in our porfolio optimization\n",
    "\n",
    "actual_prices = pd.DataFrame(data = actuals_prices, columns = stocks,index = dates[lookback+1:5028-287])\n",
    "predicted_prices = pd.DataFrame(data = predicted_prices,columns=stocks, index = dates[lookback+1:5028-287])"
   ]
  },
  {
   "cell_type": "code",
   "execution_count": null,
   "metadata": {
    "colab": {
     "base_uri": "https://localhost:8080/",
     "height": 640
    },
    "id": "qN3uK3RbWvEs",
    "outputId": "94887c92-af04-4107-cd43-e46f8e51bb74"
   },
   "outputs": [
    {
     "ename": "",
     "evalue": "",
     "output_type": "error",
     "traceback": [
      "\u001b[1;31mRunning cells with 'Python 3.8.8 ('base')' requires ipykernel package.\n",
      "\u001b[1;31mRun the following command to install 'ipykernel' into the Python environment. \n",
      "\u001b[1;31mCommand: 'conda install -n base ipykernel --update-deps --force-reinstall'"
     ]
    }
   ],
   "source": [
    "actual_prices"
   ]
  },
  {
   "cell_type": "code",
   "execution_count": null,
   "metadata": {
    "colab": {
     "base_uri": "https://localhost:8080/",
     "height": 640
    },
    "id": "omyPKMaxXILi",
    "outputId": "23189231-46e9-46ea-b3f3-249aa8412258"
   },
   "outputs": [
    {
     "ename": "",
     "evalue": "",
     "output_type": "error",
     "traceback": [
      "\u001b[1;31mRunning cells with 'Python 3.8.8 ('base')' requires ipykernel package.\n",
      "\u001b[1;31mRun the following command to install 'ipykernel' into the Python environment. \n",
      "\u001b[1;31mCommand: 'conda install -n base ipykernel --update-deps --force-reinstall'"
     ]
    }
   ],
   "source": [
    "predicted_prices"
   ]
  },
  {
   "cell_type": "code",
   "execution_count": null,
   "metadata": {
    "colab": {
     "base_uri": "https://localhost:8080/"
    },
    "id": "y_OJTX9qYNwp",
    "outputId": "7573e07f-08bb-4ac5-e1ee-6a6aebf428f4"
   },
   "outputs": [
    {
     "ename": "",
     "evalue": "",
     "output_type": "error",
     "traceback": [
      "\u001b[1;31mRunning cells with 'Python 3.8.8 ('base')' requires ipykernel package.\n",
      "\u001b[1;31mRun the following command to install 'ipykernel' into the Python environment. \n",
      "\u001b[1;31mCommand: 'conda install -n base ipykernel --update-deps --force-reinstall'"
     ]
    }
   ],
   "source": [
    "from google.colab import drive\n",
    "drive.mount('drive')"
   ]
  },
  {
   "cell_type": "code",
   "execution_count": null,
   "metadata": {
    "id": "rx4h8w3LYW-f"
   },
   "outputs": [
    {
     "ename": "",
     "evalue": "",
     "output_type": "error",
     "traceback": [
      "\u001b[1;31mRunning cells with 'Python 3.8.8 ('base')' requires ipykernel package.\n",
      "\u001b[1;31mRun the following command to install 'ipykernel' into the Python environment. \n",
      "\u001b[1;31mCommand: 'conda install -n base ipykernel --update-deps --force-reinstall'"
     ]
    }
   ],
   "source": [
    "predicted_prices.to_csv('PCA_Predicted_Prices1.csv')\n",
    "!cp PCA_Predicted_Prices1.csv \"drive/My Drive/Machine Learning Project/ML Section Exports\""
   ]
  },
  {
   "cell_type": "code",
   "execution_count": null,
   "metadata": {
    "id": "hykop5FIY1-o"
   },
   "outputs": [
    {
     "ename": "",
     "evalue": "",
     "output_type": "error",
     "traceback": [
      "\u001b[1;31mRunning cells with 'Python 3.8.8 ('base')' requires ipykernel package.\n",
      "\u001b[1;31mRun the following command to install 'ipykernel' into the Python environment. \n",
      "\u001b[1;31mCommand: 'conda install -n base ipykernel --update-deps --force-reinstall'"
     ]
    }
   ],
   "source": [
    "actual_prices.to_csv('PCA_Actual_Prices1.csv')\n",
    "!cp PCA_Actual_Prices1.csv \"drive/My Drive/Machine Learning Project/ML Section Exports\""
   ]
  }
 ],
 "metadata": {
  "accelerator": "GPU",
  "colab": {
   "collapsed_sections": [
    "P0nQZTjziHer",
    "LFmXplYiwLEP"
   ],
   "machine_shape": "hm",
   "name": "PCA + LSTM",
   "provenance": [],
   "toc_visible": true
  },
  "kernelspec": {
   "display_name": "Python 3",
   "language": "python",
   "name": "python3"
  },
  "language_info": {
   "codemirror_mode": {
    "name": "ipython",
    "version": 3
   },
   "file_extension": ".py",
   "mimetype": "text/x-python",
   "name": "python",
   "nbconvert_exporter": "python",
   "pygments_lexer": "ipython3",
   "version": "3.8.8"
  },
  "vscode": {
   "interpreter": {
    "hash": "a81e717453c1c9220bd2b0a92a440804623a7fd7d56f43b894f9685e24d7b501"
   }
  }
 },
 "nbformat": 4,
 "nbformat_minor": 1
}
